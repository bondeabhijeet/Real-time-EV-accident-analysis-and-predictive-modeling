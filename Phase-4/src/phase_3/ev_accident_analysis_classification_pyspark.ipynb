{
 "cells": [
  {
   "cell_type": "markdown",
   "id": "3faf9166",
   "metadata": {},
   "source": [
    "## 1. Import Required Libraries"
   ]
  },
  {
   "cell_type": "code",
   "execution_count": 1,
   "id": "9e5b4449",
   "metadata": {},
   "outputs": [
    {
     "name": "stderr",
     "output_type": "stream",
     "text": [
      "/Users/huiyu/Library/Python/3.9/lib/python/site-packages/tqdm/auto.py:21: TqdmWarning: IProgress not found. Please update jupyter and ipywidgets. See https://ipywidgets.readthedocs.io/en/stable/user_install.html\n",
      "  from .autonotebook import tqdm as notebook_tqdm\n"
     ]
    }
   ],
   "source": [
    "# PySpark libraries\n",
    "from pyspark.sql import SparkSession\n",
    "from pyspark.sql.functions import (\n",
    "    col, lit, when, to_timestamp, year, month, dayofmonth, hour, dayofweek,\n",
    "    udf, count, sum, avg, min, max, expr\n",
    ")\n",
    "from pyspark.sql.types import IntegerType, BooleanType, StringType, FloatType\n",
    "\n",
    "# PySpark ML libraries\n",
    "from pyspark.ml import Pipeline, PipelineModel\n",
    "from pyspark.ml.feature import (\n",
    "    StringIndexer, OneHotEncoder, VectorAssembler, StandardScaler,\n",
    "    Imputer, Bucketizer\n",
    ")\n",
    "from pyspark.ml.classification import (\n",
    "    LogisticRegression, RandomForestClassifier, GBTClassifier,\n",
    "    DecisionTreeClassifier, NaiveBayes\n",
    ")\n",
    "from pyspark.ml.evaluation import BinaryClassificationEvaluator, MulticlassClassificationEvaluator\n",
    "from pyspark.ml.tuning import ParamGridBuilder, CrossValidator\n",
    "\n",
    "# For SMOTE implementation\n",
    "from pyspark.ml.feature import VectorAssembler\n",
    "import numpy as np\n",
    "\n",
    "# Hyperparameter optimization library\n",
    "import optuna\n",
    "from optuna.visualization import plot_param_importances, plot_optimization_history\n",
    "\n",
    "# Visualization libraries\n",
    "import matplotlib.pyplot as plt\n",
    "import seaborn as sns\n",
    "import pandas as pd\n",
    "\n",
    "# Set visualization styles\n",
    "plt.style.use('ggplot')\n",
    "sns.set_palette('Set2')\n",
    "\n",
    "from imblearn.over_sampling import SMOTE\n",
    "from pyspark.ml.linalg import Vectors\n",
    "import builtins\n",
    "\n",
    "# Set random seed for reproducibility\n",
    "import random\n",
    "random.seed(42)"
   ]
  },
  {
   "cell_type": "markdown",
   "id": "2e3c3bf5",
   "metadata": {},
   "source": [
    "## 2. Initialize Spark Session"
   ]
  },
  {
   "cell_type": "code",
   "execution_count": 2,
   "id": "58ab8fe8",
   "metadata": {},
   "outputs": [
    {
     "name": "stderr",
     "output_type": "stream",
     "text": [
      "25/04/13 22:10:59 WARN Utils: Your hostname, Huis-Surface-Laptop-3.local resolves to a loopback address: 127.0.0.1; using 192.168.1.211 instead (on interface en0)\n",
      "25/04/13 22:10:59 WARN Utils: Set SPARK_LOCAL_IP if you need to bind to another address\n",
      "Setting default log level to \"WARN\".\n",
      "To adjust logging level use sc.setLogLevel(newLevel). For SparkR, use setLogLevel(newLevel).\n",
      "25/04/13 22:10:59 WARN NativeCodeLoader: Unable to load native-hadoop library for your platform... using builtin-java classes where applicable\n"
     ]
    },
    {
     "name": "stdout",
     "output_type": "stream",
     "text": [
      "Spark Version: 3.5.1\n"
     ]
    }
   ],
   "source": [
    "# Initialize Spark Session with increased timeout and memory settings\n",
    "spark = SparkSession.builder \\\n",
    "    .appName(\"EVAccidentAnalysis\") \\\n",
    "    .config(\"spark.driver.memory\", \"8g\") \\\n",
    "    .config(\"spark.executor.memory\", \"8g\") \\\n",
    "    .config(\"spark.sql.shuffle.partitions\", \"100\") \\\n",
    "    .config(\"spark.network.timeout\", \"600s\") \\\n",
    "    .config(\"spark.executor.heartbeatInterval\", \"120s\") \\\n",
    "    .config(\"spark.python.worker.timeout\", \"300\") \\\n",
    "    .config(\"spark.rpc.askTimeout\", \"300s\") \\\n",
    "    .config(\"spark.task.maxFailures\", \"4\") \\\n",
    "    .getOrCreate()\n",
    "\n",
    "# Set log level to minimize verbose output\n",
    "spark.sparkContext.setLogLevel(\"ERROR\")\n",
    "\n",
    "# Check Spark version\n",
    "print(f\"Spark Version: {spark.version}\")"
   ]
  },
  {
   "cell_type": "markdown",
   "id": "996b16cc",
   "metadata": {},
   "source": [
    "## 3. Loading and Initial Data Exploration"
   ]
  },
  {
   "cell_type": "code",
   "execution_count": 3,
   "id": "bd2daf7d",
   "metadata": {},
   "outputs": [
    {
     "name": "stdout",
     "output_type": "stream",
     "text": [
      "Dataset shape: (1748161, 29)\n",
      "\n",
      "Data schema:\n",
      "root\n",
      " |-- CRASH DATE & TIME: string (nullable = true)\n",
      " |-- BOROUGH: string (nullable = true)\n",
      " |-- ZIP CODE: integer (nullable = true)\n",
      " |-- LATITUDE: string (nullable = true)\n",
      " |-- LONGITUDE: string (nullable = true)\n",
      " |-- NUMBER OF PERSONS INJURED: string (nullable = true)\n",
      " |-- NUMBER OF PERSONS KILLED: string (nullable = true)\n",
      " |-- NUMBER OF PEDESTRIANS INJURED: string (nullable = true)\n",
      " |-- NUMBER OF PEDESTRIANS KILLED: string (nullable = true)\n",
      " |-- NUMBER OF CYCLIST INJURED: string (nullable = true)\n",
      " |-- NUMBER OF CYCLIST KILLED: string (nullable = true)\n",
      " |-- NUMBER OF MOTORIST INJURED: string (nullable = true)\n",
      " |-- NUMBER OF MOTORIST KILLED: string (nullable = true)\n",
      " |-- CONTRIBUTING FACTOR VEHICLE 1: string (nullable = true)\n",
      " |-- CONTRIBUTING FACTOR VEHICLE 2: string (nullable = true)\n",
      " |-- CONTRIBUTING FACTOR VEHICLE 3: string (nullable = true)\n",
      " |-- CONTRIBUTING FACTOR VEHICLE 4: string (nullable = true)\n",
      " |-- CONTRIBUTING FACTOR VEHICLE 5: string (nullable = true)\n",
      " |-- VEHICLE TYPE CODE 1: string (nullable = true)\n",
      " |-- VEHICLE TYPE CODE 2: string (nullable = true)\n",
      " |-- VEHICLE TYPE CODE 3: string (nullable = true)\n",
      " |-- VEHICLE TYPE CODE 4: string (nullable = true)\n",
      " |-- VEHICLE TYPE CODE 5: string (nullable = true)\n",
      " |-- Addresses: string (nullable = true)\n",
      " |-- Time of Day: string (nullable = true)\n",
      " |-- NLat: string (nullable = true)\n",
      " |-- NLong: string (nullable = true)\n",
      " |-- Location: string (nullable = true)\n",
      " |-- is_e_vehicle: string (nullable = true)\n",
      "\n",
      "+--------------------+---------+--------+---------+---------+-------------------------+------------------------+-----------------------------+----------------------------+-------------------------+------------------------+--------------------------+-------------------------+-----------------------------+-----------------------------+-----------------------------+-----------------------------+-----------------------------+-------------------+-------------------+-------------------+-------------------+-------------------+--------------------+-----------+----+-----+--------+------------+\n",
      "|   CRASH DATE & TIME|  BOROUGH|ZIP CODE| LATITUDE|LONGITUDE|NUMBER OF PERSONS INJURED|NUMBER OF PERSONS KILLED|NUMBER OF PEDESTRIANS INJURED|NUMBER OF PEDESTRIANS KILLED|NUMBER OF CYCLIST INJURED|NUMBER OF CYCLIST KILLED|NUMBER OF MOTORIST INJURED|NUMBER OF MOTORIST KILLED|CONTRIBUTING FACTOR VEHICLE 1|CONTRIBUTING FACTOR VEHICLE 2|CONTRIBUTING FACTOR VEHICLE 3|CONTRIBUTING FACTOR VEHICLE 4|CONTRIBUTING FACTOR VEHICLE 5|VEHICLE TYPE CODE 1|VEHICLE TYPE CODE 2|VEHICLE TYPE CODE 3|VEHICLE TYPE CODE 4|VEHICLE TYPE CODE 5|           Addresses|Time of Day|NLat|NLong|Location|is_e_vehicle|\n",
      "+--------------------+---------+--------+---------+---------+-------------------------+------------------------+-----------------------------+----------------------------+-------------------------+------------------------+--------------------------+-------------------------+-----------------------------+-----------------------------+-----------------------------+-----------------------------+-----------------------------+-------------------+-------------------+-------------------+-------------------+-------------------+--------------------+-----------+----+-----+--------+------------+\n",
      "|2017-04-05T14:25:...| brooklyn|   11224|40.579803|-73.97184|                        0|                       0|                            0|                           0|                        0|                       0|                         0|                        0|            pavement slippery|                  unspecified|                  unspecified|                  unspecified|                  unspecified|              truck|                suv|               NULL|               NULL|               NULL|west 5 street nep...|  afternoon|NULL| NULL|    NULL|       False|\n",
      "|2017-04-05T14:30:...|manhattan|   10014|40.732403| -74.0102|                        0|                       0|                            0|                           0|                        0|                       0|                         0|                        0|                  unspecified|                  unspecified|                  unspecified|                  unspecified|                  unspecified|              sedan|                bus|               NULL|               NULL|               NULL|west street new york|  afternoon|NULL| NULL|    NULL|       False|\n",
      "|2017-04-05T14:30:...|   queens|   11377|40.735435|-73.90286|                        0|                       0|                            0|                           0|                        0|                       0|                         0|                        0|                  unspecified|                  unspecified|                  unspecified|                  unspecified|                  unspecified|              sedan|               NULL|               NULL|               NULL|               NULL|51-14 63 street n...|  afternoon|NULL| NULL|    NULL|       False|\n",
      "|2017-04-05T14:30:...|manhattan|   10021| 40.76781|-73.96202|                        1|                       0|                            0|                           0|                        0|                       0|                         1|                        0|          physical disability|          physical disability|                  unspecified|                  unspecified|                  unspecified|              sedan|               taxi|               NULL|               NULL|               NULL|   3 avenue new york|  afternoon|NULL| NULL|    NULL|       False|\n",
      "|2017-04-05T14:30:...|manhattan|   10454|40.800594|-73.92862|                        2|                       0|                            0|                           0|                        0|                       0|                         2|                        0|         outside car distr...|         outside car distr...|                  unspecified|                  unspecified|                  unspecified|              sedan|              truck|               NULL|               NULL|               NULL|triborough bridge...|  afternoon|NULL| NULL|    NULL|       False|\n",
      "+--------------------+---------+--------+---------+---------+-------------------------+------------------------+-----------------------------+----------------------------+-------------------------+------------------------+--------------------------+-------------------------+-----------------------------+-----------------------------+-----------------------------+-----------------------------+-----------------------------+-------------------+-------------------+-------------------+-------------------+-------------------+--------------------+-----------+----+-----+--------+------------+\n",
      "only showing top 5 rows\n",
      "\n",
      "Number of electric vehicle accidents: 18531\n"
     ]
    },
    {
     "name": "stderr",
     "output_type": "stream",
     "text": [
      "                                                                                \r"
     ]
    },
    {
     "name": "stdout",
     "output_type": "stream",
     "text": [
      "+---------+-----+\n",
      "|CAUSALITY|count|\n",
      "+---------+-----+\n",
      "|        0| 3897|\n",
      "|        1|14634|\n",
      "+---------+-----+\n",
      "\n"
     ]
    },
    {
     "name": "stderr",
     "output_type": "stream",
     "text": [
      "                                                                                \r"
     ]
    },
    {
     "name": "stdout",
     "output_type": "stream",
     "text": [
      "Class 0 (no injury/death): 21.03%\n",
      "Class 1 (injury/death): 78.97%\n"
     ]
    }
   ],
   "source": [
    "# Load the dataset\n",
    "df = spark.read.option(\"header\", True).csv(\"final_data\")\n",
    "df = df.withColumn(\"ZIP CODE\", col(\"ZIP CODE\").cast(IntegerType()))\n",
    "\n",
    "# Display basic information about the dataset\n",
    "print(f\"Dataset shape: ({df.count()}, {len(df.columns)})\")\n",
    "print(\"\\nData schema:\")\n",
    "df.printSchema()\n",
    "\n",
    "# Display first few rows of the dataset\n",
    "df.show(5)\n",
    "\n",
    "# Filter only electric vehicles\n",
    "ev_df = df.filter(col(\"is_e_vehicle\") == True)\n",
    "print(f\"Number of electric vehicle accidents: {ev_df.count()}\")\n",
    "\n",
    "# Create target variable for binary classification (0: no injury/death, 1: injury/death)\n",
    "ev_df = ev_df.withColumn(\n",
    "    \"CAUSALITY\", \n",
    "    when(\n",
    "        (col(\"NUMBER OF PERSONS INJURED\") > 0) | (col(\"NUMBER OF PERSONS KILLED\") > 0), \n",
    "        1\n",
    "    ).otherwise(0)\n",
    ")\n",
    "\n",
    "# Check class distribution\n",
    "causality_counts = ev_df.groupBy(\"CAUSALITY\").count().orderBy(\"CAUSALITY\")\n",
    "causality_counts.show()\n",
    "\n",
    "# Convert to pandas for percentage calculation\n",
    "causality_pd = causality_counts.toPandas()\n",
    "total = causality_pd['count'].sum()\n",
    "for i, row in causality_pd.iterrows():\n",
    "    print(f\"Class {row['CAUSALITY']} ({'no injury/death' if row['CAUSALITY'] == 0 else 'injury/death'}): {row['count']/total*100:.2f}%\")"
   ]
  },
  {
   "cell_type": "code",
   "execution_count": 4,
   "id": "f20e16f6",
   "metadata": {},
   "outputs": [
    {
     "name": "stdout",
     "output_type": "stream",
     "text": [
      "+-------------------+----+-----+---+----+---------+\n",
      "|  CRASH DATE & TIME|Year|Month|Day|Hour|DayOfWeek|\n",
      "+-------------------+----+-----+---+----+---------+\n",
      "|2017-04-21 18:02:00|2017|    4| 21|  18|        5|\n",
      "|2017-04-28 18:50:00|2017|    4| 28|  18|        5|\n",
      "|2017-05-05 14:20:00|2017|    5|  5|  14|        5|\n",
      "|2017-05-12 18:35:00|2017|    5| 12|  18|        5|\n",
      "|2017-06-11 03:05:00|2017|    6| 11|   3|        0|\n",
      "+-------------------+----+-----+---+----+---------+\n",
      "only showing top 5 rows\n",
      "\n"
     ]
    }
   ],
   "source": [
    "# Data preprocessing - Create temporal features\n",
    "ev_df = ev_df.withColumn(\"CRASH DATE & TIME\", to_timestamp(col(\"CRASH DATE & TIME\")))\n",
    "\n",
    "# Extract temporal features\n",
    "ev_df = ev_df.withColumn(\"Year\", year(col(\"CRASH DATE & TIME\")))\n",
    "ev_df = ev_df.withColumn(\"Month\", month(col(\"CRASH DATE & TIME\")))\n",
    "ev_df = ev_df.withColumn(\"Day\", dayofmonth(col(\"CRASH DATE & TIME\")))\n",
    "ev_df = ev_df.withColumn(\"Hour\", hour(col(\"CRASH DATE & TIME\")))\n",
    "ev_df = ev_df.withColumn(\"DayOfWeek\", dayofweek(col(\"CRASH DATE & TIME\")) - 1)  # 0: Sunday, 6: Saturday\n",
    "\n",
    "# Display examples of the new features\n",
    "ev_df.select(\"CRASH DATE & TIME\", \"Year\", \"Month\", \"Day\", \"Hour\", \"DayOfWeek\").show(5)"
   ]
  },
  {
   "cell_type": "markdown",
   "id": "04d10c05",
   "metadata": {},
   "source": [
    "## 4. Feature Selection and Engineering"
   ]
  },
  {
   "cell_type": "code",
   "execution_count": 5,
   "id": "78e110af",
   "metadata": {},
   "outputs": [
    {
     "name": "stdout",
     "output_type": "stream",
     "text": [
      "Original dataset count: 18531\n"
     ]
    },
    {
     "name": "stderr",
     "output_type": "stream",
     "text": [
      "                                                                                \r"
     ]
    },
    {
     "name": "stdout",
     "output_type": "stream",
     "text": [
      "Clean dataset count: 15226\n"
     ]
    },
    {
     "name": "stderr",
     "output_type": "stream",
     "text": [
      "[Stage 26:==================================================>       (7 + 1) / 8]\r"
     ]
    },
    {
     "name": "stdout",
     "output_type": "stream",
     "text": [
      "+-------+------------------+------------------+-------------------+\n",
      "|summary|        IsRushHour|         IsWeekend|        IsNightTime|\n",
      "+-------+------------------+------------------+-------------------+\n",
      "|  count|             15226|             15226|              15226|\n",
      "|   mean|0.3958360698804676|0.2974517273085512|0.16511230789439119|\n",
      "| stddev|0.4890455841447253|0.4571519692147792|0.37129407196818964|\n",
      "|    min|                 0|                 0|                  0|\n",
      "|    25%|                 0|                 0|                  0|\n",
      "|    50%|                 0|                 0|                  0|\n",
      "|    75%|                 1|                 1|                  0|\n",
      "|    max|                 1|                 1|                  1|\n",
      "+-------+------------------+------------------+-------------------+\n",
      "\n"
     ]
    },
    {
     "name": "stderr",
     "output_type": "stream",
     "text": [
      "                                                                                \r"
     ]
    }
   ],
   "source": [
    "# Select base features for modeling\n",
    "features = [\n",
    "    \"Month\", \"Day\", \"Hour\", \"DayOfWeek\", \n",
    "    \"VEHICLE TYPE CODE 2\", \"ZIP CODE\", \"CONTRIBUTING FACTOR VEHICLE 1\"\n",
    "]\n",
    "\n",
    "target_classification = \"CAUSALITY\"\n",
    "\n",
    "# Remove rows with missing values in the selected features\n",
    "df_clean = ev_df.dropna(subset=features + [target_classification])\n",
    "\n",
    "print(f\"Original dataset count: {ev_df.count()}\")\n",
    "print(f\"Clean dataset count: {df_clean.count()}\")\n",
    "\n",
    "# Create additional time-based features\n",
    "# Rush hour: 7-9 AM and 4-7 PM\n",
    "df_clean = df_clean.withColumn(\n",
    "    \"IsRushHour\", \n",
    "    when(\n",
    "        ((col(\"Hour\") >= 7) & (col(\"Hour\") <= 9)) | \n",
    "        ((col(\"Hour\") >= 16) & (col(\"Hour\") <= 19)),\n",
    "        1\n",
    "    ).otherwise(0)\n",
    ")\n",
    "\n",
    "# Night time: 10 PM to 5 AM\n",
    "df_clean = df_clean.withColumn(\n",
    "    \"IsNightTime\", \n",
    "    when(\n",
    "        (col(\"Hour\") >= 22) | (col(\"Hour\") <= 5),\n",
    "        1\n",
    "    ).otherwise(0)\n",
    ")\n",
    "\n",
    "# Weekend: Saturday (5) and Sunday (6)\n",
    "df_clean = df_clean.withColumn(\n",
    "    \"IsWeekend\", \n",
    "    when(\n",
    "        col(\"DayOfWeek\") >= 5,\n",
    "        1\n",
    "    ).otherwise(0)\n",
    ")\n",
    "\n",
    "# Add the new features to our feature list\n",
    "features.extend([\"IsRushHour\", \"IsWeekend\", \"IsNightTime\"])\n",
    "\n",
    "# Display statistics for the new features\n",
    "df_clean.select(\"IsRushHour\", \"IsWeekend\", \"IsNightTime\").summary().show()"
   ]
  },
  {
   "cell_type": "markdown",
   "id": "82f33c52",
   "metadata": {},
   "source": [
    "## 5. Data Preparation for ML"
   ]
  },
  {
   "cell_type": "code",
   "execution_count": 6,
   "id": "3192e75e",
   "metadata": {},
   "outputs": [
    {
     "name": "stderr",
     "output_type": "stream",
     "text": [
      "                                                                                \r"
     ]
    },
    {
     "name": "stdout",
     "output_type": "stream",
     "text": [
      "Training data count: 9830\n"
     ]
    },
    {
     "name": "stderr",
     "output_type": "stream",
     "text": [
      "                                                                                \r"
     ]
    },
    {
     "name": "stdout",
     "output_type": "stream",
     "text": [
      "Validation data count: 2381\n"
     ]
    },
    {
     "name": "stderr",
     "output_type": "stream",
     "text": [
      "                                                                                \r"
     ]
    },
    {
     "name": "stdout",
     "output_type": "stream",
     "text": [
      "Test data count: 3015\n"
     ]
    },
    {
     "name": "stderr",
     "output_type": "stream",
     "text": [
      "Java HotSpot(TM) 64-Bit Server VM warning: CodeCache is full. Compiler has been disabled.\n",
      "Java HotSpot(TM) 64-Bit Server VM warning: Try increasing the code cache size using -XX:ReservedCodeCacheSize=\n",
      "                                                                                \r"
     ]
    },
    {
     "name": "stdout",
     "output_type": "stream",
     "text": [
      "CodeCache: size=131072Kb used=45478Kb max_used=45515Kb free=85593Kb\n",
      " bounds [0x00000001061e0000, 0x0000000108ee0000, 0x000000010e1e0000]\n",
      " total_blobs=14295 nmethods=13305 adapters=900\n",
      " compilation: disabled (not enough contiguous free space left)\n"
     ]
    },
    {
     "name": "stderr",
     "output_type": "stream",
     "text": [
      "                                                                                \r"
     ]
    }
   ],
   "source": [
    "# Identify categorical and numerical features\n",
    "categorical_features = [\"Month\", \"Hour\", \"DayOfWeek\", \"VEHICLE TYPE CODE 2\", \"CONTRIBUTING FACTOR VEHICLE 1\"]\n",
    "numerical_features = [\"Day\", \"ZIP CODE\", \"IsRushHour\", \"IsWeekend\", \"IsNightTime\"]\n",
    "\n",
    "# Create stages for the pipeline\n",
    "stages = []\n",
    "\n",
    "# Process categorical features\n",
    "for feature in categorical_features:\n",
    "    # StringIndexer: Converts string column to indices\n",
    "    indexer = StringIndexer(inputCol=feature, outputCol=f\"{feature}_indexed\", handleInvalid=\"keep\")\n",
    "    \n",
    "    # OneHotEncoder: Creates binary vectors from categorical features\n",
    "    encoder = OneHotEncoder(inputCols=[f\"{feature}_indexed\"], outputCols=[f\"{feature}_encoded\"], dropLast=True)\n",
    "    \n",
    "    stages += [indexer, encoder]\n",
    "\n",
    "# Process numerical features - no transformation needed, they're already numeric\n",
    "# Just create a list of feature names after all the transformations\n",
    "encoded_categorical_features = [f\"{feature}_encoded\" for feature in categorical_features]\n",
    "feature_names = numerical_features + encoded_categorical_features\n",
    "\n",
    "# Assemble features into a single vector column\n",
    "assembler = VectorAssembler(inputCols=feature_names, outputCol=\"features\", handleInvalid=\"skip\")\n",
    "stages += [assembler]\n",
    "\n",
    "# Create the pipeline\n",
    "pipeline = Pipeline(stages=stages)\n",
    "\n",
    "# Create train-test split\n",
    "train_val_data, test_data = df_clean.randomSplit([0.8, 0.2], seed=42)\n",
    "train_data, val_data = train_val_data.randomSplit([0.8, 0.2], seed=42)\n",
    "\n",
    "print(f\"Training data count: {train_data.count()}\")\n",
    "print(f\"Validation data count: {val_data.count()}\")\n",
    "print(f\"Test data count: {test_data.count()}\")\n",
    "\n",
    "# Fit the pipeline on training data\n",
    "pipeline_model = pipeline.fit(train_val_data)\n",
    "\n",
    "# Transform the data\n",
    "train_data_transformed = pipeline_model.transform(train_data)\n",
    "val_data_transformed = pipeline_model.transform(val_data)\n",
    "test_data_transformed = pipeline_model.transform(test_data)\n",
    "\n",
    "# Initialize the evaluator\n",
    "binary_evaluator = BinaryClassificationEvaluator(\n",
    "    labelCol=target_classification,\n",
    "    rawPredictionCol=\"rawPrediction\",\n",
    "    metricName=\"areaUnderROC\"\n",
    ")"
   ]
  },
  {
   "cell_type": "markdown",
   "id": "20eb4fec",
   "metadata": {},
   "source": [
    "## 6. SMOTE Implementation for Class Imbalance\n",
    "\n",
    "We'll implement a PySpark version of SMOTE (Synthetic Minority Over-sampling Technique) to address class imbalance."
   ]
  },
  {
   "cell_type": "code",
   "execution_count": 7,
   "id": "574adf7e",
   "metadata": {},
   "outputs": [
    {
     "name": "stderr",
     "output_type": "stream",
     "text": [
      "                                                                                \r"
     ]
    },
    {
     "name": "stdout",
     "output_type": "stream",
     "text": [
      "+---------+-----+\n",
      "|CAUSALITY|count|\n",
      "+---------+-----+\n",
      "|        0| 2365|\n",
      "|        1| 7465|\n",
      "+---------+-----+\n",
      "\n"
     ]
    },
    {
     "name": "stderr",
     "output_type": "stream",
     "text": [
      "                                                                                \r"
     ]
    },
    {
     "name": "stdout",
     "output_type": "stream",
     "text": [
      "Original DataFrame shape: (9830, 2)\n",
      "Class distribution before SMOTE: {0: 2365, 1: 7465}\n",
      "Using k_neighbors=5 for SMOTE\n",
      "Resampled feature matrix shape: (11944, 110)\n",
      "Resampled label vector shape: (11944,)\n",
      "Class distribution after SMOTE: {0: 4479, 1: 7465}\n",
      "Converting data back to PySpark in 12 batches\n",
      "Successfully converted data back to PySpark DataFrame\n"
     ]
    },
    {
     "name": "stderr",
     "output_type": "stream",
     "text": [
      "                                                                                \r"
     ]
    },
    {
     "name": "stdout",
     "output_type": "stream",
     "text": [
      "Successfully resampled data with 11944 records\n",
      "+---------+-----+\n",
      "|CAUSALITY|count|\n",
      "+---------+-----+\n",
      "|        0| 4479|\n",
      "|        1| 7465|\n",
      "+---------+-----+\n",
      "\n"
     ]
    }
   ],
   "source": [
    "# Check class distribution in training data\n",
    "class_distribution = train_data_transformed.groupBy(target_classification).count().orderBy(target_classification)\n",
    "class_distribution.show()\n",
    "\n",
    "# Define a simple SMOTE function\n",
    "def apply_smote(spark_df, feature_col=\"features\", label_col=\"CAUSALITY\", sampling_ratio=0.6):\n",
    "    # 1. Convert PySpark DataFrame to Pandas\n",
    "    pandas_df = spark_df.select(feature_col, label_col).toPandas()\n",
    "    print(f\"Original DataFrame shape: {pandas_df.shape}\")\n",
    "    \n",
    "    # 2. Extract features and labels\n",
    "    X = np.array([x.toArray() for x in pandas_df[feature_col]])\n",
    "    y = pandas_df[label_col].values\n",
    "    \n",
    "    # Print class distribution before SMOTE\n",
    "    unique, counts = np.unique(y, return_counts=True)\n",
    "    class_counts_dict = dict(zip(unique, counts))\n",
    "    print(f\"Class distribution before SMOTE: {class_counts_dict}\")\n",
    "    \n",
    "    # 3. Apply SMOTE\n",
    "    # Calculate appropriate k_neighbors\n",
    "    min_class_count = np.min(counts)\n",
    "    k_neighbors = builtins.min(5, int(min_class_count) - 1)  # Ensure it's not larger than minority class-1\n",
    "    print(f\"Using k_neighbors={k_neighbors} for SMOTE\")\n",
    "    \n",
    "    smote = SMOTE(\n",
    "        sampling_strategy=sampling_ratio,\n",
    "        k_neighbors=k_neighbors,\n",
    "        random_state=42\n",
    "    )\n",
    "    \n",
    "    # Apply SMOTE and get resampled data\n",
    "    try:\n",
    "        X_resampled, y_resampled = smote.fit_resample(X, y)\n",
    "        print(f\"Resampled feature matrix shape: {X_resampled.shape}\")\n",
    "        print(f\"Resampled label vector shape: {y_resampled.shape}\")\n",
    "        unique_resampled, counts_resampled = np.unique(y_resampled, return_counts=True)\n",
    "        print(f\"Class distribution after SMOTE: {dict(zip(unique_resampled, counts_resampled))}\")\n",
    "    except Exception as e:\n",
    "        print(f\"SMOTE application failed with error: {e}\")\n",
    "        print(\"Falling back to original data\")\n",
    "        X_resampled, y_resampled = X, y\n",
    "    \n",
    "    # 4. Convert resampled data back to PySpark DataFrame\n",
    "    # First create a DataFrame with all features as separate columns\n",
    "    features_df = pd.DataFrame(X_resampled, columns=[f'feature_{i}' for i in range(X_resampled.shape[1])])\n",
    "    features_df[label_col] = y_resampled.astype(int)\n",
    "    \n",
    "    # 5. Create a PySpark DataFrame from the pandas DataFrame\n",
    "    try:\n",
    "        # Convert in batches\n",
    "        batch_size = 1000\n",
    "        num_batches = len(features_df) // batch_size + (1 if len(features_df) % batch_size else 0)\n",
    "        print(f\"Converting data back to PySpark in {num_batches} batches\")\n",
    "        \n",
    "        # Process first batch\n",
    "        first_batch = features_df.iloc[:batch_size]\n",
    "        resampled_spark = spark.createDataFrame(first_batch)\n",
    "        \n",
    "        # Process remaining batches\n",
    "        for i in range(1, num_batches):\n",
    "            start_idx = i * batch_size\n",
    "            end_idx = builtins.min((i + 1) * batch_size, len(features_df))\n",
    "            batch_df = features_df.iloc[start_idx:end_idx]\n",
    "            batch_spark = spark.createDataFrame(batch_df)\n",
    "            resampled_spark = resampled_spark.union(batch_spark)\n",
    "\n",
    "        print(\"Successfully converted data back to PySpark DataFrame\")\n",
    "    except Exception as e:\n",
    "        print(f\"Error during conversion to PySpark: {e}\")\n",
    "        resampled_spark = spark.createDataFrame(features_df)\n",
    "    \n",
    "    # 6. Reassemble the feature columns into a vector column\n",
    "    from pyspark.ml.feature import VectorAssembler\n",
    "    feature_cols = [f'feature_{i}' for i in range(X_resampled.shape[1])]\n",
    "    assembler = VectorAssembler(inputCols=feature_cols, outputCol=feature_col)\n",
    "    \n",
    "    # 7. Apply the assembler and select only the needed columns\n",
    "    result_df = assembler.transform(resampled_spark).select(feature_col, label_col)\n",
    "    \n",
    "    # Cache the result for better performance\n",
    "    result_df = result_df.cache()\n",
    "    \n",
    "    # Force computation to cache the data\n",
    "    result_count = result_df.count()\n",
    "    print(f\"Successfully resampled data with {result_count} records\")\n",
    "    \n",
    "    return result_df\n",
    "\n",
    "# Apply SMOTE to training data\n",
    "train_balanced = apply_smote(train_data_transformed, \"features\", target_classification)\n",
    "\n",
    "# Verify the class distribution in the balanced dataset\n",
    "train_balanced.groupBy(target_classification).count().orderBy(target_classification).show()"
   ]
  },
  {
   "cell_type": "markdown",
   "id": "e371c9e4",
   "metadata": {},
   "source": [
    "## 7. Hyperparameter Tuning with Optuna"
   ]
  },
  {
   "cell_type": "code",
   "execution_count": 8,
   "id": "ca7718f6",
   "metadata": {},
   "outputs": [
    {
     "name": "stderr",
     "output_type": "stream",
     "text": [
      "[I 2025-04-13 22:11:36,649] A new study created in memory with name: no-name-f2e88e07-4f07-4f22-880f-5565482d6427\n",
      "[I 2025-04-13 22:13:27,150] Trial 0 finished with value: 0.5431297702598706 and parameters: {'numTrees': 80, 'maxDepth': 10, 'impurity': 'gini', 'minInstancesPerNode': 2}. Best is trial 0 with value: 0.5431297702598706.\n",
      "[I 2025-04-13 22:14:22,233] Trial 1 finished with value: 0.5456966186690003 and parameters: {'numTrees': 50, 'maxDepth': 20, 'impurity': 'entropy', 'minInstancesPerNode': 7}. Best is trial 1 with value: 0.5456966186690003.\n",
      "[I 2025-04-13 22:14:34,655] Trial 2 finished with value: 0.5396757998491557 and parameters: {'numTrees': 30, 'maxDepth': 10, 'impurity': 'entropy', 'minInstancesPerNode': 1}. Best is trial 1 with value: 0.5456966186690003.\n",
      "[I 2025-04-13 22:14:41,661] Trial 3 finished with value: 0.5182073514538438 and parameters: {'numTrees': 80, 'maxDepth': 5, 'impurity': 'gini', 'minInstancesPerNode': 2}. Best is trial 1 with value: 0.5456966186690003.\n",
      "[I 2025-04-13 22:15:03,849] Trial 4 finished with value: 0.5510846014044258 and parameters: {'numTrees': 90, 'maxDepth': 10, 'impurity': 'gini', 'minInstancesPerNode': 7}. Best is trial 4 with value: 0.5510846014044258.\n"
     ]
    },
    {
     "name": "stdout",
     "output_type": "stream",
     "text": [
      "\n",
      "Best trial for Random Forest:\n",
      "  Value (ROC AUC): 0.5511\n",
      "  Params:\n",
      "    numTrees: 90\n",
      "    maxDepth: 10\n",
      "    impurity: gini\n",
      "    minInstancesPerNode: 7\n"
     ]
    }
   ],
   "source": [
    "# Define objective function for Random Forest optimization\n",
    "def objective_rf(trial):\n",
    "    # Parameters to optimize\n",
    "    num_trees = trial.suggest_int('numTrees', 10, 100, step=10)\n",
    "    max_depth = trial.suggest_int('maxDepth', 5, 20, step=5)\n",
    "    impurity = trial.suggest_categorical('impurity', ['gini', 'entropy'])\n",
    "    min_instances_per_node = trial.suggest_int('minInstancesPerNode', 1, 10)\n",
    "    \n",
    "    # Create model with suggested parameters\n",
    "    rf = RandomForestClassifier(\n",
    "        featuresCol=\"features\",\n",
    "        labelCol=target_classification,\n",
    "        numTrees=num_trees,\n",
    "        maxDepth=max_depth,\n",
    "        impurity=impurity,\n",
    "        minInstancesPerNode=min_instances_per_node,\n",
    "        seed=42\n",
    "    )\n",
    "    \n",
    "    # Train and evaluate model\n",
    "    model = rf.fit(train_balanced)\n",
    "    predictions = model.transform(val_data_transformed)\n",
    "    auc_score = binary_evaluator.evaluate(predictions)\n",
    "    \n",
    "    return auc_score\n",
    "\n",
    "# Create a study for Random Forest\n",
    "rf_study = optuna.create_study(direction='maximize')\n",
    "rf_study.optimize(objective_rf, n_trials=5)\n",
    "\n",
    "# Print results\n",
    "print(f\"\\nBest trial for Random Forest:\")\n",
    "print(f\"  Value (ROC AUC): {rf_study.best_value:.4f}\")\n",
    "print(f\"  Params:\")\n",
    "for key, value in rf_study.best_params.items():\n",
    "    print(f\"    {key}: {value}\")\n",
    "\n",
    "# Create best Random Forest model\n",
    "best_rf = RandomForestClassifier(\n",
    "    featuresCol=\"features\",\n",
    "    labelCol=target_classification,\n",
    "    numTrees=rf_study.best_params['numTrees'],\n",
    "    maxDepth=rf_study.best_params['maxDepth'],\n",
    "    impurity=rf_study.best_params['impurity'],\n",
    "    minInstancesPerNode=rf_study.best_params['minInstancesPerNode'],\n",
    "    seed=42\n",
    ")"
   ]
  },
  {
   "cell_type": "code",
   "execution_count": 9,
   "id": "36a96a71",
   "metadata": {},
   "outputs": [
    {
     "name": "stderr",
     "output_type": "stream",
     "text": [
      "[I 2025-04-13 22:15:03,868] A new study created in memory with name: no-name-58decabc-b219-480e-a781-16c35a9f6887\n",
      "[I 2025-04-13 22:15:34,097] Trial 0 finished with value: 0.560849180623605 and parameters: {'maxIter': 45, 'maxDepth': 3, 'stepSize': 0.14814368921667037}. Best is trial 0 with value: 0.560849180623605.\n",
      "[I 2025-04-13 22:17:21,274] Trial 1 finished with value: 0.5380795559880015 and parameters: {'maxIter': 35, 'maxDepth': 9, 'stepSize': 0.1645380686881988}. Best is trial 0 with value: 0.560849180623605.\n",
      "[I 2025-04-13 22:18:24,645] Trial 2 finished with value: 0.5356916672903869 and parameters: {'maxIter': 45, 'maxDepth': 6, 'stepSize': 0.19031035832179446}. Best is trial 0 with value: 0.560849180623605.\n",
      "[I 2025-04-13 22:19:18,955] Trial 3 finished with value: 0.5465218484379167 and parameters: {'maxIter': 10, 'maxDepth': 12, 'stepSize': 0.03133822672587567}. Best is trial 0 with value: 0.560849180623605.\n",
      "[I 2025-04-13 22:20:49,910] Trial 4 finished with value: 0.5588144135015266 and parameters: {'maxIter': 30, 'maxDepth': 9, 'stepSize': 0.01337211228491646}. Best is trial 0 with value: 0.560849180623605.\n"
     ]
    },
    {
     "name": "stdout",
     "output_type": "stream",
     "text": [
      "\n",
      "Best trial for Gradient Boosting Tree:\n",
      "  Value (ROC AUC): 0.5608\n",
      "  Params:\n",
      "    maxIter: 45\n",
      "    maxDepth: 3\n",
      "    stepSize: 0.14814368921667037\n"
     ]
    }
   ],
   "source": [
    "# Define objective function for GBT optimization\n",
    "def objective_gbt(trial):\n",
    "    # Parameters to optimize\n",
    "    max_iter = trial.suggest_int('maxIter', 10, 50, step=5)\n",
    "    max_depth = trial.suggest_int('maxDepth', 3, 15, step=3)\n",
    "    step_size = trial.suggest_float('stepSize', 0.01, 0.3, log=True)\n",
    "    \n",
    "    # Create model with suggested parameters\n",
    "    gbt = GBTClassifier(\n",
    "        featuresCol=\"features\",\n",
    "        labelCol=target_classification,\n",
    "        maxIter=max_iter,\n",
    "        maxDepth=max_depth,\n",
    "        stepSize=step_size,\n",
    "        seed=42\n",
    "    )\n",
    "    \n",
    "    # Train and evaluate model\n",
    "    model = gbt.fit(train_balanced)\n",
    "    predictions = model.transform(val_data_transformed)\n",
    "    auc_score = binary_evaluator.evaluate(predictions)\n",
    "    \n",
    "    return auc_score\n",
    "\n",
    "# Create a study for GBT\n",
    "gbt_study = optuna.create_study(direction='maximize')\n",
    "gbt_study.optimize(objective_gbt, n_trials=5)\n",
    "\n",
    "# Print results\n",
    "print(f\"\\nBest trial for Gradient Boosting Tree:\")\n",
    "print(f\"  Value (ROC AUC): {gbt_study.best_value:.4f}\")\n",
    "print(f\"  Params:\")\n",
    "for key, value in gbt_study.best_params.items():\n",
    "    print(f\"    {key}: {value}\")\n",
    "\n",
    "# Create best GBT model\n",
    "best_gbt = GBTClassifier(\n",
    "    featuresCol=\"features\",\n",
    "    labelCol=target_classification,\n",
    "    maxIter=gbt_study.best_params['maxIter'],\n",
    "    maxDepth=gbt_study.best_params['maxDepth'],\n",
    "    stepSize=gbt_study.best_params['stepSize'],\n",
    "    seed=42\n",
    ")"
   ]
  },
  {
   "cell_type": "code",
   "execution_count": 10,
   "id": "730de223",
   "metadata": {},
   "outputs": [
    {
     "name": "stderr",
     "output_type": "stream",
     "text": [
      "[I 2025-04-13 22:20:49,927] A new study created in memory with name: no-name-e98d7007-905d-4b8f-a45c-8ff759cb8e6c\n",
      "[I 2025-04-13 22:20:53,555] Trial 0 finished with value: 0.5 and parameters: {'regParam': 0.12904957172368584, 'elasticNetParam': 0.40043906559894893, 'maxIter': 45}. Best is trial 0 with value: 0.5.\n",
      "[I 2025-04-13 22:20:55,579] Trial 1 finished with value: 0.5 and parameters: {'regParam': 0.2431406275143255, 'elasticNetParam': 0.43511106635394503, 'maxIter': 82}. Best is trial 0 with value: 0.5.\n",
      "[I 2025-04-13 22:20:59,019] Trial 2 finished with value: 0.5633728484052916 and parameters: {'regParam': 0.02908238690861905, 'elasticNetParam': 0.03589325762886475, 'maxIter': 10}. Best is trial 2 with value: 0.5633728484052916.\n",
      "[I 2025-04-13 22:21:00,937] Trial 3 finished with value: 0.5 and parameters: {'regParam': 0.27773058640640763, 'elasticNetParam': 0.240420842743986, 'maxIter': 14}. Best is trial 2 with value: 0.5633728484052916.\n",
      "[I 2025-04-13 22:21:04,960] Trial 4 finished with value: 0.5693816726064018 and parameters: {'regParam': 0.011757940940532965, 'elasticNetParam': 0.5503927294421549, 'maxIter': 96}. Best is trial 4 with value: 0.5693816726064018.\n"
     ]
    },
    {
     "name": "stdout",
     "output_type": "stream",
     "text": [
      "\n",
      "Best trial for Logistic Regression:\n",
      "  Value (ROC AUC): 0.5694\n",
      "  Params:\n",
      "    regParam: 0.011757940940532965\n",
      "    elasticNetParam: 0.5503927294421549\n",
      "    maxIter: 96\n"
     ]
    }
   ],
   "source": [
    "# Define objective function for Logistic Regression optimization\n",
    "def objective_lr(trial):\n",
    "    # Parameters to optimize\n",
    "    reg_param = trial.suggest_float('regParam', 0.01, 1.0, log=True)\n",
    "    elastic_net_param = trial.suggest_float('elasticNetParam', 0.0, 1.0)\n",
    "    max_iter = trial.suggest_int('maxIter', 10, 100)\n",
    "    \n",
    "    # Create model with suggested parameters\n",
    "    lr = LogisticRegression(\n",
    "        featuresCol=\"features\",\n",
    "        labelCol=target_classification,\n",
    "        regParam=reg_param,\n",
    "        elasticNetParam=elastic_net_param,\n",
    "        maxIter=max_iter\n",
    "    )\n",
    "    \n",
    "    # Train and evaluate model\n",
    "    model = lr.fit(train_balanced)\n",
    "    predictions = model.transform(val_data_transformed)\n",
    "    auc_score = binary_evaluator.evaluate(predictions)\n",
    "    \n",
    "    return auc_score\n",
    "\n",
    "# Create a study for Logistic Regression\n",
    "lr_study = optuna.create_study(direction='maximize')\n",
    "lr_study.optimize(objective_lr, n_trials=5)\n",
    "\n",
    "# Print results\n",
    "print(f\"\\nBest trial for Logistic Regression:\")\n",
    "print(f\"  Value (ROC AUC): {lr_study.best_value:.4f}\")\n",
    "print(f\"  Params:\")\n",
    "for key, value in lr_study.best_params.items():\n",
    "    print(f\"    {key}: {value}\")\n",
    "\n",
    "# Create best Logistic Regression model\n",
    "best_lr = LogisticRegression(\n",
    "    featuresCol=\"features\",\n",
    "    labelCol=target_classification,\n",
    "    regParam=lr_study.best_params['regParam'],\n",
    "    elasticNetParam=lr_study.best_params['elasticNetParam'],\n",
    "    maxIter=lr_study.best_params['maxIter']\n",
    ")"
   ]
  },
  {
   "cell_type": "markdown",
   "id": "9568c0c6",
   "metadata": {},
   "source": [
    "## 8. Model Training and Evaluation (Before Class Balancing)"
   ]
  },
  {
   "cell_type": "code",
   "execution_count": 11,
   "id": "6c2b3565",
   "metadata": {},
   "outputs": [
    {
     "name": "stdout",
     "output_type": "stream",
     "text": [
      "\n",
      "Training Logistic Regression (Optimized) on unbalanced data...\n"
     ]
    },
    {
     "name": "stderr",
     "output_type": "stream",
     "text": [
      "                                                                                \r"
     ]
    },
    {
     "name": "stdout",
     "output_type": "stream",
     "text": [
      "Area Under ROC: 0.5364\n"
     ]
    },
    {
     "name": "stderr",
     "output_type": "stream",
     "text": [
      "                                                                                \r"
     ]
    },
    {
     "name": "stdout",
     "output_type": "stream",
     "text": [
      "Area Under PR: 0.7942\n"
     ]
    },
    {
     "name": "stderr",
     "output_type": "stream",
     "text": [
      "                                                                                \r"
     ]
    },
    {
     "name": "stdout",
     "output_type": "stream",
     "text": [
      "Accuracy: 0.7698\n"
     ]
    },
    {
     "name": "stderr",
     "output_type": "stream",
     "text": [
      "                                                                                \r"
     ]
    },
    {
     "name": "stdout",
     "output_type": "stream",
     "text": [
      "WeightedPrecision: 0.5935\n"
     ]
    },
    {
     "name": "stderr",
     "output_type": "stream",
     "text": [
      "                                                                                \r"
     ]
    },
    {
     "name": "stdout",
     "output_type": "stream",
     "text": [
      "WeightedRecall: 0.7698\n"
     ]
    },
    {
     "name": "stderr",
     "output_type": "stream",
     "text": [
      "                                                                                \r"
     ]
    },
    {
     "name": "stdout",
     "output_type": "stream",
     "text": [
      "F1 Score: 0.6703\n",
      "\n",
      "Training Random Forest (Optimized) on unbalanced data...\n"
     ]
    },
    {
     "name": "stderr",
     "output_type": "stream",
     "text": [
      "                                                                                \r"
     ]
    },
    {
     "name": "stdout",
     "output_type": "stream",
     "text": [
      "Area Under ROC: 0.5285\n"
     ]
    },
    {
     "name": "stderr",
     "output_type": "stream",
     "text": [
      "                                                                                \r"
     ]
    },
    {
     "name": "stdout",
     "output_type": "stream",
     "text": [
      "Area Under PR: 0.7926\n"
     ]
    },
    {
     "name": "stderr",
     "output_type": "stream",
     "text": [
      "                                                                                \r"
     ]
    },
    {
     "name": "stdout",
     "output_type": "stream",
     "text": [
      "Accuracy: 0.7705\n"
     ]
    },
    {
     "name": "stderr",
     "output_type": "stream",
     "text": [
      "                                                                                \r"
     ]
    },
    {
     "name": "stdout",
     "output_type": "stream",
     "text": [
      "WeightedPrecision: 0.5936\n"
     ]
    },
    {
     "name": "stderr",
     "output_type": "stream",
     "text": [
      "                                                                                \r"
     ]
    },
    {
     "name": "stdout",
     "output_type": "stream",
     "text": [
      "WeightedRecall: 0.7705\n"
     ]
    },
    {
     "name": "stderr",
     "output_type": "stream",
     "text": [
      "                                                                                \r"
     ]
    },
    {
     "name": "stdout",
     "output_type": "stream",
     "text": [
      "F1 Score: 0.6706\n",
      "\n",
      "Training Gradient Boosting (Optimized) on unbalanced data...\n"
     ]
    },
    {
     "name": "stderr",
     "output_type": "stream",
     "text": [
      "                                                                                \r"
     ]
    },
    {
     "name": "stdout",
     "output_type": "stream",
     "text": [
      "Area Under ROC: 0.5254\n"
     ]
    },
    {
     "name": "stderr",
     "output_type": "stream",
     "text": [
      "                                                                                \r"
     ]
    },
    {
     "name": "stdout",
     "output_type": "stream",
     "text": [
      "Area Under PR: 0.7910\n"
     ]
    },
    {
     "name": "stderr",
     "output_type": "stream",
     "text": [
      "                                                                                \r"
     ]
    },
    {
     "name": "stdout",
     "output_type": "stream",
     "text": [
      "Accuracy: 0.7695\n"
     ]
    },
    {
     "name": "stderr",
     "output_type": "stream",
     "text": [
      "                                                                                \r"
     ]
    },
    {
     "name": "stdout",
     "output_type": "stream",
     "text": [
      "WeightedPrecision: 0.6824\n"
     ]
    },
    {
     "name": "stderr",
     "output_type": "stream",
     "text": [
      "                                                                                \r"
     ]
    },
    {
     "name": "stdout",
     "output_type": "stream",
     "text": [
      "WeightedRecall: 0.7695\n"
     ]
    },
    {
     "name": "stderr",
     "output_type": "stream",
     "text": [
      "                                                                                \r"
     ]
    },
    {
     "name": "stdout",
     "output_type": "stream",
     "text": [
      "F1 Score: 0.6732\n",
      "\n",
      "Training Decision Tree on unbalanced data...\n"
     ]
    },
    {
     "name": "stderr",
     "output_type": "stream",
     "text": [
      "                                                                                \r"
     ]
    },
    {
     "name": "stdout",
     "output_type": "stream",
     "text": [
      "Area Under ROC: 0.4955\n"
     ]
    },
    {
     "name": "stderr",
     "output_type": "stream",
     "text": [
      "                                                                                \r"
     ]
    },
    {
     "name": "stdout",
     "output_type": "stream",
     "text": [
      "Area Under PR: 0.7714\n"
     ]
    },
    {
     "name": "stderr",
     "output_type": "stream",
     "text": [
      "                                                                                \r"
     ]
    },
    {
     "name": "stdout",
     "output_type": "stream",
     "text": [
      "Accuracy: 0.7678\n"
     ]
    },
    {
     "name": "stderr",
     "output_type": "stream",
     "text": [
      "                                                                                \r"
     ]
    },
    {
     "name": "stdout",
     "output_type": "stream",
     "text": [
      "WeightedPrecision: 0.6708\n"
     ]
    },
    {
     "name": "stderr",
     "output_type": "stream",
     "text": [
      "                                                                                \r"
     ]
    },
    {
     "name": "stdout",
     "output_type": "stream",
     "text": [
      "WeightedRecall: 0.7678\n"
     ]
    },
    {
     "name": "stderr",
     "output_type": "stream",
     "text": [
      "                                                                                \r"
     ]
    },
    {
     "name": "stdout",
     "output_type": "stream",
     "text": [
      "F1 Score: 0.6741\n",
      "\n",
      "Training Naive Bayes on unbalanced data...\n"
     ]
    },
    {
     "name": "stderr",
     "output_type": "stream",
     "text": [
      "                                                                                \r"
     ]
    },
    {
     "name": "stdout",
     "output_type": "stream",
     "text": [
      "Area Under ROC: 0.5020\n"
     ]
    },
    {
     "name": "stderr",
     "output_type": "stream",
     "text": [
      "                                                                                \r"
     ]
    },
    {
     "name": "stdout",
     "output_type": "stream",
     "text": [
      "Area Under PR: 0.7778\n"
     ]
    },
    {
     "name": "stderr",
     "output_type": "stream",
     "text": [
      "                                                                                \r"
     ]
    },
    {
     "name": "stdout",
     "output_type": "stream",
     "text": [
      "Accuracy: 0.7705\n"
     ]
    },
    {
     "name": "stderr",
     "output_type": "stream",
     "text": [
      "                                                                                \r"
     ]
    },
    {
     "name": "stdout",
     "output_type": "stream",
     "text": [
      "WeightedPrecision: 0.7091\n"
     ]
    },
    {
     "name": "stderr",
     "output_type": "stream",
     "text": [
      "                                                                                \r"
     ]
    },
    {
     "name": "stdout",
     "output_type": "stream",
     "text": [
      "WeightedRecall: 0.7705\n"
     ]
    },
    {
     "name": "stderr",
     "output_type": "stream",
     "text": [
      "[Stage 3202:===================================>                    (5 + 3) / 8]\r"
     ]
    },
    {
     "name": "stdout",
     "output_type": "stream",
     "text": [
      "F1 Score: 0.6737\n"
     ]
    },
    {
     "name": "stderr",
     "output_type": "stream",
     "text": [
      "                                                                                \r"
     ]
    }
   ],
   "source": [
    "# Initialize models with optimized parameters\n",
    "unbalanced_models = {\n",
    "    \"Logistic Regression (Optimized)\": best_lr,\n",
    "    \"Random Forest (Optimized)\": best_rf,\n",
    "    \"Gradient Boosting (Optimized)\": best_gbt,\n",
    "    \"Decision Tree\": DecisionTreeClassifier(featuresCol=\"features\", labelCol=target_classification, maxDepth=5),\n",
    "    \"Naive Bayes\": NaiveBayes(featuresCol=\"features\", labelCol=target_classification)\n",
    "}\n",
    "\n",
    "# Define evaluation metrics\n",
    "evaluators = {\n",
    "    \"Area Under ROC\": BinaryClassificationEvaluator(\n",
    "        labelCol=target_classification, rawPredictionCol=\"rawPrediction\", metricName=\"areaUnderROC\"\n",
    "    ),\n",
    "    \"Area Under PR\": BinaryClassificationEvaluator(\n",
    "        labelCol=target_classification, rawPredictionCol=\"rawPrediction\", metricName=\"areaUnderPR\"\n",
    "    ),\n",
    "    \"Accuracy\": MulticlassClassificationEvaluator(\n",
    "        labelCol=target_classification, predictionCol=\"prediction\", metricName=\"accuracy\"\n",
    "    ),\n",
    "    \"WeightedPrecision\": MulticlassClassificationEvaluator(\n",
    "        labelCol=target_classification, predictionCol=\"prediction\", metricName=\"weightedPrecision\"\n",
    "    ),\n",
    "    \"WeightedRecall\": MulticlassClassificationEvaluator(\n",
    "        labelCol=target_classification, predictionCol=\"prediction\", metricName=\"weightedRecall\"\n",
    "    ),\n",
    "    \"F1 Score\": MulticlassClassificationEvaluator(\n",
    "        labelCol=target_classification, predictionCol=\"prediction\", metricName=\"f1\"\n",
    "    )\n",
    "}\n",
    "\n",
    "# Train models and evaluate (on unbalanced data)\n",
    "unbalanced_results = {}\n",
    "\n",
    "for model_name, model in unbalanced_models.items():\n",
    "    print(f\"\\nTraining {model_name} on unbalanced data...\")\n",
    "    model_fitted = model.fit(train_data_transformed)\n",
    "    predictions = model_fitted.transform(test_data_transformed)\n",
    "    \n",
    "    # Calculate metrics\n",
    "    model_results = {}\n",
    "    for metric_name, evaluator in evaluators.items():\n",
    "        score = evaluator.evaluate(predictions)\n",
    "        model_results[metric_name] = score\n",
    "        print(f\"{metric_name}: {score:.4f}\")\n",
    "    \n",
    "    unbalanced_results[model_name] = model_results"
   ]
  },
  {
   "cell_type": "markdown",
   "id": "f7a71ab2",
   "metadata": {},
   "source": [
    "## 9. Model Training and Evaluation (After Class Balancing)"
   ]
  },
  {
   "cell_type": "code",
   "execution_count": 12,
   "id": "b16df9ff",
   "metadata": {},
   "outputs": [
    {
     "name": "stdout",
     "output_type": "stream",
     "text": [
      "\n",
      "Training Logistic Regression (Optimized) on balanced data...\n"
     ]
    },
    {
     "name": "stderr",
     "output_type": "stream",
     "text": [
      "                                                                                \r"
     ]
    },
    {
     "name": "stdout",
     "output_type": "stream",
     "text": [
      "Area Under ROC: 0.5352\n"
     ]
    },
    {
     "name": "stderr",
     "output_type": "stream",
     "text": [
      "                                                                                \r"
     ]
    },
    {
     "name": "stdout",
     "output_type": "stream",
     "text": [
      "Area Under PR: 0.7915\n"
     ]
    },
    {
     "name": "stderr",
     "output_type": "stream",
     "text": [
      "                                                                                \r"
     ]
    },
    {
     "name": "stdout",
     "output_type": "stream",
     "text": [
      "Accuracy: 0.7695\n"
     ]
    },
    {
     "name": "stderr",
     "output_type": "stream",
     "text": [
      "                                                                                \r"
     ]
    },
    {
     "name": "stdout",
     "output_type": "stream",
     "text": [
      "WeightedPrecision: 0.6889\n"
     ]
    },
    {
     "name": "stderr",
     "output_type": "stream",
     "text": [
      "                                                                                \r"
     ]
    },
    {
     "name": "stdout",
     "output_type": "stream",
     "text": [
      "WeightedRecall: 0.7695\n"
     ]
    },
    {
     "name": "stderr",
     "output_type": "stream",
     "text": [
      "                                                                                \r"
     ]
    },
    {
     "name": "stdout",
     "output_type": "stream",
     "text": [
      "F1 Score: 0.6744\n",
      "\n",
      "Training Random Forest (Optimized) on balanced data...\n"
     ]
    },
    {
     "name": "stderr",
     "output_type": "stream",
     "text": [
      "                                                                                \r"
     ]
    },
    {
     "name": "stdout",
     "output_type": "stream",
     "text": [
      "Area Under ROC: 0.5274\n"
     ]
    },
    {
     "name": "stderr",
     "output_type": "stream",
     "text": [
      "                                                                                \r"
     ]
    },
    {
     "name": "stdout",
     "output_type": "stream",
     "text": [
      "Area Under PR: 0.7977\n"
     ]
    },
    {
     "name": "stderr",
     "output_type": "stream",
     "text": [
      "                                                                                \r"
     ]
    },
    {
     "name": "stdout",
     "output_type": "stream",
     "text": [
      "Accuracy: 0.7705\n"
     ]
    },
    {
     "name": "stderr",
     "output_type": "stream",
     "text": [
      "                                                                                \r"
     ]
    },
    {
     "name": "stdout",
     "output_type": "stream",
     "text": [
      "WeightedPrecision: 0.5936\n"
     ]
    },
    {
     "name": "stderr",
     "output_type": "stream",
     "text": [
      "                                                                                \r"
     ]
    },
    {
     "name": "stdout",
     "output_type": "stream",
     "text": [
      "WeightedRecall: 0.7705\n"
     ]
    },
    {
     "name": "stderr",
     "output_type": "stream",
     "text": [
      "                                                                                \r"
     ]
    },
    {
     "name": "stdout",
     "output_type": "stream",
     "text": [
      "F1 Score: 0.6706\n",
      "\n",
      "Training Gradient Boosting (Optimized) on balanced data...\n"
     ]
    },
    {
     "name": "stderr",
     "output_type": "stream",
     "text": [
      "                                                                                \r"
     ]
    },
    {
     "name": "stdout",
     "output_type": "stream",
     "text": [
      "Area Under ROC: 0.5229\n"
     ]
    },
    {
     "name": "stderr",
     "output_type": "stream",
     "text": [
      "                                                                                \r"
     ]
    },
    {
     "name": "stdout",
     "output_type": "stream",
     "text": [
      "Area Under PR: 0.7922\n"
     ]
    },
    {
     "name": "stderr",
     "output_type": "stream",
     "text": [
      "                                                                                \r"
     ]
    },
    {
     "name": "stdout",
     "output_type": "stream",
     "text": [
      "Accuracy: 0.7698\n"
     ]
    },
    {
     "name": "stderr",
     "output_type": "stream",
     "text": [
      "                                                                                \r"
     ]
    },
    {
     "name": "stdout",
     "output_type": "stream",
     "text": [
      "WeightedPrecision: 0.6703\n"
     ]
    },
    {
     "name": "stderr",
     "output_type": "stream",
     "text": [
      "                                                                                \r"
     ]
    },
    {
     "name": "stdout",
     "output_type": "stream",
     "text": [
      "WeightedRecall: 0.7698\n"
     ]
    },
    {
     "name": "stderr",
     "output_type": "stream",
     "text": [
      "                                                                                \r"
     ]
    },
    {
     "name": "stdout",
     "output_type": "stream",
     "text": [
      "F1 Score: 0.6715\n",
      "\n",
      "Training Decision Tree on balanced data...\n"
     ]
    },
    {
     "name": "stderr",
     "output_type": "stream",
     "text": [
      "                                                                                \r"
     ]
    },
    {
     "name": "stdout",
     "output_type": "stream",
     "text": [
      "Area Under ROC: 0.4819\n"
     ]
    },
    {
     "name": "stderr",
     "output_type": "stream",
     "text": [
      "                                                                                \r"
     ]
    },
    {
     "name": "stdout",
     "output_type": "stream",
     "text": [
      "Area Under PR: 0.7643\n"
     ]
    },
    {
     "name": "stderr",
     "output_type": "stream",
     "text": [
      "                                                                                \r"
     ]
    },
    {
     "name": "stdout",
     "output_type": "stream",
     "text": [
      "Accuracy: 0.7701\n"
     ]
    },
    {
     "name": "stderr",
     "output_type": "stream",
     "text": [
      "                                                                                \r"
     ]
    },
    {
     "name": "stdout",
     "output_type": "stream",
     "text": [
      "WeightedPrecision: 0.5936\n"
     ]
    },
    {
     "name": "stderr",
     "output_type": "stream",
     "text": [
      "                                                                                \r"
     ]
    },
    {
     "name": "stdout",
     "output_type": "stream",
     "text": [
      "WeightedRecall: 0.7701\n"
     ]
    },
    {
     "name": "stderr",
     "output_type": "stream",
     "text": [
      "                                                                                \r"
     ]
    },
    {
     "name": "stdout",
     "output_type": "stream",
     "text": [
      "F1 Score: 0.6704\n",
      "\n",
      "Training Naive Bayes on balanced data...\n"
     ]
    },
    {
     "name": "stderr",
     "output_type": "stream",
     "text": [
      "                                                                                \r"
     ]
    },
    {
     "name": "stdout",
     "output_type": "stream",
     "text": [
      "Area Under ROC: 0.5020\n"
     ]
    },
    {
     "name": "stderr",
     "output_type": "stream",
     "text": [
      "                                                                                \r"
     ]
    },
    {
     "name": "stdout",
     "output_type": "stream",
     "text": [
      "Area Under PR: 0.7778\n"
     ]
    },
    {
     "name": "stderr",
     "output_type": "stream",
     "text": [
      "                                                                                \r"
     ]
    },
    {
     "name": "stdout",
     "output_type": "stream",
     "text": [
      "Accuracy: 0.7559\n"
     ]
    },
    {
     "name": "stderr",
     "output_type": "stream",
     "text": [
      "                                                                                \r"
     ]
    },
    {
     "name": "stdout",
     "output_type": "stream",
     "text": [
      "WeightedPrecision: 0.6543\n"
     ]
    },
    {
     "name": "stderr",
     "output_type": "stream",
     "text": [
      "                                                                                \r"
     ]
    },
    {
     "name": "stdout",
     "output_type": "stream",
     "text": [
      "WeightedRecall: 0.7559\n"
     ]
    },
    {
     "name": "stderr",
     "output_type": "stream",
     "text": [
      "[Stage 3724:==========================================>             (6 + 2) / 8]\r"
     ]
    },
    {
     "name": "stdout",
     "output_type": "stream",
     "text": [
      "F1 Score: 0.6764\n"
     ]
    },
    {
     "name": "stderr",
     "output_type": "stream",
     "text": [
      "                                                                                \r"
     ]
    }
   ],
   "source": [
    "# Initialize models with the same parameters for balanced data\n",
    "balanced_models = {\n",
    "    \"Logistic Regression (Optimized)\": best_lr,\n",
    "    \"Random Forest (Optimized)\": best_rf,\n",
    "    \"Gradient Boosting (Optimized)\": best_gbt,\n",
    "    \"Decision Tree\": DecisionTreeClassifier(featuresCol=\"features\", labelCol=target_classification, maxDepth=5),\n",
    "    \"Naive Bayes\": NaiveBayes(featuresCol=\"features\", labelCol=target_classification)\n",
    "}\n",
    "\n",
    "# Train models and evaluate (on balanced data)\n",
    "balanced_results = {}\n",
    "best_models = {}\n",
    "\n",
    "for model_name, model in balanced_models.items():\n",
    "    print(f\"\\nTraining {model_name} on balanced data...\")\n",
    "    model_fitted = model.fit(train_balanced)\n",
    "    predictions = model_fitted.transform(test_data_transformed)\n",
    "    \n",
    "    best_models[model_name] = model_fitted\n",
    "    \n",
    "    # Calculate metrics\n",
    "    model_results = {}\n",
    "    for metric_name, evaluator in evaluators.items():\n",
    "        score = evaluator.evaluate(predictions)\n",
    "        model_results[metric_name] = score\n",
    "        print(f\"{metric_name}: {score:.4f}\")\n",
    "    \n",
    "    balanced_results[model_name] = model_results"
   ]
  },
  {
   "cell_type": "markdown",
   "id": "02217142",
   "metadata": {},
   "source": [
    "## 10. Comparison of Results (Before vs. After Class Balancing)"
   ]
  },
  {
   "cell_type": "code",
   "execution_count": 13,
   "id": "a82598fc",
   "metadata": {},
   "outputs": [
    {
     "name": "stdout",
     "output_type": "stream",
     "text": [
      "Model Comparison:\n"
     ]
    },
    {
     "data": {
      "text/html": [
       "<div>\n",
       "<style scoped>\n",
       "    .dataframe tbody tr th:only-of-type {\n",
       "        vertical-align: middle;\n",
       "    }\n",
       "\n",
       "    .dataframe tbody tr th {\n",
       "        vertical-align: top;\n",
       "    }\n",
       "\n",
       "    .dataframe thead th {\n",
       "        text-align: right;\n",
       "    }\n",
       "</style>\n",
       "<table border=\"1\" class=\"dataframe\">\n",
       "  <thead>\n",
       "    <tr style=\"text-align: right;\">\n",
       "      <th></th>\n",
       "      <th>Model</th>\n",
       "      <th>Area Under ROC</th>\n",
       "      <th>Area Under PR</th>\n",
       "      <th>Accuracy</th>\n",
       "      <th>WeightedPrecision</th>\n",
       "      <th>WeightedRecall</th>\n",
       "      <th>F1 Score</th>\n",
       "      <th>Dataset</th>\n",
       "    </tr>\n",
       "  </thead>\n",
       "  <tbody>\n",
       "    <tr>\n",
       "      <th>0</th>\n",
       "      <td>Logistic Regression (Optimized)</td>\n",
       "      <td>0.536393</td>\n",
       "      <td>0.794153</td>\n",
       "      <td>0.769818</td>\n",
       "      <td>0.593523</td>\n",
       "      <td>0.769818</td>\n",
       "      <td>0.670272</td>\n",
       "      <td>Unbalanced</td>\n",
       "    </tr>\n",
       "    <tr>\n",
       "      <th>1</th>\n",
       "      <td>Random Forest (Optimized)</td>\n",
       "      <td>0.528514</td>\n",
       "      <td>0.792571</td>\n",
       "      <td>0.770481</td>\n",
       "      <td>0.593641</td>\n",
       "      <td>0.770481</td>\n",
       "      <td>0.670598</td>\n",
       "      <td>Unbalanced</td>\n",
       "    </tr>\n",
       "    <tr>\n",
       "      <th>2</th>\n",
       "      <td>Gradient Boosting (Optimized)</td>\n",
       "      <td>0.525374</td>\n",
       "      <td>0.791035</td>\n",
       "      <td>0.769486</td>\n",
       "      <td>0.682435</td>\n",
       "      <td>0.769486</td>\n",
       "      <td>0.673176</td>\n",
       "      <td>Unbalanced</td>\n",
       "    </tr>\n",
       "    <tr>\n",
       "      <th>3</th>\n",
       "      <td>Decision Tree</td>\n",
       "      <td>0.495546</td>\n",
       "      <td>0.771447</td>\n",
       "      <td>0.767828</td>\n",
       "      <td>0.670789</td>\n",
       "      <td>0.767828</td>\n",
       "      <td>0.674116</td>\n",
       "      <td>Unbalanced</td>\n",
       "    </tr>\n",
       "    <tr>\n",
       "      <th>4</th>\n",
       "      <td>Naive Bayes</td>\n",
       "      <td>0.501965</td>\n",
       "      <td>0.777833</td>\n",
       "      <td>0.770481</td>\n",
       "      <td>0.709094</td>\n",
       "      <td>0.770481</td>\n",
       "      <td>0.673680</td>\n",
       "      <td>Unbalanced</td>\n",
       "    </tr>\n",
       "    <tr>\n",
       "      <th>5</th>\n",
       "      <td>Logistic Regression (Optimized)</td>\n",
       "      <td>0.535208</td>\n",
       "      <td>0.791458</td>\n",
       "      <td>0.769486</td>\n",
       "      <td>0.688945</td>\n",
       "      <td>0.769486</td>\n",
       "      <td>0.674377</td>\n",
       "      <td>Balanced (SMOTE)</td>\n",
       "    </tr>\n",
       "    <tr>\n",
       "      <th>6</th>\n",
       "      <td>Random Forest (Optimized)</td>\n",
       "      <td>0.527411</td>\n",
       "      <td>0.797654</td>\n",
       "      <td>0.770481</td>\n",
       "      <td>0.593641</td>\n",
       "      <td>0.770481</td>\n",
       "      <td>0.670598</td>\n",
       "      <td>Balanced (SMOTE)</td>\n",
       "    </tr>\n",
       "    <tr>\n",
       "      <th>7</th>\n",
       "      <td>Gradient Boosting (Optimized)</td>\n",
       "      <td>0.522883</td>\n",
       "      <td>0.792195</td>\n",
       "      <td>0.769818</td>\n",
       "      <td>0.670307</td>\n",
       "      <td>0.769818</td>\n",
       "      <td>0.671512</td>\n",
       "      <td>Balanced (SMOTE)</td>\n",
       "    </tr>\n",
       "    <tr>\n",
       "      <th>8</th>\n",
       "      <td>Decision Tree</td>\n",
       "      <td>0.481877</td>\n",
       "      <td>0.764272</td>\n",
       "      <td>0.770149</td>\n",
       "      <td>0.593582</td>\n",
       "      <td>0.770149</td>\n",
       "      <td>0.670435</td>\n",
       "      <td>Balanced (SMOTE)</td>\n",
       "    </tr>\n",
       "    <tr>\n",
       "      <th>9</th>\n",
       "      <td>Naive Bayes</td>\n",
       "      <td>0.501971</td>\n",
       "      <td>0.777847</td>\n",
       "      <td>0.755887</td>\n",
       "      <td>0.654276</td>\n",
       "      <td>0.755887</td>\n",
       "      <td>0.676437</td>\n",
       "      <td>Balanced (SMOTE)</td>\n",
       "    </tr>\n",
       "  </tbody>\n",
       "</table>\n",
       "</div>"
      ],
      "text/plain": [
       "                             Model  Area Under ROC  Area Under PR  Accuracy  \\\n",
       "0  Logistic Regression (Optimized)        0.536393       0.794153  0.769818   \n",
       "1        Random Forest (Optimized)        0.528514       0.792571  0.770481   \n",
       "2    Gradient Boosting (Optimized)        0.525374       0.791035  0.769486   \n",
       "3                    Decision Tree        0.495546       0.771447  0.767828   \n",
       "4                      Naive Bayes        0.501965       0.777833  0.770481   \n",
       "5  Logistic Regression (Optimized)        0.535208       0.791458  0.769486   \n",
       "6        Random Forest (Optimized)        0.527411       0.797654  0.770481   \n",
       "7    Gradient Boosting (Optimized)        0.522883       0.792195  0.769818   \n",
       "8                    Decision Tree        0.481877       0.764272  0.770149   \n",
       "9                      Naive Bayes        0.501971       0.777847  0.755887   \n",
       "\n",
       "   WeightedPrecision  WeightedRecall  F1 Score           Dataset  \n",
       "0           0.593523        0.769818  0.670272        Unbalanced  \n",
       "1           0.593641        0.770481  0.670598        Unbalanced  \n",
       "2           0.682435        0.769486  0.673176        Unbalanced  \n",
       "3           0.670789        0.767828  0.674116        Unbalanced  \n",
       "4           0.709094        0.770481  0.673680        Unbalanced  \n",
       "5           0.688945        0.769486  0.674377  Balanced (SMOTE)  \n",
       "6           0.593641        0.770481  0.670598  Balanced (SMOTE)  \n",
       "7           0.670307        0.769818  0.671512  Balanced (SMOTE)  \n",
       "8           0.593582        0.770149  0.670435  Balanced (SMOTE)  \n",
       "9           0.654276        0.755887  0.676437  Balanced (SMOTE)  "
      ]
     },
     "metadata": {},
     "output_type": "display_data"
    },
    {
     "data": {
      "image/png": "[encoded data removed]",
      "text/plain": [
       "<Figure size 1800x1200 with 6 Axes>"
      ]
     },
     "metadata": {},
     "output_type": "display_data"
    }
   ],
   "source": [
    "# Convert results to DataFrames for visualization\n",
    "unbalanced_df = pd.DataFrame(unbalanced_results).T\n",
    "unbalanced_df['Dataset'] = 'Unbalanced'\n",
    "\n",
    "balanced_df = pd.DataFrame(balanced_results).T\n",
    "balanced_df['Dataset'] = 'Balanced (SMOTE)'\n",
    "\n",
    "# Combine results\n",
    "all_results = pd.concat([unbalanced_df, balanced_df])\n",
    "all_results = all_results.reset_index().rename(columns={'index': 'Model'})\n",
    "\n",
    "# Display results table\n",
    "pd.set_option('display.max_columns', None)\n",
    "pd.set_option('display.width', None)\n",
    "print(\"Model Comparison:\")\n",
    "display(all_results)\n",
    "\n",
    "# Reshape data for plotting\n",
    "metrics = ['Area Under ROC', 'Area Under PR', 'Accuracy', 'WeightedPrecision', 'WeightedRecall', 'F1 Score']\n",
    "plot_data = pd.melt(\n",
    "    all_results, \n",
    "    id_vars=['Model', 'Dataset'], \n",
    "    value_vars=metrics, \n",
    "    var_name='Metric', \n",
    "    value_name='Score'\n",
    ")\n",
    "\n",
    "# Plot the comparison for each metric\n",
    "plt.figure(figsize=(18, 12))\n",
    "for i, metric in enumerate(metrics, 1):\n",
    "    plt.subplot(2, 3, i)\n",
    "    metric_data = plot_data[plot_data['Metric'] == metric]\n",
    "    sns.barplot(x='Model', y='Score', hue='Dataset', data=metric_data)\n",
    "    plt.title(f'Comparison of {metric}')\n",
    "    plt.xticks(rotation=45)\n",
    "    plt.ylim(0, 1)\n",
    "    if i > 3:\n",
    "        plt.legend(title='Dataset')\n",
    "    else:\n",
    "        plt.legend([],[], frameon=False)\n",
    "\n",
    "plt.tight_layout()\n",
    "plt.show()"
   ]
  },
  {
   "cell_type": "markdown",
   "id": "22746a09",
   "metadata": {},
   "source": [
    "## 11. Feature Importance Analysis for Best Model"
   ]
  },
  {
   "cell_type": "code",
   "execution_count": 14,
   "id": "413976ee",
   "metadata": {},
   "outputs": [
    {
     "name": "stdout",
     "output_type": "stream",
     "text": [
      "Best model: Logistic Regression (Optimized) with ROC AUC: 0.5352\n",
      "Feature importance analysis not available for this model type.\n"
     ]
    }
   ],
   "source": [
    "# Find the best model based on Area Under ROC\n",
    "best_model_name = balanced_df['Area Under ROC'].idxmax()\n",
    "best_model = best_models[best_model_name]\n",
    "print(f\"Best model: {best_model_name} with ROC AUC: {balanced_df.loc[best_model_name, 'Area Under ROC']:.4f}\")\n",
    "\n",
    "# Get feature importance if the best model supports it\n",
    "if best_model_name in [\"Random Forest (Optimized)\", \"Gradient Boosting (Optimized)\", \"Decision Tree\"]:\n",
    "    feature_importances = best_model.featureImportances\n",
    "    importances_array = feature_importances.toArray()\n",
    "    feature_imp_length = len(importances_array)\n",
    "    \n",
    "    # Get the column names after vectorization\n",
    "    feature_cols = []\n",
    "    for col in numerical_features:\n",
    "        feature_cols.append(col)\n",
    "\n",
    "    for feature in categorical_features:\n",
    "        # Get the number of categories (subtracting 1 because of one-hot encoding with dropLast=True)\n",
    "        try:\n",
    "            num_categories = len(test_data_transformed\n",
    "                               .select(f\"{feature}_indexed\")\n",
    "                               .distinct()\n",
    "                               .collect()) - 1\n",
    "            \n",
    "            for i in range(num_categories):\n",
    "                feature_cols.append(f\"{feature}_{i}\")\n",
    "        except Exception as e:\n",
    "            print(f\"Warning: Error processing feature {feature}: {e}\")\n",
    "\n",
    "    # Check if lengths match and adjust if necessary\n",
    "    print(f\"Number of feature importance values: {feature_imp_length}\")\n",
    "    print(f\"Number of feature names: {len(feature_cols)}\")\n",
    "    \n",
    "    if len(feature_cols) != feature_imp_length:\n",
    "        print(\"Warning: Feature names and importance values have different lengths. Adjusting...\")\n",
    "        # Adjust feature columns to match the length of importance values\n",
    "        if len(feature_cols) > feature_imp_length:\n",
    "            feature_cols = feature_cols[:feature_imp_length]\n",
    "        else:\n",
    "            # If we have more importance values than features, add generic names\n",
    "            while len(feature_cols) < feature_imp_length:\n",
    "                feature_cols.append(f\"Unknown_Feature_{len(feature_cols)}\")\n",
    "\n",
    "    # Create a DataFrame for visualization\n",
    "    importances_df = pd.DataFrame({\n",
    "        'Feature': feature_cols,\n",
    "        'Importance': importances_array\n",
    "    })\n",
    "\n",
    "    # Sort by importance\n",
    "    importances_df = importances_df.sort_values('Importance', ascending=False)\n",
    "\n",
    "    # Plot the feature importances\n",
    "    plt.figure(figsize=(12, 8))\n",
    "    sns.barplot(x='Importance', y='Feature', data=importances_df.head(20))\n",
    "    plt.title(f'Feature Importances for {best_model_name}')\n",
    "    plt.tight_layout()\n",
    "    plt.show()\n",
    "    \n",
    "    # Print top features\n",
    "    print(\"Top 10 most important features:\")\n",
    "    display(importances_df.head(10))\n",
    "else:\n",
    "    print(\"Feature importance analysis not available for this model type.\")"
   ]
  },
  {
   "cell_type": "markdown",
   "id": "66c90564",
   "metadata": {},
   "source": [
    "## 12. Confusion Matrix"
   ]
  },
  {
   "cell_type": "code",
   "execution_count": 15,
   "id": "5b28e111",
   "metadata": {},
   "outputs": [
    {
     "name": "stderr",
     "output_type": "stream",
     "text": [
      "                                                                                \r"
     ]
    },
    {
     "data": {
      "text/plain": [
       "<Figure size 800x600 with 0 Axes>"
      ]
     },
     "metadata": {},
     "output_type": "display_data"
    },
    {
     "data": {
      "image/png": "[encoded data removed]",
      "text/plain": [
       "<Figure size 640x480 with 2 Axes>"
      ]
     },
     "metadata": {},
     "output_type": "display_data"
    }
   ],
   "source": [
    "# Get predictions from best model\n",
    "best_predictions = best_model.transform(test_data_transformed)\n",
    "\n",
    "# Confusion Matrix\n",
    "from sklearn.metrics import confusion_matrix, ConfusionMatrixDisplay\n",
    "\n",
    "# Convert predictions to pandas for sklearn's functions\n",
    "y_true = best_predictions.select(target_classification).toPandas()\n",
    "y_pred = best_predictions.select('prediction').toPandas()\n",
    "\n",
    "# Create and plot confusion matrix\n",
    "cm = confusion_matrix(y_true, y_pred)\n",
    "plt.figure(figsize=(8, 6))\n",
    "ConfusionMatrixDisplay(cm, display_labels=['No Injury/Death', 'Injury/Death']).plot(cmap='Blues')\n",
    "plt.title(f'Confusion Matrix for {best_model_name}')\n",
    "plt.show()"
   ]
  },
  {
   "cell_type": "code",
   "execution_count": 17,
   "id": "851c47c8",
   "metadata": {},
   "outputs": [
    {
     "name": "stdout",
     "output_type": "stream",
     "text": [
      "\n",
      "Computing confusion matrix for balanced Logistic Regression (Optimized)...\n"
     ]
    },
    {
     "name": "stderr",
     "output_type": "stream",
     "text": [
      "                                                                                \r"
     ]
    },
    {
     "name": "stdout",
     "output_type": "stream",
     "text": [
      "Confusion Matrix for balanced Logistic Regression (Optimized):\n",
      "True Negative: 7\n",
      "False Positive: 685\n",
      "False Negative: 10\n",
      "True Positive: 2313\n",
      "Accuracy: 0.7695\n",
      "Precision: 0.7715\n",
      "Recall (Sensitivity): 0.9957\n",
      "Specificity: 0.0101\n",
      "F1 Score: 0.8694\n",
      "\n",
      "Computing confusion matrix for balanced Random Forest (Optimized)...\n"
     ]
    },
    {
     "name": "stderr",
     "output_type": "stream",
     "text": [
      "                                                                                \r"
     ]
    },
    {
     "name": "stdout",
     "output_type": "stream",
     "text": [
      "Confusion Matrix for balanced Random Forest (Optimized):\n",
      "True Negative: 0\n",
      "False Positive: 692\n",
      "False Negative: 0\n",
      "True Positive: 2323\n",
      "Accuracy: 0.7705\n",
      "Precision: 0.7705\n",
      "Recall (Sensitivity): 1.0000\n",
      "Specificity: 0.0000\n",
      "F1 Score: 0.8704\n",
      "\n",
      "Computing confusion matrix for balanced Gradient Boosting (Optimized)...\n"
     ]
    },
    {
     "name": "stderr",
     "output_type": "stream",
     "text": [
      "                                                                                \r"
     ]
    },
    {
     "name": "stdout",
     "output_type": "stream",
     "text": [
      "Confusion Matrix for balanced Gradient Boosting (Optimized):\n",
      "True Negative: 2\n",
      "False Positive: 690\n",
      "False Negative: 4\n",
      "True Positive: 2319\n",
      "Accuracy: 0.7698\n",
      "Precision: 0.7707\n",
      "Recall (Sensitivity): 0.9983\n",
      "Specificity: 0.0029\n",
      "F1 Score: 0.8698\n",
      "\n",
      "Computing confusion matrix for balanced Decision Tree...\n"
     ]
    },
    {
     "name": "stderr",
     "output_type": "stream",
     "text": [
      "                                                                                \r"
     ]
    },
    {
     "name": "stdout",
     "output_type": "stream",
     "text": [
      "Confusion Matrix for balanced Decision Tree:\n",
      "True Negative: 0\n",
      "False Positive: 692\n",
      "False Negative: 1\n",
      "True Positive: 2322\n",
      "Accuracy: 0.7701\n",
      "Precision: 0.7704\n",
      "Recall (Sensitivity): 0.9996\n",
      "Specificity: 0.0000\n",
      "F1 Score: 0.8702\n",
      "\n",
      "Computing confusion matrix for balanced Naive Bayes...\n"
     ]
    },
    {
     "name": "stderr",
     "output_type": "stream",
     "text": [
      "                                                                                \r"
     ]
    },
    {
     "name": "stdout",
     "output_type": "stream",
     "text": [
      "Confusion Matrix for balanced Naive Bayes:\n",
      "True Negative: 24\n",
      "False Positive: 668\n",
      "False Negative: 68\n",
      "True Positive: 2255\n",
      "Accuracy: 0.7559\n",
      "Precision: 0.7715\n",
      "Recall (Sensitivity): 0.9707\n",
      "Specificity: 0.0347\n",
      "F1 Score: 0.8597\n"
     ]
    },
    {
     "data": {
      "image/png": "[encoded data removed]",
      "text/plain": [
       "<Figure size 1800x1200 with 11 Axes>"
      ]
     },
     "metadata": {},
     "output_type": "display_data"
    }
   ],
   "source": [
    "# Generate and plot confusion matrices for all balanced models\n",
    "from sklearn.metrics import confusion_matrix, ConfusionMatrixDisplay\n",
    "import matplotlib.pyplot as plt\n",
    "\n",
    "# Create a figure with subplots for each model\n",
    "num_models = len(balanced_models)\n",
    "fig, axes = plt.subplots(nrows=2, ncols=3, figsize=(18, 12))\n",
    "axes = axes.flatten()  # Flatten the 2D array of axes to make indexing easier\n",
    "\n",
    "# Process each model\n",
    "for i, (model_name, model) in enumerate(best_models.items()):\n",
    "    print(f\"\\nComputing confusion matrix for balanced {model_name}...\")\n",
    "    \n",
    "    # Generate predictions\n",
    "    predictions = model.transform(test_data_transformed)\n",
    "    \n",
    "    # Convert predictions to pandas for sklearn's functions\n",
    "    y_true = predictions.select(target_classification).toPandas()\n",
    "    y_pred = predictions.select('prediction').toPandas()\n",
    "    \n",
    "    # Create confusion matrix\n",
    "    cm = confusion_matrix(y_true, y_pred)\n",
    "    \n",
    "    # Plot on the corresponding subplot\n",
    "    if i < len(axes):\n",
    "        ax = axes[i]\n",
    "        disp = ConfusionMatrixDisplay(cm, display_labels=['No Injury/Death', 'Injury/Death'])\n",
    "        disp.plot(ax=ax, cmap='Blues', values_format='d')\n",
    "        ax.set_title(f'Balanced: {model_name}')\n",
    "        \n",
    "        # Print the confusion matrix values\n",
    "        print(f\"Confusion Matrix for balanced {model_name}:\")\n",
    "        print(f\"True Negative: {cm[0,0]}\")\n",
    "        print(f\"False Positive: {cm[0,1]}\")\n",
    "        print(f\"False Negative: {cm[1,0]}\")\n",
    "        print(f\"True Positive: {cm[1,1]}\")\n",
    "        \n",
    "        # Calculate additional metrics\n",
    "        tn, fp, fn, tp = cm.ravel()\n",
    "        accuracy = (tp + tn) / (tp + tn + fp + fn)\n",
    "        precision = tp / (tp + fp) if (tp + fp) > 0 else 0\n",
    "        recall = tp / (tp + fn) if (tp + fn) > 0 else 0\n",
    "        specificity = tn / (tn + fp) if (tn + fp) > 0 else 0\n",
    "        f1 = 2 * precision * recall / (precision + recall) if (precision + recall) > 0 else 0\n",
    "        \n",
    "        print(f\"Accuracy: {accuracy:.4f}\")\n",
    "        print(f\"Precision: {precision:.4f}\")\n",
    "        print(f\"Recall (Sensitivity): {recall:.4f}\")\n",
    "        print(f\"Specificity: {specificity:.4f}\")\n",
    "        print(f\"F1 Score: {f1:.4f}\")\n",
    "\n",
    "\n",
    "plt.tight_layout()\n",
    "plt.suptitle('Confusion Matrices for Models Trained on Balanced Data', fontsize=16)\n",
    "plt.subplots_adjust(top=0.92)\n",
    "plt.show()"
   ]
  },
  {
   "cell_type": "code",
   "execution_count": 18,
   "id": "b665c8a2",
   "metadata": {},
   "outputs": [
    {
     "name": "stdout",
     "output_type": "stream",
     "text": [
      "\n",
      "Computing confusion matrix for unbalanced Logistic Regression (Optimized)...\n"
     ]
    },
    {
     "name": "stderr",
     "output_type": "stream",
     "text": [
      "                                                                                \r"
     ]
    },
    {
     "name": "stdout",
     "output_type": "stream",
     "text": [
      "Confusion Matrix for unbalanced Logistic Regression (Optimized):\n",
      "True Negative: 0\n",
      "False Positive: 692\n",
      "False Negative: 2\n",
      "True Positive: 2321\n",
      "Accuracy: 0.7698\n",
      "Precision: 0.7703\n",
      "Recall (Sensitivity): 0.9991\n",
      "Specificity: 0.0000\n",
      "F1 Score: 0.8699\n",
      "\n",
      "Computing confusion matrix for unbalanced Random Forest (Optimized)...\n"
     ]
    },
    {
     "name": "stderr",
     "output_type": "stream",
     "text": [
      "                                                                                \r"
     ]
    },
    {
     "name": "stdout",
     "output_type": "stream",
     "text": [
      "Confusion Matrix for unbalanced Random Forest (Optimized):\n",
      "True Negative: 0\n",
      "False Positive: 692\n",
      "False Negative: 0\n",
      "True Positive: 2323\n",
      "Accuracy: 0.7705\n",
      "Precision: 0.7705\n",
      "Recall (Sensitivity): 1.0000\n",
      "Specificity: 0.0000\n",
      "F1 Score: 0.8704\n",
      "\n",
      "Computing confusion matrix for unbalanced Gradient Boosting (Optimized)...\n"
     ]
    },
    {
     "name": "stderr",
     "output_type": "stream",
     "text": [
      "                                                                                \r"
     ]
    },
    {
     "name": "stdout",
     "output_type": "stream",
     "text": [
      "Confusion Matrix for unbalanced Gradient Boosting (Optimized):\n",
      "True Negative: 5\n",
      "False Positive: 687\n",
      "False Negative: 8\n",
      "True Positive: 2315\n",
      "Accuracy: 0.7695\n",
      "Precision: 0.7712\n",
      "Recall (Sensitivity): 0.9966\n",
      "Specificity: 0.0072\n",
      "F1 Score: 0.8695\n",
      "\n",
      "Computing confusion matrix for unbalanced Decision Tree...\n"
     ]
    },
    {
     "name": "stderr",
     "output_type": "stream",
     "text": [
      "                                                                                \r"
     ]
    },
    {
     "name": "stdout",
     "output_type": "stream",
     "text": [
      "Confusion Matrix for unbalanced Decision Tree:\n",
      "True Negative: 8\n",
      "False Positive: 684\n",
      "False Negative: 16\n",
      "True Positive: 2307\n",
      "Accuracy: 0.7678\n",
      "Precision: 0.7713\n",
      "Recall (Sensitivity): 0.9931\n",
      "Specificity: 0.0116\n",
      "F1 Score: 0.8683\n",
      "\n",
      "Computing confusion matrix for unbalanced Naive Bayes...\n"
     ]
    },
    {
     "name": "stderr",
     "output_type": "stream",
     "text": [
      "                                                                                \r"
     ]
    },
    {
     "name": "stdout",
     "output_type": "stream",
     "text": [
      "Confusion Matrix for unbalanced Naive Bayes:\n",
      "True Negative: 5\n",
      "False Positive: 687\n",
      "False Negative: 5\n",
      "True Positive: 2318\n",
      "Accuracy: 0.7705\n",
      "Precision: 0.7714\n",
      "Recall (Sensitivity): 0.9978\n",
      "Specificity: 0.0072\n",
      "F1 Score: 0.8701\n"
     ]
    },
    {
     "data": {
      "image/png": "[encoded data removed]",
      "text/plain": [
       "<Figure size 1800x1200 with 11 Axes>"
      ]
     },
     "metadata": {},
     "output_type": "display_data"
    }
   ],
   "source": [
    "# Confusion Matrices for Unbalanced Models\n",
    "# Generate and plot confusion matrices for all unbalanced models\n",
    "from sklearn.metrics import confusion_matrix, ConfusionMatrixDisplay\n",
    "import matplotlib.pyplot as plt\n",
    "\n",
    "# Dictionary to store trained unbalanced models\n",
    "unbalanced_fitted_models = {}\n",
    "\n",
    "# Create a figure with subplots for each unbalanced model\n",
    "num_models = len(unbalanced_models)\n",
    "fig, axes = plt.subplots(nrows=2, ncols=3, figsize=(18, 12))\n",
    "axes = axes.flatten()  # Flatten the 2D array of axes to make indexing easier\n",
    "\n",
    "# Process each model\n",
    "for i, (model_name, model) in enumerate(unbalanced_models.items()):\n",
    "    print(f\"\\nComputing confusion matrix for unbalanced {model_name}...\")\n",
    "    \n",
    "    # Train the model if not already done\n",
    "    model_fitted = model.fit(train_data_transformed)\n",
    "    unbalanced_fitted_models[model_name] = model_fitted\n",
    "    \n",
    "    # Generate predictions\n",
    "    predictions = model_fitted.transform(test_data_transformed)\n",
    "    \n",
    "    # Convert predictions to pandas for sklearn's functions\n",
    "    y_true = predictions.select(target_classification).toPandas()\n",
    "    y_pred = predictions.select('prediction').toPandas()\n",
    "    \n",
    "    # Create confusion matrix\n",
    "    cm = confusion_matrix(y_true, y_pred)\n",
    "    \n",
    "    # Plot on the corresponding subplot\n",
    "    if i < len(axes):\n",
    "        ax = axes[i]\n",
    "        disp = ConfusionMatrixDisplay(cm, display_labels=['No Injury/Death', 'Injury/Death'])\n",
    "        disp.plot(ax=ax, cmap='Blues', values_format='d')\n",
    "        ax.set_title(f'Unbalanced: {model_name}')\n",
    "        \n",
    "        # Print the confusion matrix values\n",
    "        print(f\"Confusion Matrix for unbalanced {model_name}:\")\n",
    "        print(f\"True Negative: {cm[0,0]}\")\n",
    "        print(f\"False Positive: {cm[0,1]}\")\n",
    "        print(f\"False Negative: {cm[1,0]}\")\n",
    "        print(f\"True Positive: {cm[1,1]}\")\n",
    "        \n",
    "        # Calculate additional metrics\n",
    "        tn, fp, fn, tp = cm.ravel()\n",
    "        accuracy = (tp + tn) / (tp + tn + fp + fn)\n",
    "        precision = tp / (tp + fp) if (tp + fp) > 0 else 0\n",
    "        recall = tp / (tp + fn) if (tp + fn) > 0 else 0\n",
    "        specificity = tn / (tn + fp) if (tn + fp) > 0 else 0\n",
    "        f1 = 2 * precision * recall / (precision + recall) if (precision + recall) > 0 else 0\n",
    "        \n",
    "        print(f\"Accuracy: {accuracy:.4f}\")\n",
    "        print(f\"Precision: {precision:.4f}\")\n",
    "        print(f\"Recall (Sensitivity): {recall:.4f}\")\n",
    "        print(f\"Specificity: {specificity:.4f}\")\n",
    "        print(f\"F1 Score: {f1:.4f}\")\n",
    "\n",
    "\n",
    "plt.tight_layout()\n",
    "plt.suptitle('Confusion Matrices for Models Trained on Unbalanced Data', fontsize=16)\n",
    "plt.subplots_adjust(top=0.92)\n",
    "plt.show()\n"
   ]
  }
 ],
 "metadata": {
  "kernelspec": {
   "display_name": "Python 3",
   "language": "python",
   "name": "python3"
  },
  "language_info": {
   "codemirror_mode": {
    "name": "ipython",
    "version": 3
   },
   "file_extension": ".py",
   "mimetype": "text/x-python",
   "name": "python",
   "nbconvert_exporter": "python",
   "pygments_lexer": "ipython3",
   "version": "3.9.6"
  }
 },
 "nbformat": 4,
 "nbformat_minor": 5
}
