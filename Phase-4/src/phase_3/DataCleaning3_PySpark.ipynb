{
 "cells": [
  {
   "cell_type": "markdown",
   "metadata": {},
   "source": [
    "## Re-reading the data written by the last ipynb file"
   ]
  },
  {
   "cell_type": "code",
   "execution_count": null,
   "metadata": {},
   "outputs": [],
   "source": [
    "# Importing all the required toos and some functions like regex and cleaning\n",
    "from pyspark.sql import SparkSession\n",
    "from pyspark.sql.functions import col, when, isnan, udf, lit, lower, regexp_extract, count, array, coalesce\n",
    "from pyspark.sql.types import StringType, IntegerType, BooleanType\n",
    "import re"
   ]
  },
  {
   "cell_type": "code",
   "execution_count": null,
   "metadata": {},
   "outputs": [
    {
     "name": "stderr",
     "output_type": "stream",
     "text": [
      "25/04/13 18:24:17 WARN Utils: Your hostname, Huis-Surface-Laptop-3.local resolves to a loopback address: 127.0.0.1; using 192.168.1.211 instead (on interface en0)\n",
      "25/04/13 18:24:17 WARN Utils: Set SPARK_LOCAL_IP if you need to bind to another address\n",
      "Setting default log level to \"WARN\".\n",
      "To adjust logging level use sc.setLogLevel(newLevel). For SparkR, use setLogLevel(newLevel).\n",
      "25/04/13 18:24:17 WARN NativeCodeLoader: Unable to load native-hadoop library for your platform... using builtin-java classes where applicable\n"
     ]
    }
   ],
   "source": [
    "# Now we start 3rd session for spark\n",
    "spark = SparkSession.builder.appName(\"DataCleaning3\").getOrCreate()"
   ]
  },
  {
   "cell_type": "code",
   "execution_count": null,
   "metadata": {},
   "outputs": [],
   "source": [
    "# Now we load the data written by the last ipynb file\n",
    "df = spark.read.option(\"header\", True).csv(\"Intermediate2\")"
   ]
  },
  {
   "cell_type": "markdown",
   "metadata": {},
   "source": [
    "## 9 B. Filling Missing Values for BOROUGH"
   ]
  },
  {
   "cell_type": "code",
   "execution_count": null,
   "metadata": {},
   "outputs": [],
   "source": [
    "# Here we define the NYC boroughs and then a user defined function to find where it is located in\n",
    "boroughs = ['brooklyn', 'manhattan', 'queens', 'bronx', 'staten island']\n",
    "\n",
    "def find_borough(address):\n",
    "    if address is None:\n",
    "        return None\n",
    "    address = address.lower()\n",
    "    for borough in boroughs:\n",
    "        if borough in address:\n",
    "            return borough.upper()\n",
    "    return None\n",
    "\n",
    "find_borough_udf = udf(find_borough, StringType())\n",
    "\n",
    "#Now we fill the missing information found in the address\n",
    "df = df.withColumn(\"BOROUGH\", coalesce(col(\"BOROUGH\"), find_borough_udf(col(\"Location\"))))"
   ]
  },
  {
   "cell_type": "markdown",
   "metadata": {},
   "source": [
    "## 9 C. Filling Missing Values for LATITUDE and LONGITUDE"
   ]
  },
  {
   "cell_type": "code",
   "execution_count": null,
   "metadata": {},
   "outputs": [],
   "source": [
    "# Now filling LATITUDE and LONGITUDE by using the values.\n",
    "df = df.withColumn(\"LATITUDE\", coalesce(col(\"LATITUDE\"), col(\"NLat\")))\n",
    "df = df.withColumn(\"LONGITUDE\", coalesce(col(\"LONGITUDE\"), col(\"NLong\")))"
   ]
  },
  {
   "cell_type": "markdown",
   "metadata": {},
   "source": [
    "## 9 D. Extracting ZIP CODE from Location"
   ]
  },
  {
   "cell_type": "code",
   "execution_count": null,
   "metadata": {},
   "outputs": [],
   "source": [
    "# Now we define a function to find zip code from the location feild\n",
    "def extract_zip_code(location):\n",
    "    if location is None:\n",
    "        return None\n",
    "    match = re.search(r'\\b\\d{5}\\b', location)\n",
    "    return int(match.group(0)) if match else None\n",
    "\n",
    "extract_zip_code_udf = udf(extract_zip_code, IntegerType())\n",
    "\n",
    "# Filling the ZIP CODE extracted from the location column\n",
    "df = df.withColumn(\"ZIP CODE\",\n",
    "    when(col(\"ZIP CODE\") == 0, extract_zip_code_udf(col(\"Location\"))).otherwise(col(\"ZIP CODE\"))\n",
    ")"
   ]
  },
  {
   "cell_type": "markdown",
   "metadata": {},
   "source": [
    "## 5 B.Removing Duplicate Rows"
   ]
  },
  {
   "cell_type": "code",
   "execution_count": null,
   "metadata": {},
   "outputs": [],
   "source": [
    "# Here we list all the columns we dont need.\n",
    "columns_to_exclude = ['CRASH DATE', 'CRASH TIME', 'NeedToProcess', 'Addresses', 'NLat', 'NLong', 'Location']\n",
    "valid_location_mask = col(\"LATITUDE\").isNotNull() & col(\"LONGITUDE\").isNotNull()\n",
    "\n",
    "# Now we keep the rows with a valid coordinate\n",
    "columns_to_count = [col for col in df.columns if col not in columns_to_exclude]\n",
    "df = df.filter(valid_location_mask).withColumn(\"non_null_count\",\n",
    "    sum([when(col(c).isNotNull(), 1).otherwise(0) for c in columns_to_count])\n",
    ")\n",
    "\n",
    "# Now we keep only which has all the details\n",
    "df = df.orderBy([\"CRASH DATE & TIME\", \"LATITUDE\", \"LONGITUDE\", col(\"non_null_count\").desc()])\n",
    "df = df.dropDuplicates([\"CRASH DATE & TIME\", \"LATITUDE\", \"LONGITUDE\"]).drop(\"non_null_count\")"
   ]
  },
  {
   "cell_type": "markdown",
   "metadata": {},
   "source": [
    "## 10. Standardizing Vehicle Types"
   ]
  },
  {
   "cell_type": "code",
   "execution_count": null,
   "metadata": {},
   "outputs": [],
   "source": [
    "# Now we group vehicle types so as to standardize similar names\n",
    "vehicle_mappings = {\n",
    "    'sedan': ['4dsd', '2dsd', 'sedan'],\n",
    "    'suv': ['suv', 'suburban'],\n",
    "    'truck': ['pickup', 'flatbed'],\n",
    "}\n",
    "\n",
    "def clean_vehicle_type(value):\n",
    "    if value is None:\n",
    "        return None\n",
    "    value = value.lower().strip()\n",
    "    for standard_type, variations in vehicle_mappings.items():\n",
    "        if value in variations:\n",
    "            return standard_type\n",
    "    return value\n",
    "\n",
    "clean_vehicle_type_udf = udf(clean_vehicle_type, StringType())\n",
    "\n",
    "# Apply UDF to all the columns\n",
    "vehicle_columns = ['VEHICLE TYPE CODE 1', 'VEHICLE TYPE CODE 2', 'VEHICLE TYPE CODE 3', 'VEHICLE TYPE CODE 4', 'VEHICLE TYPE CODE 5']\n",
    "for col_name in vehicle_columns:\n",
    "    df = df.withColumn(col_name, clean_vehicle_type_udf(col(col_name)))"
   ]
  },
  {
   "cell_type": "markdown",
   "metadata": {},
   "source": [
    "## 8 B. Dropping Rows Outside New York"
   ]
  },
  {
   "cell_type": "code",
   "execution_count": null,
   "metadata": {},
   "outputs": [],
   "source": [
    "# We limit the data only to new york\n",
    "lat_min, lat_max = 40.4774, 40.9176\n",
    "lon_min, lon_max = -74.2591, -73.7004\n",
    "\n",
    "# Only keep rows that are in the defined aread\n",
    "df = df.filter((col(\"LATITUDE\") >= lat_min) & (col(\"LATITUDE\") <= lat_max) &\n",
    "               (col(\"LONGITUDE\") >= lon_min) & (col(\"LONGITUDE\") <= lon_max))"
   ]
  },
  {
   "cell_type": "markdown",
   "metadata": {},
   "source": [
    "## Saving the Cleaned Data"
   ]
  },
  {
   "cell_type": "code",
   "execution_count": null,
   "metadata": {},
   "outputs": [
    {
     "name": "stderr",
     "output_type": "stream",
     "text": [
      "25/04/13 18:24:21 WARN SparkStringUtils: Truncated the string representation of a plan since it was too large. This behavior can be adjusted by setting 'spark.sql.debug.maxToStringFields'.\n",
      "Java HotSpot(TM) 64-Bit Server VM warning: CodeCache is full. Compiler has been disabled.\n",
      "Java HotSpot(TM) 64-Bit Server VM warning: Try increasing the code cache size using -XX:ReservedCodeCacheSize=\n"
     ]
    },
    {
     "name": "stdout",
     "output_type": "stream",
     "text": [
      "CodeCache: size=131072Kb used=26485Kb max_used=26875Kb free=104586Kb\n",
      " bounds [0x00000001091e0000, 0x000000010ac50000, 0x00000001111e0000]\n",
      " total_blobs=9733 nmethods=8801 adapters=842\n",
      " compilation: disabled (not enough contiguous free space left)\n"
     ]
    },
    {
     "name": "stderr",
     "output_type": "stream",
     "text": [
      "                                                                                \r"
     ]
    }
   ],
   "source": [
    "# Now we save the final cleaned data to a new folder called \"Intermediate3\"\n",
    "df.write.mode(\"overwrite\").option(\"header\", True).csv(\"Intermediate3\")"
   ]
  }
 ],
 "metadata": {
  "kernelspec": {
   "display_name": "Python 3",
   "language": "python",
   "name": "python3"
  },
  "language_info": {
   "codemirror_mode": {
    "name": "ipython",
    "version": 3
   },
   "file_extension": ".py",
   "mimetype": "text/x-python",
   "name": "python",
   "nbconvert_exporter": "python",
   "pygments_lexer": "ipython3",
   "version": "3.9.6"
  }
 },
 "nbformat": 4,
 "nbformat_minor": 2
}
