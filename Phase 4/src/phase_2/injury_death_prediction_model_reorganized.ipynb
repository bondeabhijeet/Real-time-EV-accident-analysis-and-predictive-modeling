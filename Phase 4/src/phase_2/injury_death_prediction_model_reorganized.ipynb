{
 "cells": [
  {
   "cell_type": "markdown",
   "metadata": {},
   "source": [
    "# Injury and Death Prediction Model\n"
   ]
  },
  {
   "cell_type": "markdown",
   "metadata": {},
   "source": [
    "## 1. Import Libraries"
   ]
  },
  {
   "cell_type": "code",
   "execution_count": 150,
   "metadata": {},
   "outputs": [],
   "source": [
    "\n",
    "import pandas as pd\n",
    "import numpy as np"
   ]
  },
  {
   "cell_type": "code",
   "execution_count": 151,
   "metadata": {},
   "outputs": [],
   "source": [
    "# Libraries for visual representation/ plotting the graphs\n",
    "import matplotlib.pyplot as plt\n",
    "import seaborn as sns\n",
    "\n",
    "\n",
    "# Here we set styles for matplotlib and seaborn\n",
    "plt.style.use('ggplot')\n",
    "sns.set_palette('Set2')"
   ]
  },
  {
   "cell_type": "code",
   "execution_count": 229,
   "metadata": {},
   "outputs": [],
   "source": [
    "# All the scikit learn imports\n",
    "from sklearn.model_selection import train_test_split\n",
    "from sklearn.preprocessing import OneHotEncoder, PolynomialFeatures\n",
    "from sklearn.compose import ColumnTransformer\n",
    "from sklearn.pipeline import Pipeline\n",
    "\n",
    "# Importing all the sciket learn models\n",
    "from sklearn.ensemble import RandomForestRegressor, GradientBoostingRegressor\n",
    "from sklearn.neighbors import KNeighborsRegressor, KNeighborsClassifier\n",
    "from sklearn.linear_model import LinearRegression\n",
    "from sklearn.ensemble import RandomForestClassifier\n",
    "from sklearn.ensemble import GradientBoostingClassifier\n",
    "\n",
    "# Metrics realated imports\n",
    "from sklearn.metrics import mean_squared_error, mean_absolute_error, r2_score\n",
    "from sklearn.metrics import accuracy_score, precision_score, recall_score, f1_score\n",
    "from sklearn.metrics import confusion_matrix, classification_report\n",
    "from sklearn.model_selection import cross_val_score\n",
    "\n",
    "# Here we import plotly for visualizing the optuna data\n",
    "import plotly\n",
    "import plotly.express as px\n",
    "import plotly.graph_objects as go\n",
    "import plotly.io as pio\n",
    "pio.renderers.default = \"notebook\""
   ]
  },
  {
   "cell_type": "code",
   "execution_count": 153,
   "metadata": {},
   "outputs": [],
   "source": [
    "# Importing optuna for tuning all the hyperparameters to improve our models F1 ScoreS\n",
    "import optuna\n",
    "from optuna.visualization import plot_optimization_history, plot_param_importances\n",
    "\n",
    "from sklearn.model_selection import train_test_split, cross_val_score\n",
    "from sklearn.preprocessing import OneHotEncoder\n",
    "from sklearn.compose import ColumnTransformer\n",
    "from sklearn.pipeline import Pipeline"
   ]
  },
  {
   "cell_type": "markdown",
   "metadata": {},
   "source": [
    "## 2. Data Loading and Initial Processing"
   ]
  },
  {
   "cell_type": "markdown",
   "metadata": {},
   "source": [
    "### 2.1 Importing all the data into a dataframe"
   ]
  },
  {
   "cell_type": "code",
   "execution_count": 154,
   "metadata": {},
   "outputs": [
    {
     "name": "stdout",
     "output_type": "stream",
     "text": [
      "Loading data...\n"
     ]
    }
   ],
   "source": [
    "print(\"Loading data...\")\n",
    "df = pd.read_csv('final_data.csv')"
   ]
  },
  {
   "cell_type": "markdown",
   "metadata": {},
   "source": [
    "Now, we select only electric vehicles"
   ]
  },
  {
   "cell_type": "code",
   "execution_count": 155,
   "metadata": {},
   "outputs": [],
   "source": [
    "# using the filter on the column that we created in phase-1\n",
    "df = df[df['is_e_vehicle'] == True]"
   ]
  },
  {
   "cell_type": "markdown",
   "metadata": {},
   "source": [
    "Processing the the data into 3 classes for classification algorithms"
   ]
  },
  {
   "cell_type": "code",
   "execution_count": 156,
   "metadata": {},
   "outputs": [
    {
     "name": "stdout",
     "output_type": "stream",
     "text": [
      "[*] Converting the target variables to 3 classes\n"
     ]
    }
   ],
   "source": [
    "print(\"[*] Converting the target variables to 3 classes\")\n",
    "df['CAUSALITY'] = ((df['NUMBER OF PERSONS INJURED'] > 0) | (df['NUMBER OF PERSONS KILLED'] > 0)).astype(int)\n",
    "df['NUMBER OF PERSONS INJURED'] = df['NUMBER OF PERSONS INJURED'].apply(lambda x: 2 if x >= 2 else x).astype('category')\n",
    "df['NUMBER OF PERSONS KILLED'] = df['NUMBER OF PERSONS KILLED'].apply(lambda x: 2 if x >= 2 else x).astype('category')"
   ]
  },
  {
   "cell_type": "code",
   "execution_count": 157,
   "metadata": {},
   "outputs": [
    {
     "name": "stdout",
     "output_type": "stream",
     "text": [
      "[*] First few rows:\n"
     ]
    },
    {
     "data": {
      "text/html": [
       "<div>\n",
       "<style scoped>\n",
       "    .dataframe tbody tr th:only-of-type {\n",
       "        vertical-align: middle;\n",
       "    }\n",
       "\n",
       "    .dataframe tbody tr th {\n",
       "        vertical-align: top;\n",
       "    }\n",
       "\n",
       "    .dataframe thead th {\n",
       "        text-align: right;\n",
       "    }\n",
       "</style>\n",
       "<table border=\"1\" class=\"dataframe\">\n",
       "  <thead>\n",
       "    <tr style=\"text-align: right;\">\n",
       "      <th></th>\n",
       "      <th>CRASH DATE &amp; TIME</th>\n",
       "      <th>BOROUGH</th>\n",
       "      <th>ZIP CODE</th>\n",
       "      <th>LATITUDE</th>\n",
       "      <th>LONGITUDE</th>\n",
       "      <th>LOCATION</th>\n",
       "      <th>NUMBER OF PERSONS INJURED</th>\n",
       "      <th>NUMBER OF PERSONS KILLED</th>\n",
       "      <th>NUMBER OF PEDESTRIANS INJURED</th>\n",
       "      <th>NUMBER OF PEDESTRIANS KILLED</th>\n",
       "      <th>...</th>\n",
       "      <th>VEHICLE TYPE CODE 3</th>\n",
       "      <th>VEHICLE TYPE CODE 4</th>\n",
       "      <th>VEHICLE TYPE CODE 5</th>\n",
       "      <th>Addresses</th>\n",
       "      <th>Time of Day</th>\n",
       "      <th>NLat</th>\n",
       "      <th>NLong</th>\n",
       "      <th>Location</th>\n",
       "      <th>is_e_vehicle</th>\n",
       "      <th>CAUSALITY</th>\n",
       "    </tr>\n",
       "  </thead>\n",
       "  <tbody>\n",
       "    <tr>\n",
       "      <th>61</th>\n",
       "      <td>2012-07-01 03:58:00</td>\n",
       "      <td>manhattan</td>\n",
       "      <td>10002</td>\n",
       "      <td>40.721986</td>\n",
       "      <td>-73.985515</td>\n",
       "      <td>(40.7219864, -73.9855153)</td>\n",
       "      <td>0</td>\n",
       "      <td>0</td>\n",
       "      <td>0</td>\n",
       "      <td>0</td>\n",
       "      <td>...</td>\n",
       "      <td>NaN</td>\n",
       "      <td>NaN</td>\n",
       "      <td>NaN</td>\n",
       "      <td>east houston street norfolk street new york</td>\n",
       "      <td>night</td>\n",
       "      <td>NaN</td>\n",
       "      <td>NaN</td>\n",
       "      <td>NaN</td>\n",
       "      <td>True</td>\n",
       "      <td>0</td>\n",
       "    </tr>\n",
       "    <tr>\n",
       "      <th>1433</th>\n",
       "      <td>2012-07-03 18:40:00</td>\n",
       "      <td>brooklyn</td>\n",
       "      <td>11221</td>\n",
       "      <td>40.693022</td>\n",
       "      <td>-73.916256</td>\n",
       "      <td>(40.6930216, -73.9162561)</td>\n",
       "      <td>0</td>\n",
       "      <td>0</td>\n",
       "      <td>0</td>\n",
       "      <td>0</td>\n",
       "      <td>...</td>\n",
       "      <td>NaN</td>\n",
       "      <td>NaN</td>\n",
       "      <td>NaN</td>\n",
       "      <td>woodbine street central avenue new york</td>\n",
       "      <td>evening</td>\n",
       "      <td>NaN</td>\n",
       "      <td>NaN</td>\n",
       "      <td>NaN</td>\n",
       "      <td>True</td>\n",
       "      <td>0</td>\n",
       "    </tr>\n",
       "    <tr>\n",
       "      <th>1760</th>\n",
       "      <td>2012-07-04 16:00:00</td>\n",
       "      <td>brooklyn</td>\n",
       "      <td>11222</td>\n",
       "      <td>40.725616</td>\n",
       "      <td>-73.944497</td>\n",
       "      <td>(40.7256163, -73.944497)</td>\n",
       "      <td>0</td>\n",
       "      <td>0</td>\n",
       "      <td>0</td>\n",
       "      <td>0</td>\n",
       "      <td>...</td>\n",
       "      <td>NaN</td>\n",
       "      <td>NaN</td>\n",
       "      <td>NaN</td>\n",
       "      <td>russell street nassau avenue new york</td>\n",
       "      <td>afternoon</td>\n",
       "      <td>NaN</td>\n",
       "      <td>NaN</td>\n",
       "      <td>NaN</td>\n",
       "      <td>True</td>\n",
       "      <td>0</td>\n",
       "    </tr>\n",
       "    <tr>\n",
       "      <th>1858</th>\n",
       "      <td>2012-07-04 20:30:00</td>\n",
       "      <td>manhattan</td>\n",
       "      <td>10038</td>\n",
       "      <td>40.708272</td>\n",
       "      <td>-74.001901</td>\n",
       "      <td>(40.7082718, -74.0019008)</td>\n",
       "      <td>0</td>\n",
       "      <td>0</td>\n",
       "      <td>0</td>\n",
       "      <td>0</td>\n",
       "      <td>...</td>\n",
       "      <td>NaN</td>\n",
       "      <td>NaN</td>\n",
       "      <td>NaN</td>\n",
       "      <td>peck slip water street new york</td>\n",
       "      <td>evening</td>\n",
       "      <td>NaN</td>\n",
       "      <td>NaN</td>\n",
       "      <td>NaN</td>\n",
       "      <td>True</td>\n",
       "      <td>0</td>\n",
       "    </tr>\n",
       "    <tr>\n",
       "      <th>2203</th>\n",
       "      <td>2012-07-05 13:49:00</td>\n",
       "      <td>queens</td>\n",
       "      <td>11418</td>\n",
       "      <td>40.702126</td>\n",
       "      <td>-73.834808</td>\n",
       "      <td>(40.7021257, -73.8348083)</td>\n",
       "      <td>0</td>\n",
       "      <td>0</td>\n",
       "      <td>0</td>\n",
       "      <td>0</td>\n",
       "      <td>...</td>\n",
       "      <td>NaN</td>\n",
       "      <td>NaN</td>\n",
       "      <td>NaN</td>\n",
       "      <td>116 street 85 avenue new york</td>\n",
       "      <td>afternoon</td>\n",
       "      <td>NaN</td>\n",
       "      <td>NaN</td>\n",
       "      <td>NaN</td>\n",
       "      <td>True</td>\n",
       "      <td>0</td>\n",
       "    </tr>\n",
       "  </tbody>\n",
       "</table>\n",
       "<p>5 rows × 31 columns</p>\n",
       "</div>"
      ],
      "text/plain": [
       "        CRASH DATE & TIME    BOROUGH  ZIP CODE   LATITUDE  LONGITUDE  \\\n",
       "61    2012-07-01 03:58:00  manhattan     10002  40.721986 -73.985515   \n",
       "1433  2012-07-03 18:40:00   brooklyn     11221  40.693022 -73.916256   \n",
       "1760  2012-07-04 16:00:00   brooklyn     11222  40.725616 -73.944497   \n",
       "1858  2012-07-04 20:30:00  manhattan     10038  40.708272 -74.001901   \n",
       "2203  2012-07-05 13:49:00     queens     11418  40.702126 -73.834808   \n",
       "\n",
       "                       LOCATION NUMBER OF PERSONS INJURED  \\\n",
       "61    (40.7219864, -73.9855153)                         0   \n",
       "1433  (40.6930216, -73.9162561)                         0   \n",
       "1760   (40.7256163, -73.944497)                         0   \n",
       "1858  (40.7082718, -74.0019008)                         0   \n",
       "2203  (40.7021257, -73.8348083)                         0   \n",
       "\n",
       "     NUMBER OF PERSONS KILLED  NUMBER OF PEDESTRIANS INJURED  \\\n",
       "61                          0                              0   \n",
       "1433                        0                              0   \n",
       "1760                        0                              0   \n",
       "1858                        0                              0   \n",
       "2203                        0                              0   \n",
       "\n",
       "      NUMBER OF PEDESTRIANS KILLED  ...  VEHICLE TYPE CODE 3  \\\n",
       "61                               0  ...                  NaN   \n",
       "1433                             0  ...                  NaN   \n",
       "1760                             0  ...                  NaN   \n",
       "1858                             0  ...                  NaN   \n",
       "2203                             0  ...                  NaN   \n",
       "\n",
       "      VEHICLE TYPE CODE 4  VEHICLE TYPE CODE 5  \\\n",
       "61                    NaN                  NaN   \n",
       "1433                  NaN                  NaN   \n",
       "1760                  NaN                  NaN   \n",
       "1858                  NaN                  NaN   \n",
       "2203                  NaN                  NaN   \n",
       "\n",
       "                                        Addresses Time of Day NLat NLong  \\\n",
       "61    east houston street norfolk street new york       night  NaN   NaN   \n",
       "1433      woodbine street central avenue new york     evening  NaN   NaN   \n",
       "1760        russell street nassau avenue new york   afternoon  NaN   NaN   \n",
       "1858              peck slip water street new york     evening  NaN   NaN   \n",
       "2203                116 street 85 avenue new york   afternoon  NaN   NaN   \n",
       "\n",
       "     Location is_e_vehicle CAUSALITY  \n",
       "61        NaN         True         0  \n",
       "1433      NaN         True         0  \n",
       "1760      NaN         True         0  \n",
       "1858      NaN         True         0  \n",
       "2203      NaN         True         0  \n",
       "\n",
       "[5 rows x 31 columns]"
      ]
     },
     "execution_count": 157,
     "metadata": {},
     "output_type": "execute_result"
    }
   ],
   "source": [
    "# Viewing the dataset entries at the start\n",
    "print(\"[*] First few rows:\")\n",
    "df.head()"
   ]
  },
  {
   "cell_type": "code",
   "execution_count": 158,
   "metadata": {},
   "outputs": [
    {
     "name": "stdout",
     "output_type": "stream",
     "text": [
      "[*] Dataset Info:\n",
      "<class 'pandas.core.frame.DataFrame'>\n",
      "Index: 18531 entries, 61 to 1748146\n",
      "Data columns (total 31 columns):\n",
      " #   Column                         Non-Null Count  Dtype   \n",
      "---  ------                         --------------  -----   \n",
      " 0   CRASH DATE & TIME              18531 non-null  object  \n",
      " 1   BOROUGH                        18525 non-null  object  \n",
      " 2   ZIP CODE                       18531 non-null  int64   \n",
      " 3   LATITUDE                       18531 non-null  float64 \n",
      " 4   LONGITUDE                      18531 non-null  float64 \n",
      " 5   LOCATION                       18152 non-null  object  \n",
      " 6   NUMBER OF PERSONS INJURED      18531 non-null  category\n",
      " 7   NUMBER OF PERSONS KILLED       18531 non-null  category\n",
      " 8   NUMBER OF PEDESTRIANS INJURED  18531 non-null  int64   \n",
      " 9   NUMBER OF PEDESTRIANS KILLED   18531 non-null  int64   \n",
      " 10  NUMBER OF CYCLIST INJURED      18531 non-null  int64   \n",
      " 11  NUMBER OF CYCLIST KILLED       18531 non-null  int64   \n",
      " 12  NUMBER OF MOTORIST INJURED     18531 non-null  int64   \n",
      " 13  NUMBER OF MOTORIST KILLED      18531 non-null  int64   \n",
      " 14  CONTRIBUTING FACTOR VEHICLE 1  18531 non-null  object  \n",
      " 15  CONTRIBUTING FACTOR VEHICLE 2  18531 non-null  object  \n",
      " 16  CONTRIBUTING FACTOR VEHICLE 3  18531 non-null  object  \n",
      " 17  CONTRIBUTING FACTOR VEHICLE 4  18531 non-null  object  \n",
      " 18  CONTRIBUTING FACTOR VEHICLE 5  18531 non-null  object  \n",
      " 19  VEHICLE TYPE CODE 1            18531 non-null  object  \n",
      " 20  VEHICLE TYPE CODE 2            15226 non-null  object  \n",
      " 21  VEHICLE TYPE CODE 3            430 non-null    object  \n",
      " 22  VEHICLE TYPE CODE 4            81 non-null     object  \n",
      " 23  VEHICLE TYPE CODE 5            28 non-null     object  \n",
      " 24  Addresses                      18501 non-null  object  \n",
      " 25  Time of Day                    18531 non-null  object  \n",
      " 26  NLat                           379 non-null    float64 \n",
      " 27  NLong                          379 non-null    float64 \n",
      " 28  Location                       379 non-null    object  \n",
      " 29  is_e_vehicle                   18531 non-null  bool    \n",
      " 30  CAUSALITY                      18531 non-null  int64   \n",
      "dtypes: bool(1), category(2), float64(4), int64(8), object(16)\n",
      "memory usage: 4.2+ MB\n"
     ]
    }
   ],
   "source": [
    "# Viewing the information about the dataset to get a better understanding about the datatypes\n",
    "print(\"[*] Dataset Info:\")\n",
    "df.info()\n"
   ]
  },
  {
   "cell_type": "markdown",
   "metadata": {},
   "source": [
    "Reading the date & time column and breaking it into parts"
   ]
  },
  {
   "cell_type": "code",
   "execution_count": 159,
   "metadata": {},
   "outputs": [
    {
     "name": "stdout",
     "output_type": "stream",
     "text": [
      "[*] Extracting datetime components\n"
     ]
    }
   ],
   "source": [
    "print(\"[*] Extracting datetime components\")\n",
    "df['CRASH DATE & TIME'] = pd.to_datetime(df['CRASH DATE & TIME'], errors='coerce')"
   ]
  },
  {
   "cell_type": "code",
   "execution_count": 160,
   "metadata": {},
   "outputs": [],
   "source": [
    "# Extracting the year, month, day, hours, day of the week\n",
    "\n",
    "\n",
    "df['Year'] = df['CRASH DATE & TIME'].dt.year\n",
    "df['Month'] = df['CRASH DATE & TIME'].dt.month\n",
    "df['Day'] = df['CRASH DATE & TIME'].dt.day\n",
    "df['Hour'] = df['CRASH DATE & TIME'].dt.hour\n",
    "df['DayOfWeek'] = df['CRASH DATE & TIME'].dt.dayofweek"
   ]
  },
  {
   "cell_type": "code",
   "execution_count": 161,
   "metadata": {},
   "outputs": [
    {
     "name": "stdout",
     "output_type": "stream",
     "text": [
      "[*] Datetime features:\n"
     ]
    },
    {
     "data": {
      "text/html": [
       "<div>\n",
       "<style scoped>\n",
       "    .dataframe tbody tr th:only-of-type {\n",
       "        vertical-align: middle;\n",
       "    }\n",
       "\n",
       "    .dataframe tbody tr th {\n",
       "        vertical-align: top;\n",
       "    }\n",
       "\n",
       "    .dataframe thead th {\n",
       "        text-align: right;\n",
       "    }\n",
       "</style>\n",
       "<table border=\"1\" class=\"dataframe\">\n",
       "  <thead>\n",
       "    <tr style=\"text-align: right;\">\n",
       "      <th></th>\n",
       "      <th>Year</th>\n",
       "      <th>Month</th>\n",
       "      <th>Day</th>\n",
       "      <th>Hour</th>\n",
       "      <th>DayOfWeek</th>\n",
       "    </tr>\n",
       "  </thead>\n",
       "  <tbody>\n",
       "    <tr>\n",
       "      <th>count</th>\n",
       "      <td>18531.000000</td>\n",
       "      <td>18531.000000</td>\n",
       "      <td>18531.000000</td>\n",
       "      <td>18531.000000</td>\n",
       "      <td>18531.000000</td>\n",
       "    </tr>\n",
       "    <tr>\n",
       "      <th>mean</th>\n",
       "      <td>2021.695699</td>\n",
       "      <td>7.033134</td>\n",
       "      <td>15.662242</td>\n",
       "      <td>14.190869</td>\n",
       "      <td>2.930009</td>\n",
       "    </tr>\n",
       "    <tr>\n",
       "      <th>std</th>\n",
       "      <td>2.131523</td>\n",
       "      <td>3.101743</td>\n",
       "      <td>8.706385</td>\n",
       "      <td>5.875153</td>\n",
       "      <td>1.931870</td>\n",
       "    </tr>\n",
       "    <tr>\n",
       "      <th>min</th>\n",
       "      <td>2012.000000</td>\n",
       "      <td>1.000000</td>\n",
       "      <td>1.000000</td>\n",
       "      <td>0.000000</td>\n",
       "      <td>0.000000</td>\n",
       "    </tr>\n",
       "    <tr>\n",
       "      <th>25%</th>\n",
       "      <td>2021.000000</td>\n",
       "      <td>5.000000</td>\n",
       "      <td>8.000000</td>\n",
       "      <td>11.000000</td>\n",
       "      <td>1.000000</td>\n",
       "    </tr>\n",
       "    <tr>\n",
       "      <th>50%</th>\n",
       "      <td>2022.000000</td>\n",
       "      <td>7.000000</td>\n",
       "      <td>16.000000</td>\n",
       "      <td>15.000000</td>\n",
       "      <td>3.000000</td>\n",
       "    </tr>\n",
       "    <tr>\n",
       "      <th>75%</th>\n",
       "      <td>2023.000000</td>\n",
       "      <td>10.000000</td>\n",
       "      <td>23.000000</td>\n",
       "      <td>19.000000</td>\n",
       "      <td>5.000000</td>\n",
       "    </tr>\n",
       "    <tr>\n",
       "      <th>max</th>\n",
       "      <td>2025.000000</td>\n",
       "      <td>12.000000</td>\n",
       "      <td>31.000000</td>\n",
       "      <td>23.000000</td>\n",
       "      <td>6.000000</td>\n",
       "    </tr>\n",
       "  </tbody>\n",
       "</table>\n",
       "</div>"
      ],
      "text/plain": [
       "               Year         Month           Day          Hour     DayOfWeek\n",
       "count  18531.000000  18531.000000  18531.000000  18531.000000  18531.000000\n",
       "mean    2021.695699      7.033134     15.662242     14.190869      2.930009\n",
       "std        2.131523      3.101743      8.706385      5.875153      1.931870\n",
       "min     2012.000000      1.000000      1.000000      0.000000      0.000000\n",
       "25%     2021.000000      5.000000      8.000000     11.000000      1.000000\n",
       "50%     2022.000000      7.000000     16.000000     15.000000      3.000000\n",
       "75%     2023.000000     10.000000     23.000000     19.000000      5.000000\n",
       "max     2025.000000     12.000000     31.000000     23.000000      6.000000"
      ]
     },
     "execution_count": 161,
     "metadata": {},
     "output_type": "execute_result"
    }
   ],
   "source": [
    "\n",
    "# Printing all the date and time information that we extracted before\n",
    "print(\"[*] Datetime features:\")\n",
    "df[['Year', 'Month', 'Day', 'Hour', 'DayOfWeek']].describe()\n"
   ]
  },
  {
   "cell_type": "markdown",
   "metadata": {},
   "source": [
    "## 3. Feature Engineering"
   ]
  },
  {
   "cell_type": "code",
   "execution_count": 162,
   "metadata": {},
   "outputs": [],
   "source": [
    "features = ['Year', 'Month', 'Day', 'Hour', 'DayOfWeek', 'VEHICLE TYPE CODE 2', 'ZIP CODE', 'CONTRIBUTING FACTOR VEHICLE 1']\n",
    "# Herer we are listing all the features that we will use for further processing"
   ]
  },
  {
   "cell_type": "code",
   "execution_count": 163,
   "metadata": {},
   "outputs": [],
   "source": [
    "# Here we define the target/goal we want to get to\n",
    "target_injuries = 'NUMBER OF PERSONS INJURED'\n",
    "target_deaths = 'NUMBER OF PERSONS KILLED'"
   ]
  },
  {
   "cell_type": "code",
   "execution_count": 164,
   "metadata": {},
   "outputs": [],
   "source": [
    "df_clean = df.dropna(subset=features + [target_injuries, target_deaths])\n",
    "# Dropping if there is any value that is missing, just if there is any."
   ]
  },
  {
   "cell_type": "code",
   "execution_count": 165,
   "metadata": {},
   "outputs": [
    {
     "name": "stdout",
     "output_type": "stream",
     "text": [
      "Original dataset shape: (18531, 36)\n",
      "Clean dataset shape: (15226, 36)\n"
     ]
    }
   ],
   "source": [
    "# Printing to see what the shape of the data is\n",
    "print(\"Original dataset shape:\", df.shape)\n",
    "print(\"Clean dataset shape:\", df_clean.shape)"
   ]
  },
  {
   "cell_type": "markdown",
   "metadata": {},
   "source": [
    "Here we introduce some new columns which will help our data to learn more about the dataset like time-factor analysis and also reduce the complexity"
   ]
  },
  {
   "cell_type": "code",
   "execution_count": 166,
   "metadata": {},
   "outputs": [
    {
     "name": "stderr",
     "output_type": "stream",
     "text": [
      "/var/folders/9n/b1lb14dd11v9kphcqy_pd2_h0000gn/T/ipykernel_89230/1504099695.py:1: SettingWithCopyWarning:\n",
      "\n",
      "\n",
      "A value is trying to be set on a copy of a slice from a DataFrame.\n",
      "Try using .loc[row_indexer,col_indexer] = value instead\n",
      "\n",
      "See the caveats in the documentation: https://pandas.pydata.org/pandas-docs/stable/user_guide/indexing.html#returning-a-view-versus-a-copy\n",
      "\n",
      "/var/folders/9n/b1lb14dd11v9kphcqy_pd2_h0000gn/T/ipykernel_89230/1504099695.py:2: SettingWithCopyWarning:\n",
      "\n",
      "\n",
      "A value is trying to be set on a copy of a slice from a DataFrame.\n",
      "Try using .loc[row_indexer,col_indexer] = value instead\n",
      "\n",
      "See the caveats in the documentation: https://pandas.pydata.org/pandas-docs/stable/user_guide/indexing.html#returning-a-view-versus-a-copy\n",
      "\n",
      "/var/folders/9n/b1lb14dd11v9kphcqy_pd2_h0000gn/T/ipykernel_89230/1504099695.py:3: SettingWithCopyWarning:\n",
      "\n",
      "\n",
      "A value is trying to be set on a copy of a slice from a DataFrame.\n",
      "Try using .loc[row_indexer,col_indexer] = value instead\n",
      "\n",
      "See the caveats in the documentation: https://pandas.pydata.org/pandas-docs/stable/user_guide/indexing.html#returning-a-view-versus-a-copy\n",
      "\n"
     ]
    }
   ],
   "source": [
    "df_clean['IsRushHour'] = ((df_clean['Hour'] >= 7) & (df_clean['Hour'] <= 9)) | ((df_clean['Hour'] >= 16) & (df_clean['Hour'] <= 19))\n",
    "df_clean['IsRushHour'] = df_clean['IsRushHour'].astype(int)\n",
    "df_clean['IsNightTime'] = ((df_clean['Hour'] >= 22) | (df_clean['Hour'] <= 5)).astype(int)\n",
    "# there are related to time"
   ]
  },
  {
   "cell_type": "code",
   "execution_count": 167,
   "metadata": {},
   "outputs": [
    {
     "name": "stdout",
     "output_type": "stream",
     "text": [
      "[*] Time feature statistics:\n"
     ]
    },
    {
     "name": "stderr",
     "output_type": "stream",
     "text": [
      "/var/folders/9n/b1lb14dd11v9kphcqy_pd2_h0000gn/T/ipykernel_89230/3566250318.py:2: SettingWithCopyWarning:\n",
      "\n",
      "\n",
      "A value is trying to be set on a copy of a slice from a DataFrame.\n",
      "Try using .loc[row_indexer,col_indexer] = value instead\n",
      "\n",
      "See the caveats in the documentation: https://pandas.pydata.org/pandas-docs/stable/user_guide/indexing.html#returning-a-view-versus-a-copy\n",
      "\n"
     ]
    },
    {
     "data": {
      "text/html": [
       "<div>\n",
       "<style scoped>\n",
       "    .dataframe tbody tr th:only-of-type {\n",
       "        vertical-align: middle;\n",
       "    }\n",
       "\n",
       "    .dataframe tbody tr th {\n",
       "        vertical-align: top;\n",
       "    }\n",
       "\n",
       "    .dataframe thead th {\n",
       "        text-align: right;\n",
       "    }\n",
       "</style>\n",
       "<table border=\"1\" class=\"dataframe\">\n",
       "  <thead>\n",
       "    <tr style=\"text-align: right;\">\n",
       "      <th></th>\n",
       "      <th>IsRushHour</th>\n",
       "      <th>IsWeekend</th>\n",
       "      <th>IsNightTime</th>\n",
       "    </tr>\n",
       "  </thead>\n",
       "  <tbody>\n",
       "    <tr>\n",
       "      <th>count</th>\n",
       "      <td>15226.000000</td>\n",
       "      <td>15226.000000</td>\n",
       "      <td>15226.000000</td>\n",
       "    </tr>\n",
       "    <tr>\n",
       "      <th>mean</th>\n",
       "      <td>0.395836</td>\n",
       "      <td>0.247603</td>\n",
       "      <td>0.165112</td>\n",
       "    </tr>\n",
       "    <tr>\n",
       "      <th>std</th>\n",
       "      <td>0.489046</td>\n",
       "      <td>0.431634</td>\n",
       "      <td>0.371294</td>\n",
       "    </tr>\n",
       "    <tr>\n",
       "      <th>min</th>\n",
       "      <td>0.000000</td>\n",
       "      <td>0.000000</td>\n",
       "      <td>0.000000</td>\n",
       "    </tr>\n",
       "    <tr>\n",
       "      <th>25%</th>\n",
       "      <td>0.000000</td>\n",
       "      <td>0.000000</td>\n",
       "      <td>0.000000</td>\n",
       "    </tr>\n",
       "    <tr>\n",
       "      <th>50%</th>\n",
       "      <td>0.000000</td>\n",
       "      <td>0.000000</td>\n",
       "      <td>0.000000</td>\n",
       "    </tr>\n",
       "    <tr>\n",
       "      <th>75%</th>\n",
       "      <td>1.000000</td>\n",
       "      <td>0.000000</td>\n",
       "      <td>0.000000</td>\n",
       "    </tr>\n",
       "    <tr>\n",
       "      <th>max</th>\n",
       "      <td>1.000000</td>\n",
       "      <td>1.000000</td>\n",
       "      <td>1.000000</td>\n",
       "    </tr>\n",
       "  </tbody>\n",
       "</table>\n",
       "</div>"
      ],
      "text/plain": [
       "         IsRushHour     IsWeekend   IsNightTime\n",
       "count  15226.000000  15226.000000  15226.000000\n",
       "mean       0.395836      0.247603      0.165112\n",
       "std        0.489046      0.431634      0.371294\n",
       "min        0.000000      0.000000      0.000000\n",
       "25%        0.000000      0.000000      0.000000\n",
       "50%        0.000000      0.000000      0.000000\n",
       "75%        1.000000      0.000000      0.000000\n",
       "max        1.000000      1.000000      1.000000"
      ]
     },
     "execution_count": 167,
     "metadata": {},
     "output_type": "execute_result"
    }
   ],
   "source": [
    "# Here we create new feature based on factors other than time\n",
    "df_clean['IsWeekend'] = (df_clean['DayOfWeek'] >= 5).astype(int)\n",
    "\n",
    "# Here we expand our dataframe to include new features that we just created\n",
    "features.extend(['IsRushHour', 'IsWeekend', 'IsNightTime'])\n",
    "\n",
    "# Printing all the stats related to our new features\n",
    "print(\"[*] Time feature statistics:\")\n",
    "df_clean[['IsRushHour', 'IsWeekend', 'IsNightTime']].describe()"
   ]
  },
  {
   "cell_type": "markdown",
   "metadata": {},
   "source": [
    "Here we create a pipeline for our models"
   ]
  },
  {
   "cell_type": "code",
   "execution_count": 168,
   "metadata": {},
   "outputs": [
    {
     "name": "stdout",
     "output_type": "stream",
     "text": [
      "[*] Creating preprocessing pipeline...\n"
     ]
    }
   ],
   "source": [
    "print(\"[*] Creating preprocessing pipeline...\")\n",
    "# Here we will define the category columns\n",
    "categorical_cols = ['VEHICLE TYPE CODE 1', 'ZIP CODE', 'CONTRIBUTING FACTOR VEHICLE 1']\n",
    "numeric_cols = [col for col in features if col not in categorical_cols]"
   ]
  },
  {
   "cell_type": "code",
   "execution_count": 169,
   "metadata": {},
   "outputs": [
    {
     "name": "stdout",
     "output_type": "stream",
     "text": [
      "[*] Numerical columns: ['Year', 'Month', 'Day', 'Hour', 'DayOfWeek', 'VEHICLE TYPE CODE 2', 'IsRushHour', 'IsWeekend', 'IsNightTime']\n",
      "[*] Categorical columns: ['VEHICLE TYPE CODE 1', 'ZIP CODE', 'CONTRIBUTING FACTOR VEHICLE 1']\n"
     ]
    }
   ],
   "source": [
    "print(\"[*] Numerical columns:\", numeric_cols)\n",
    "print(\"[*] Categorical columns:\", categorical_cols)\n",
    "\n",
    "# Defining a pipeline\n",
    "preprocessor = ColumnTransformer(\n",
    "    transformers=[\n",
    "        ('num', 'passthrough', numeric_cols),\n",
    "        ('cat', OneHotEncoder(handle_unknown='ignore'), categorical_cols)\n",
    "    ])"
   ]
  },
  {
   "cell_type": "markdown",
   "metadata": {},
   "source": [
    "## 4. Data Splitting and Preprocessing"
   ]
  },
  {
   "cell_type": "markdown",
   "metadata": {},
   "source": [
    "Spliting the data into training and teasting data"
   ]
  },
  {
   "cell_type": "code",
   "execution_count": 170,
   "metadata": {},
   "outputs": [
    {
     "name": "stdout",
     "output_type": "stream",
     "text": [
      "[*] Splitting data\n"
     ]
    }
   ],
   "source": [
    "print(\"[*] Splitting data\")\n",
    "# Here we prepare dependent and independent variable for training out models and testing them\n",
    "X = df_clean[features]\n",
    "y_injuries = df_clean[target_injuries]\n",
    "y_deaths = df_clean[target_deaths]"
   ]
  },
  {
   "cell_type": "code",
   "execution_count": 171,
   "metadata": {},
   "outputs": [],
   "source": [
    "# Here we actually split the data [this also has injuries and death difference]\n",
    "X_train, X_test, y_inj_train, y_inj_test, y_death_train, y_death_test = train_test_split(\n",
    "    X, y_injuries, y_deaths, test_size=0.2, random_state=42)\n"
   ]
  },
  {
   "cell_type": "code",
   "execution_count": 172,
   "metadata": {},
   "outputs": [
    {
     "name": "stdout",
     "output_type": "stream",
     "text": [
      "[*] Training dataset shape: (12180, 11)\n",
      "[*] Testing dataset shape: (3046, 11)\n"
     ]
    }
   ],
   "source": [
    "print(\"[*] Training dataset shape:\", X_train.shape)\n",
    "print(\"[*] Testing dataset shape:\", X_test.shape)"
   ]
  },
  {
   "cell_type": "markdown",
   "metadata": {},
   "source": [
    "Defining objective function for our models"
   ]
  },
  {
   "cell_type": "markdown",
   "metadata": {},
   "source": [
    "### Objective functions are written by refering the official documents: \n",
    "Link1: https://github.com/optuna/optuna\n",
    "Link2: https://optuna.org/#code_examples"
   ]
  },
  {
   "cell_type": "code",
   "execution_count": 173,
   "metadata": {},
   "outputs": [],
   "source": [
    "# For KNN \n",
    "def objective_knn(trial):\n",
    "\n",
    "    n_neighbors = trial.suggest_int('n_neighbors', 1, 20)\n",
    "    weights = trial.suggest_categorical('weights', ['uniform', 'distance'])\n",
    "    \n",
    "    model = Pipeline([\n",
    "        ('preprocessor', preprocessor),\n",
    "        ('model', KNeighborsClassifier(n_neighbors=n_neighbors, weights=weights))\n",
    "    ])\n",
    "    \n",
    "    return -np.mean(cross_val_score(model, X_train, y_inj_train, cv=5, scoring='f1_weighted'))"
   ]
  },
  {
   "cell_type": "code",
   "execution_count": 174,
   "metadata": {},
   "outputs": [],
   "source": [
    "# For Randomforest classifier\n",
    "def objective_rf(trial):\n",
    "    n_estimators = trial.suggest_int('n_estimators', 50, 300)\n",
    "    max_depth = trial.suggest_int('max_depth', 3, 20)\n",
    "    min_samples_split = trial.suggest_int('min_samples_split', 2, 20)\n",
    "    \n",
    "    model = Pipeline([\n",
    "        ('preprocessor', preprocessor),\n",
    "        ('model', RandomForestClassifier(\n",
    "            n_estimators=n_estimators,\n",
    "            max_depth=max_depth,\n",
    "            min_samples_split=min_samples_split,\n",
    "            random_state=42\n",
    "        ))\n",
    "    ])\n",
    "    \n",
    "    return -np.mean(cross_val_score(model, X_train, y_inj_train, cv=5, scoring='f1_weighted'))\n",
    "\n"
   ]
  },
  {
   "cell_type": "code",
   "execution_count": 175,
   "metadata": {},
   "outputs": [],
   "source": [
    "# For Gradient Boost\n",
    "\n",
    "def objective_gb(trial):\n",
    "\n",
    "    n_estimators = trial.suggest_int('n_estimators', 50, 300)\n",
    "    max_depth = trial.suggest_int('max_depth', 3, 10)\n",
    "    learning_rate = trial.suggest_float('learning_rate', 0.01, 0.3, log=True)\n",
    "    \n",
    "    model = Pipeline([\n",
    "        ('preprocessor', preprocessor),\n",
    "        ('model', GradientBoostingClassifier(\n",
    "            n_estimators=n_estimators,\n",
    "            max_depth=max_depth,\n",
    "            learning_rate=learning_rate,\n",
    "            random_state=42\n",
    "        ))\n",
    "    ])\n",
    "    \n",
    "    return -np.mean(cross_val_score(model, X_train, y_inj_train, cv=5, scoring='f1_weighted'))"
   ]
  },
  {
   "cell_type": "code",
   "execution_count": 176,
   "metadata": {},
   "outputs": [],
   "source": [
    "# Specifying category columns and numerical columns\n",
    "categorical_cols = ['VEHICLE TYPE CODE 2', 'ZIP CODE', 'CONTRIBUTING FACTOR VEHICLE 1']\n",
    "numeric_cols = ['Year', 'Month', 'Day', 'Hour', 'DayOfWeek', 'IsRushHour', 'IsWeekend', 'IsNightTime']"
   ]
  },
  {
   "cell_type": "code",
   "execution_count": 177,
   "metadata": {},
   "outputs": [
    {
     "name": "stdout",
     "output_type": "stream",
     "text": [
      "[*] Numerical columns: ['Year', 'Month', 'Day', 'Hour', 'DayOfWeek', 'IsRushHour', 'IsWeekend', 'IsNightTime']\n",
      "[*] Categorical columns: ['VEHICLE TYPE CODE 2', 'ZIP CODE', 'CONTRIBUTING FACTOR VEHICLE 1']\n"
     ]
    }
   ],
   "source": [
    "print(\"[*] Numerical columns:\", numeric_cols)\n",
    "print(\"[*] Categorical columns:\", categorical_cols)"
   ]
  },
  {
   "cell_type": "markdown",
   "metadata": {},
   "source": [
    "Define our Pre-processor"
   ]
  },
  {
   "cell_type": "code",
   "execution_count": 178,
   "metadata": {},
   "outputs": [],
   "source": [
    "\n",
    "preprocessor = ColumnTransformer(transformers=[('num', 'passthrough', numeric_cols),\n",
    "        ('cat', OneHotEncoder(handle_unknown='ignore'), categorical_cols)])"
   ]
  },
  {
   "cell_type": "code",
   "execution_count": 179,
   "metadata": {},
   "outputs": [],
   "source": [
    "# Now we have to update the objective functions that we defined earlier since we changed our processor\n",
    "\n",
    "def objective_knn(trial):\n",
    "    n_neighbors = trial.suggest_int('n_neighbors', 1, 20)\n",
    "    weights = trial.suggest_categorical('weights', ['uniform', 'distance'])\n",
    "    \n",
    "    model = Pipeline([\n",
    "        ('preprocessor', preprocessor),\n",
    "        ('model', KNeighborsClassifier(n_neighbors=n_neighbors, weights=weights))\n",
    "    ])\n",
    "    \n",
    "    return -np.mean(cross_val_score(model, X_train, y_inj_train, cv=5, scoring='f1_weighted'))\n",
    "\n",
    "def objective_rf(trial):\n",
    "\n",
    "    n_estimators = trial.suggest_int('n_estimators', 50, 300)\n",
    "    max_depth = trial.suggest_int('max_depth', 3, 20)\n",
    "    min_samples_split = trial.suggest_int('min_samples_split', 2, 20)\n",
    "    \n",
    "    model = Pipeline([\n",
    "        ('preprocessor', preprocessor),\n",
    "        ('model', RandomForestClassifier(\n",
    "            n_estimators=n_estimators,\n",
    "            max_depth=max_depth,\n",
    "            min_samples_split=min_samples_split,\n",
    "            random_state=42\n",
    "        ))\n",
    "    ])\n",
    "    \n",
    "    return -np.mean(cross_val_score(model, X_train, y_inj_train, cv=5, scoring='f1_weighted'))\n",
    "\n",
    "def objective_gb(trial):\n",
    "\n",
    "    n_estimators = trial.suggest_int('n_estimators', 50, 300)\n",
    "    max_depth = trial.suggest_int('max_depth', 3, 10)\n",
    "    learning_rate = trial.suggest_float('learning_rate', 0.01, 0.3, log=True)\n",
    "    \n",
    "    model = Pipeline([\n",
    "        ('preprocessor', preprocessor),\n",
    "        ('model', GradientBoostingClassifier(\n",
    "            n_estimators=n_estimators,\n",
    "            max_depth=max_depth,\n",
    "            learning_rate=learning_rate,\n",
    "            random_state=42\n",
    "        ))\n",
    "    ])\n",
    "    \n",
    "    return -np.mean(cross_val_score(model, X_train, y_inj_train, cv=5, scoring='f1_weighted'))\n",
    "\n"
   ]
  },
  {
   "cell_type": "code",
   "execution_count": 180,
   "metadata": {},
   "outputs": [
    {
     "name": "stderr",
     "output_type": "stream",
     "text": [
      "[I 2025-03-07 22:12:03,782] A new study created in memory with name: no-name-45903d4e-d461-4db3-953c-4a47c907e78a\n"
     ]
    },
    {
     "name": "stdout",
     "output_type": "stream",
     "text": [
      "[*] Optimizing Knn hyperparameters\n"
     ]
    },
    {
     "name": "stderr",
     "output_type": "stream",
     "text": [
      "[I 2025-03-07 22:12:06,487] Trial 0 finished with value: -0.6691397622934301 and parameters: {'n_neighbors': 10, 'weights': 'distance'}. Best is trial 0 with value: -0.6691397622934301.\n",
      "[I 2025-03-07 22:12:09,432] Trial 1 finished with value: -0.668559437622327 and parameters: {'n_neighbors': 10, 'weights': 'uniform'}. Best is trial 0 with value: -0.6691397622934301.\n",
      "[I 2025-03-07 22:12:12,164] Trial 2 finished with value: -0.6721460081284093 and parameters: {'n_neighbors': 12, 'weights': 'distance'}. Best is trial 2 with value: -0.6721460081284093.\n",
      "[I 2025-03-07 22:12:14,895] Trial 3 finished with value: -0.6716083817480282 and parameters: {'n_neighbors': 17, 'weights': 'distance'}. Best is trial 2 with value: -0.6721460081284093.\n",
      "[I 2025-03-07 22:12:17,544] Trial 4 finished with value: -0.668559437622327 and parameters: {'n_neighbors': 10, 'weights': 'uniform'}. Best is trial 2 with value: -0.6721460081284093.\n",
      "[I 2025-03-07 22:12:17,544] A new study created in memory with name: no-name-41ce8d35-8851-48fc-8eb5-4f21938b8c37\n"
     ]
    },
    {
     "name": "stdout",
     "output_type": "stream",
     "text": [
      "[*] Optimizing Random forest hyperparameter\n"
     ]
    },
    {
     "name": "stderr",
     "output_type": "stream",
     "text": [
      "[I 2025-03-07 22:12:22,003] Trial 0 finished with value: -0.6736945391148457 and parameters: {'n_estimators': 219, 'max_depth': 18, 'min_samples_split': 11}. Best is trial 0 with value: -0.6736945391148457.\n",
      "[I 2025-03-07 22:12:25,213] Trial 1 finished with value: -0.6736659281994481 and parameters: {'n_estimators': 216, 'max_depth': 12, 'min_samples_split': 12}. Best is trial 0 with value: -0.6736945391148457.\n",
      "[I 2025-03-07 22:12:27,344] Trial 2 finished with value: -0.6736934694088079 and parameters: {'n_estimators': 124, 'max_depth': 15, 'min_samples_split': 14}. Best is trial 0 with value: -0.6736945391148457.\n",
      "[I 2025-03-07 22:12:30,579] Trial 3 finished with value: -0.6734941141307415 and parameters: {'n_estimators': 225, 'max_depth': 11, 'min_samples_split': 2}. Best is trial 0 with value: -0.6736945391148457.\n",
      "[I 2025-03-07 22:12:33,302] Trial 4 finished with value: -0.5928961221337916 and parameters: {'n_estimators': 285, 'max_depth': 6, 'min_samples_split': 19}. Best is trial 0 with value: -0.6736945391148457.\n",
      "[I 2025-03-07 22:12:33,303] A new study created in memory with name: no-name-0a617c4a-c201-42e3-95c7-12c52e32748f\n"
     ]
    },
    {
     "name": "stdout",
     "output_type": "stream",
     "text": [
      "[*] Optimizing Gradient boosting hyperparameters.\n"
     ]
    },
    {
     "name": "stderr",
     "output_type": "stream",
     "text": [
      "[I 2025-03-07 22:12:46,310] Trial 0 finished with value: -0.6678068708318687 and parameters: {'n_estimators': 74, 'max_depth': 6, 'learning_rate': 0.17293189053579427}. Best is trial 0 with value: -0.6678068708318687.\n",
      "[I 2025-03-07 22:12:54,949] Trial 1 finished with value: -0.6718621981980339 and parameters: {'n_estimators': 102, 'max_depth': 3, 'learning_rate': 0.26700971610364677}. Best is trial 1 with value: -0.6718621981980339.\n",
      "[I 2025-03-07 22:13:27,247] Trial 2 finished with value: -0.6724306258711794 and parameters: {'n_estimators': 291, 'max_depth': 4, 'learning_rate': 0.03084049361470879}. Best is trial 2 with value: -0.6724306258711794.\n",
      "[I 2025-03-07 22:13:42,589] Trial 3 finished with value: -0.6725068218044995 and parameters: {'n_estimators': 107, 'max_depth': 5, 'learning_rate': 0.05282214777527661}. Best is trial 3 with value: -0.6725068218044995.\n",
      "[I 2025-03-07 22:14:38,734] Trial 4 finished with value: -0.6606106192622585 and parameters: {'n_estimators': 197, 'max_depth': 9, 'learning_rate': 0.09812339304731109}. Best is trial 3 with value: -0.6725068218044995.\n"
     ]
    }
   ],
   "source": [
    "# Now lets apply the optimization to get the best hyperparameters\n",
    "\n",
    "print(\"[*] Optimizing Knn hyperparameters\")\n",
    "study_knn = optuna.create_study(direction='minimize')\n",
    "study_knn.optimize(objective_knn, n_trials=5)\n",
    "\n",
    "print(\"[*] Optimizing Random forest hyperparameter\")\n",
    "study_rf = optuna.create_study(direction='minimize')\n",
    "study_rf.optimize(objective_rf, n_trials=5)\n",
    "\n",
    "print(\"[*] Optimizing Gradient boosting hyperparameters.\")\n",
    "study_gb = optuna.create_study(direction='minimize')\n",
    "study_gb.optimize(objective_gb, n_trials=5)"
   ]
  },
  {
   "cell_type": "code",
   "execution_count": 181,
   "metadata": {},
   "outputs": [
    {
     "name": "stdout",
     "output_type": "stream",
     "text": [
      "[*] Best Knn parameters: {'n_neighbors': 12, 'weights': 'distance'}\n",
      "[*] Best KNN metric: 0.6721460081284093\n",
      "[*] Best Random Forest parameters: {'n_estimators': 219, 'max_depth': 18, 'min_samples_split': 11}\n",
      "[*] Best Random Forest metric: 0.6736945391148457\n",
      "[*] Best Gradient Boosting parameters: {'n_estimators': 107, 'max_depth': 5, 'learning_rate': 0.05282214777527661}\n",
      "[*] Best Gradient Boosting metric: 0.6725068218044995\n"
     ]
    }
   ],
   "source": [
    "# Lets see what paramaters have come out of our optimization\n",
    "print(\"[*] Best Knn parameters:\", study_knn.best_params)\n",
    "print(\"[*] Best KNN metric:\", -study_knn.best_value)\n",
    "\n",
    "print(\"[*] Best Random Forest parameters:\", study_rf.best_params)\n",
    "print(\"[*] Best Random Forest metric:\", -study_rf.best_value)\n",
    "\n",
    "print(\"[*] Best Gradient Boosting parameters:\", study_gb.best_params)\n",
    "print(\"[*] Best Gradient Boosting metric:\", -study_gb.best_value)"
   ]
  },
  {
   "cell_type": "markdown",
   "metadata": {},
   "source": [
    "## 5. Model Definitions"
   ]
  },
  {
   "cell_type": "markdown",
   "metadata": {},
   "source": [
    "Here we define which models to use and the parameters for those models"
   ]
  },
  {
   "cell_type": "code",
   "execution_count": 219,
   "metadata": {},
   "outputs": [],
   "source": [
    "# Define regression models\n",
    "models = {\n",
    "    'Linear Regression': Pipeline([\n",
    "        ('regressor', LinearRegression())\n",
    "    ]),\n",
    "    'Polynomial Regression (degree=2)': Pipeline([\n",
    "        ('poly', PolynomialFeatures(degree=2, include_bias=False)),\n",
    "        ('regressor', LinearRegression())\n",
    "    ]),\n",
    "    'Polynomial Regression (degree=3)': Pipeline([\n",
    "        ('poly', PolynomialFeatures(degree=3, include_bias=False)),\n",
    "        ('regressor', LinearRegression())\n",
    "    ])\n",
    "}"
   ]
  },
  {
   "cell_type": "markdown",
   "metadata": {},
   "source": [
    "Now, here we define the classification models and their parameters"
   ]
  },
  {
   "cell_type": "code",
   "execution_count": 183,
   "metadata": {},
   "outputs": [],
   "source": [
    "# Classification models - defining (with optuna)\n",
    "classifier_models = {\n",
    "    'KNN_Injury': Pipeline([ ('preprocessor', preprocessor),\n",
    "        ('model', KNeighborsClassifier(**study_knn.best_params))]),\n",
    "    'KNN_Death': Pipeline([ ('preprocessor', preprocessor),\n",
    "        ('model', KNeighborsClassifier(**study_knn.best_params))]),\n",
    "    'RF_Injury': Pipeline([ ('preprocessor', preprocessor),\n",
    "        ('model', RandomForestClassifier(**study_rf.best_params, random_state=42))]),\n",
    "    'RF_Death': Pipeline([ ('preprocessor', preprocessor),\n",
    "        ('model', RandomForestClassifier(**study_rf.best_params, random_state=42))]),\n",
    "    'GB_Injury': Pipeline([ ('preprocessor', preprocessor),\n",
    "        ('model', GradientBoostingClassifier(**study_gb.best_params, random_state=42))]),\n",
    "    'GB_Death': Pipeline([ ('preprocessor', preprocessor),\n",
    "        ('model', GradientBoostingClassifier(**study_gb.best_params, random_state=42))])}"
   ]
  },
  {
   "cell_type": "markdown",
   "metadata": {},
   "source": [
    "## 6. Model Training Functions"
   ]
  },
  {
   "cell_type": "markdown",
   "metadata": {},
   "source": [
    "Here we define the train function for the regression models first then, it return a list of results for each model that we process in the pipeline"
   ]
  },
  {
   "cell_type": "code",
   "execution_count": 220,
   "metadata": {},
   "outputs": [],
   "source": [
    "def train_regression_models(models, X_train, y_train, X_test, y_test, target_name):\n",
    "    # list of results for every model that we process inside the pipeline\n",
    "    results = []\n",
    "    for model_name, model in models.items():\n",
    "        pipeline = Pipeline([('preprocessor', preprocessor),('regressor', model)])\n",
    "        \n",
    "        pipeline.fit(X_train, y_train)\n",
    "        y_pred = pipeline.predict(X_test)\n",
    "        mse = mean_squared_error(y_test, y_pred)\n",
    "        mae = mean_absolute_error(y_test, y_pred)\n",
    "        rmse = np.sqrt(mse)\n",
    "        \n",
    "        results.append({'model': model_name, 'target': target_name, 'mse': mse, 'mae': mae, 'rmse': rmse})\n",
    "    return results"
   ]
  },
  {
   "cell_type": "markdown",
   "metadata": {},
   "source": [
    "Here we define the train function for the classification models"
   ]
  },
  {
   "cell_type": "code",
   "execution_count": 254,
   "metadata": {},
   "outputs": [],
   "source": [
    "def train_classification_models(models, X_train, y_train, X_test, y_test, target_name):\n",
    "\n",
    "    results = []\n",
    "    for model_name, model in models.items():\n",
    "        model.fit(X_train, y_train[model_name])\n",
    "        y_pred = model.predict(X_test)\n",
    "        \n",
    "        results.append({\n",
    "            'model': model_name,\n",
    "            'target': target_name,\n",
    "            'accuracy': accuracy_score(y_test[model_name], y_pred),\n",
    "            'precision': precision_score(y_test[model_name], y_pred, average='weighted'),\n",
    "            'recall': recall_score(y_test[model_name], y_pred, average='weighted'),\n",
    "            'f1': f1_score(y_test[model_name], y_pred, average='weighted'),\n",
    "            'confusion_matrix': confusion_matrix(y_test[model_name], y_pred),\n",
    "            'classification_report': classification_report(y_test[model_name], y_pred),\n",
    "            'r2': r2_score(y_test[model_name], y_pred)\n",
    "        })\n",
    "    return results"
   ]
  },
  {
   "cell_type": "markdown",
   "metadata": {},
   "source": [
    "## 7. Model Training and Evaluation"
   ]
  },
  {
   "cell_type": "code",
   "execution_count": 245,
   "metadata": {},
   "outputs": [
    {
     "name": "stdout",
     "output_type": "stream",
     "text": [
      "[*] Training and evaluating the regression models.\n"
     ]
    }
   ],
   "source": [
    "print(\"[*] Training and evaluating the regression models.\")\n",
    "injury_results = train_regression_models(models, X_train, y_inj_train, X_test, y_inj_test, \"Injury\")\n",
    "death_results = train_regression_models(models, X_train, y_death_train, X_test, y_death_test, \"Death\")"
   ]
  },
  {
   "cell_type": "code",
   "execution_count": 253,
   "metadata": {},
   "outputs": [
    {
     "name": "stdout",
     "output_type": "stream",
     "text": [
      "\n",
      "Regression Models Results:\n",
      "\n",
      "Linear Regression - Injury Prediction\n",
      "Mean Squared Error: 0.2681\n",
      "R-squared: -0.0200\n",
      "\n",
      "Polynomial Regression (degree=2) - Injury Prediction\n",
      "Mean Squared Error: 0.2791\n",
      "R-squared: -0.0619\n",
      "\n",
      "Polynomial Regression (degree=3) - Injury Prediction\n",
      "Mean Squared Error: 0.2792\n",
      "R-squared: -0.0623\n",
      "\n",
      "Linear Regression - Death Prediction\n",
      "Mean Squared Error: 0.0056\n",
      "R-squared: -0.0147\n",
      "\n",
      "Polynomial Regression (degree=2) - Death Prediction\n",
      "Mean Squared Error: 0.0059\n",
      "R-squared: -0.0673\n",
      "\n",
      "Polynomial Regression (degree=3) - Death Prediction\n",
      "Mean Squared Error: 0.0059\n",
      "R-squared: -0.0677\n"
     ]
    }
   ],
   "source": [
    "# Printing regression results\n",
    "\n",
    "\n",
    "print(\"\\nRegression Models Results:\")\n",
    "for result in injury_results + death_results:\n",
    "    print(f\"\\n{result['model']} - {result['target']} Prediction\")\n",
    "    print(f\"Mean Squared Error: {result['mse']:.4f}\")\n",
    "    # print(f\"Mean Absolute Error: {result['mae']:.4f}\")\n",
    "    # print(f\"Root Mean Squared Error: {result['rmse']:.4f}\")\n",
    "    print(f\"R-squared: {result['r2']:.4f}\")"
   ]
  },
  {
   "cell_type": "markdown",
   "metadata": {},
   "source": [
    "# Highly Skewed Dataset"
   ]
  },
  {
   "cell_type": "code",
   "execution_count": 251,
   "metadata": {},
   "outputs": [
    {
     "data": {
      "image/png": "[encoded data removed]",
      "text/plain": [
       "<Figure size 1200x600 with 1 Axes>"
      ]
     },
     "metadata": {},
     "output_type": "display_data"
    }
   ],
   "source": [
    "plt.figure(figsize=(12, 6))\n",
    "df['NUMBER OF PERSONS INJURED'].value_counts().sort_index().plot(kind='bar')\n",
    "plt.title('Distribution of Number of Persons Injured in Crashes')\n",
    "plt.xlabel('Number of Injuries')\n",
    "plt.ylabel('Frequency (Number of Crashes)')\n",
    "plt.grid(True, alpha=0.3)\n",
    "plt.xticks(rotation=0)\n",
    "plt.tight_layout()\n",
    "plt.show()"
   ]
  },
  {
   "cell_type": "code",
   "execution_count": 252,
   "metadata": {},
   "outputs": [
    {
     "data": {
      "image/png": "[encoded data removed]",
      "text/plain": [
       "<Figure size 1200x600 with 1 Axes>"
      ]
     },
     "metadata": {},
     "output_type": "display_data"
    }
   ],
   "source": [
    "plt.figure(figsize=(12, 6))\n",
    "df['NUMBER OF PERSONS KILLED'].value_counts().sort_index().plot(kind='bar')\n",
    "plt.title('Distribution of Number of Persons Killed in Crashes')\n",
    "plt.xlabel('Number of Fatalities')\n",
    "plt.ylabel('Frequency (Number of Crashes)')\n",
    "plt.grid(True, alpha=0.3)\n",
    "plt.xticks(rotation=0)\n",
    "plt.tight_layout()\n",
    "plt.show()"
   ]
  },
  {
   "cell_type": "code",
   "execution_count": 188,
   "metadata": {},
   "outputs": [
    {
     "name": "stdout",
     "output_type": "stream",
     "text": [
      "[*] Training the classification models>\n"
     ]
    },
    {
     "name": "stderr",
     "output_type": "stream",
     "text": [
      "/Users/huiyu/Library/Python/3.9/lib/python/site-packages/sklearn/metrics/_classification.py:1509: UndefinedMetricWarning:\n",
      "\n",
      "Precision is ill-defined and being set to 0.0 in labels with no predicted samples. Use `zero_division` parameter to control this behavior.\n",
      "\n",
      "/Users/huiyu/Library/Python/3.9/lib/python/site-packages/sklearn/metrics/_classification.py:1509: UndefinedMetricWarning:\n",
      "\n",
      "Precision is ill-defined and being set to 0.0 in labels with no predicted samples. Use `zero_division` parameter to control this behavior.\n",
      "\n",
      "/Users/huiyu/Library/Python/3.9/lib/python/site-packages/sklearn/metrics/_classification.py:1509: UndefinedMetricWarning:\n",
      "\n",
      "Precision is ill-defined and being set to 0.0 in labels with no predicted samples. Use `zero_division` parameter to control this behavior.\n",
      "\n",
      "/Users/huiyu/Library/Python/3.9/lib/python/site-packages/sklearn/metrics/_classification.py:1509: UndefinedMetricWarning:\n",
      "\n",
      "Precision is ill-defined and being set to 0.0 in labels with no predicted samples. Use `zero_division` parameter to control this behavior.\n",
      "\n",
      "/Users/huiyu/Library/Python/3.9/lib/python/site-packages/sklearn/metrics/_classification.py:1509: UndefinedMetricWarning:\n",
      "\n",
      "Precision is ill-defined and being set to 0.0 in labels with no predicted samples. Use `zero_division` parameter to control this behavior.\n",
      "\n",
      "/Users/huiyu/Library/Python/3.9/lib/python/site-packages/sklearn/metrics/_classification.py:1509: UndefinedMetricWarning:\n",
      "\n",
      "Precision is ill-defined and being set to 0.0 in labels with no predicted samples. Use `zero_division` parameter to control this behavior.\n",
      "\n",
      "/Users/huiyu/Library/Python/3.9/lib/python/site-packages/sklearn/metrics/_classification.py:1509: UndefinedMetricWarning:\n",
      "\n",
      "Precision is ill-defined and being set to 0.0 in labels with no predicted samples. Use `zero_division` parameter to control this behavior.\n",
      "\n",
      "/Users/huiyu/Library/Python/3.9/lib/python/site-packages/sklearn/metrics/_classification.py:1509: UndefinedMetricWarning:\n",
      "\n",
      "Precision is ill-defined and being set to 0.0 in labels with no predicted samples. Use `zero_division` parameter to control this behavior.\n",
      "\n",
      "/Users/huiyu/Library/Python/3.9/lib/python/site-packages/sklearn/metrics/_classification.py:1509: UndefinedMetricWarning:\n",
      "\n",
      "Precision is ill-defined and being set to 0.0 in labels with no predicted samples. Use `zero_division` parameter to control this behavior.\n",
      "\n",
      "/Users/huiyu/Library/Python/3.9/lib/python/site-packages/sklearn/metrics/_classification.py:1509: UndefinedMetricWarning:\n",
      "\n",
      "Precision is ill-defined and being set to 0.0 in labels with no predicted samples. Use `zero_division` parameter to control this behavior.\n",
      "\n",
      "/Users/huiyu/Library/Python/3.9/lib/python/site-packages/sklearn/metrics/_classification.py:1509: UndefinedMetricWarning:\n",
      "\n",
      "Precision is ill-defined and being set to 0.0 in labels with no predicted samples. Use `zero_division` parameter to control this behavior.\n",
      "\n",
      "/Users/huiyu/Library/Python/3.9/lib/python/site-packages/sklearn/metrics/_classification.py:1509: UndefinedMetricWarning:\n",
      "\n",
      "Precision is ill-defined and being set to 0.0 in labels with no predicted samples. Use `zero_division` parameter to control this behavior.\n",
      "\n"
     ]
    }
   ],
   "source": [
    "# Here we train the classification models that we defined earlier\n",
    "print(\"[*] Training the classification models>\")\n",
    "\n",
    "classification_results = train_classification_models(classifier_models, X_train,\n",
    "    {'KNN_Injury': y_inj_train, 'KNN_Death': y_death_train,\n",
    "     'RF_Injury': y_inj_train, 'RF_Death': y_death_train,\n",
    "     'GB_Injury': y_inj_train, 'GB_Death': y_death_train},\n",
    "    X_test,\n",
    "    {'KNN_Injury': y_inj_test, 'KNN_Death': y_death_test,\n",
    "     'RF_Injury': y_inj_test, 'RF_Death': y_death_test,\n",
    "     'GB_Injury': y_inj_test, 'GB_Death': y_death_test}, \"Classification\"\n",
    ")"
   ]
  },
  {
   "cell_type": "code",
   "execution_count": 189,
   "metadata": {},
   "outputs": [
    {
     "name": "stdout",
     "output_type": "stream",
     "text": [
      "[*] Classification Models Results [Injuries]\n",
      "[*] KNN_Injury Results:\n",
      "[*] Accuracy: 0.7301\n",
      "[*] Precision: 0.6902\n",
      "[*] Recall: 0.7301\n",
      "[*] F1 Score: 0.6609\n",
      "[*] Classification Report:\n",
      "\n",
      "              precision    recall  f1-score   support\n",
      "\n",
      "           0       0.72      0.20      0.31       758\n",
      "           1       0.73      0.97      0.84      2128\n",
      "           2       0.00      0.00      0.00       160\n",
      "\n",
      "    accuracy                           0.73      3046\n",
      "   macro avg       0.48      0.39      0.38      3046\n",
      "weighted avg       0.69      0.73      0.66      3046\n",
      "\n",
      "\n"
     ]
    }
   ],
   "source": [
    "# Printing the output for classification algorithms\n",
    "print(\"[*] Classification Models Results [Injuries]\")\n",
    "\n",
    "injury_result = classification_results[0]\n",
    "print(f\"[*] {injury_result['model']} Results:\")\n",
    "print(f\"[*] Accuracy: {injury_result['accuracy']:.4f}\")\n",
    "print(f\"[*] Precision: {injury_result['precision']:.4f}\") \n",
    "print(f\"[*] Recall: {injury_result['recall']:.4f}\")\n",
    "print(f\"[*] F1 Score: {injury_result['f1']:.4f}\")\n",
    "print(\"[*] Classification Report:\")\n",
    "print()\n",
    "print(injury_result['classification_report'])\n",
    "print()\n"
   ]
  },
  {
   "cell_type": "code",
   "execution_count": 190,
   "metadata": {},
   "outputs": [
    {
     "name": "stdout",
     "output_type": "stream",
     "text": [
      "[*] Classification Models Results [Deaths]\n",
      "[*] KNN_Death Results:\n",
      "[*] Accuracy: 0.9944\n",
      "[*] Precision: 0.9889\n",
      "[*] Recall: 0.9944\n",
      "[*] F1 Score: 0.9916\n",
      "[*] Classification Report:\n",
      "\n",
      "              precision    recall  f1-score   support\n",
      "\n",
      "           0       0.99      1.00      1.00      3029\n",
      "           1       0.00      0.00      0.00        17\n",
      "\n",
      "    accuracy                           0.99      3046\n",
      "   macro avg       0.50      0.50      0.50      3046\n",
      "weighted avg       0.99      0.99      0.99      3046\n",
      "\n",
      "\n"
     ]
    }
   ],
   "source": [
    "# Print classification report for deaths\n",
    "print(\"[*] Classification Models Results [Deaths]\") \n",
    "death_result = classification_results[1]\n",
    "\n",
    "print(f\"[*] {death_result['model']} Results:\")\n",
    "print(f\"[*] Accuracy: {death_result['accuracy']:.4f}\")\n",
    "print(f\"[*] Precision: {death_result['precision']:.4f}\")\n",
    "print(f\"[*] Recall: {death_result['recall']:.4f}\") \n",
    "print(f\"[*] F1 Score: {death_result['f1']:.4f}\")\n",
    "print(\"[*] Classification Report:\")\n",
    "print()\n",
    "print(death_result['classification_report'])\n",
    "print()"
   ]
  },
  {
   "cell_type": "code",
   "execution_count": 191,
   "metadata": {},
   "outputs": [
    {
     "data": {
      "image/png": "[encoded data removed]",
      "text/plain": [
       "<Figure size 750x600 with 2 Axes>"
      ]
     },
     "metadata": {},
     "output_type": "display_data"
    }
   ],
   "source": [
    "# Plotting a confusion matrix for the algorithm we just trainied\n",
    "\n",
    "\n",
    "result = classification_results[1]\n",
    "plt.figure(figsize=(7.5, 6))\n",
    "sns.heatmap(result['confusion_matrix'], annot=True, fmt='d', cmap='Blues', xticklabels=['No', 'Yes'], yticklabels=['No', 'Yes'])\n",
    "\n",
    "plt.ylabel('Actual')\n",
    "plt.title(f\"Confusion Matrix - {result['model']}\")\n",
    "plt.xlabel('Predicted')\n",
    "plt.tight_layout()\n",
    "plt.show()\n"
   ]
  },
  {
   "cell_type": "code",
   "execution_count": 192,
   "metadata": {},
   "outputs": [
    {
     "data": {
      "image/png": "[encoded data removed]",
      "text/plain": [
       "<Figure size 750x600 with 2 Axes>"
      ]
     },
     "metadata": {},
     "output_type": "display_data"
    }
   ],
   "source": [
    "# This is confusion matrix for injuries\n",
    "plt.figure(figsize=(7.5, 6))\n",
    "\n",
    "result = classification_results[0]\n",
    "sns.heatmap(result['confusion_matrix'][:2,:2], annot=True, fmt='d', cmap='Blues', xticklabels=['No', 'Yes'], yticklabels=['No', 'Yes'])\n",
    "\n",
    "plt.title(f\"Cconfusion Matrix - {result['model']}\")\n",
    "plt.xlabel('Predicted')\n",
    "plt.ylabel('Actual')\n",
    "\n",
    "plt.tight_layout()\n",
    "plt.show()\n"
   ]
  },
  {
   "cell_type": "code",
   "execution_count": 193,
   "metadata": {},
   "outputs": [
    {
     "name": "stdout",
     "output_type": "stream",
     "text": [
      "[*] RF_Injury Results:\n",
      "[*] Accuracy: 0.7403\n",
      "[*] Precision: 0.7409\n",
      "[*] Recall: 0.7403\n",
      "[*] F1 Score: 0.6638\n",
      "[*] Classification Report:\n",
      "\n",
      "              precision    recall  f1-score   support\n",
      "\n",
      "           0       0.93      0.18      0.30       758\n",
      "           1       0.73      1.00      0.84      2128\n",
      "           2       0.00      0.00      0.00       160\n",
      "\n",
      "    accuracy                           0.74      3046\n",
      "   macro avg       0.55      0.39      0.38      3046\n",
      "weighted avg       0.74      0.74      0.66      3046\n",
      "\n"
     ]
    }
   ],
   "source": [
    "# Printing the classification for Random forest Injuries\n",
    "result = classification_results[2]  # Here we get the results for injuries (metrics)\n",
    "print(f\"[*] {result['model']} Results:\")\n",
    "print(f\"[*] Accuracy: {result['accuracy']:.4f}\")\n",
    "print(f\"[*] Precision: {result['precision']:.4f}\")\n",
    "\n",
    "print(f\"[*] Recall: {result['recall']:.4f}\")\n",
    "print(f\"[*] F1 Score: {result['f1']:.4f}\")\n",
    "print(\"[*] Classification Report:\")\n",
    "print()\n",
    "print(result['classification_report'])\n"
   ]
  },
  {
   "cell_type": "code",
   "execution_count": 194,
   "metadata": {},
   "outputs": [
    {
     "name": "stdout",
     "output_type": "stream",
     "text": [
      "[*] RF_Death Results:\n",
      "[*] Accuracy: 0.9944\n",
      "[*] Precision: 0.9889\n",
      "[*] Recall: 0.9944\n",
      "[*] F1 Score: 0.9916\n",
      "[*] Classification Report:\n",
      "\n",
      "              precision    recall  f1-score   support\n",
      "\n",
      "           0       0.99      1.00      1.00      3029\n",
      "           1       0.00      0.00      0.00        17\n",
      "\n",
      "    accuracy                           0.99      3046\n",
      "   macro avg       0.50      0.50      0.50      3046\n",
      "weighted avg       0.99      0.99      0.99      3046\n",
      "\n"
     ]
    }
   ],
   "source": [
    "# Printing the classification for Random forest deaths\n",
    "result = classification_results[3]\n",
    "print(f\"[*] {result['model']} Results:\")\n",
    "print(f\"[*] Accuracy: {result['accuracy']:.4f}\")\n",
    "print(f\"[*] Precision: {result['precision']:.4f}\")\n",
    "print(f\"[*] Recall: {result['recall']:.4f}\")\n",
    "print(f\"[*] F1 Score: {result['f1']:.4f}\")\n",
    "print(\"[*] Classification Report:\")\n",
    "print()\n",
    "print(result['classification_report'])\n"
   ]
  },
  {
   "cell_type": "code",
   "execution_count": 195,
   "metadata": {},
   "outputs": [
    {
     "data": {
      "image/png": "[encoded data removed]",
      "text/plain": [
       "<Figure size 800x550 with 2 Axes>"
      ]
     },
     "metadata": {},
     "output_type": "display_data"
    },
    {
     "data": {
      "text/plain": [
       "<Figure size 1000x600 with 0 Axes>"
      ]
     },
     "metadata": {},
     "output_type": "display_data"
    }
   ],
   "source": [
    "# Plotting the confusion matrix for random forest injuries\n",
    "\n",
    "result = classification_results[2] \n",
    "sns.heatmap(result['confusion_matrix'][:2,:2], annot=True, fmt='d', \n",
    "            cmap='Blues', xticklabels=['No', 'Yes'], yticklabels=['No', 'Yes'])\n",
    "\n",
    "\n",
    "plt.title(f\"Confusion Matrix - {result['model']}\")\n",
    "plt.xlabel('Predicted')\n",
    "plt.ylabel('Actual')\n",
    "plt.figure(figsize=(10, 6))\n",
    "plt.tight_layout()\n",
    "plt.show()"
   ]
  },
  {
   "cell_type": "code",
   "execution_count": 196,
   "metadata": {},
   "outputs": [
    {
     "data": {
      "image/png": "[encoded data removed]",
      "text/plain": [
       "<Figure size 750x600 with 2 Axes>"
      ]
     },
     "metadata": {},
     "output_type": "display_data"
    }
   ],
   "source": [
    "# Plotting the confusion matrix for random forest Death\n",
    "plt.figure(figsize=(7.5, 6))\n",
    "\n",
    "result = classification_results[3]\n",
    "sns.heatmap(result['confusion_matrix'][:2,:2], annot=True, fmt='d', cmap='Blues', xticklabels=['No', 'Yes'],\n",
    "            yticklabels=['No', 'Yes'])\n",
    "\n",
    "plt.title(f\"Confusion Matrix - {result['model']}\")\n",
    "plt.xlabel('Predicted')\n",
    "plt.ylabel('Actual')\n",
    "\n",
    "plt.tight_layout()\n",
    "plt.show()\n"
   ]
  },
  {
   "cell_type": "code",
   "execution_count": 197,
   "metadata": {},
   "outputs": [
    {
     "name": "stdout",
     "output_type": "stream",
     "text": [
      "[*] GB_Death Results:\n",
      "[*] Accuracy: 0.9898\n",
      "[*] Precision: 0.9895\n",
      "[*] Recall: 0.9898\n",
      "[*] F1 Score: 0.9897\n",
      "[*] Classification Report:\n",
      "\n",
      "              precision    recall  f1-score   support\n",
      "\n",
      "           0       0.99      1.00      0.99      3029\n",
      "           1       0.06      0.06      0.06        17\n",
      "\n",
      "    accuracy                           0.99      3046\n",
      "   macro avg       0.53      0.53      0.53      3046\n",
      "weighted avg       0.99      0.99      0.99      3046\n",
      "\n"
     ]
    }
   ],
   "source": [
    "# Plotting the confusion matrix for Gradient boosting for Deaths\n",
    "result = classification_results[5]\n",
    "print(f\"[*] {result['model']} Results:\")\n",
    "print(f\"[*] Accuracy: {result['accuracy']:.4f}\")\n",
    "print(f\"[*] Precision: {result['precision']:.4f}\")\n",
    "print(f\"[*] Recall: {result['recall']:.4f}\")\n",
    "print(f\"[*] F1 Score: {result['f1']:.4f}\")\n",
    "print(\"[*] Classification Report:\")\n",
    "print()\n",
    "print(result['classification_report'])\n"
   ]
  },
  {
   "cell_type": "code",
   "execution_count": 198,
   "metadata": {},
   "outputs": [
    {
     "name": "stdout",
     "output_type": "stream",
     "text": [
      "[*] GB_Injury Results:\n",
      "[*] Accuracy: 0.7360\n",
      "[*] Precision: 0.7349\n",
      "[*] Recall: 0.7360\n",
      "[*] F1 Score: 0.6617\n",
      "[*] Classification Report:\n",
      "\n",
      "              precision    recall  f1-score   support\n",
      "\n",
      "           0       0.88      0.18      0.30       758\n",
      "           1       0.73      0.99      0.84      2128\n",
      "           2       0.09      0.01      0.01       160\n",
      "\n",
      "    accuracy                           0.74      3046\n",
      "   macro avg       0.57      0.39      0.38      3046\n",
      "weighted avg       0.73      0.74      0.66      3046\n",
      "\n"
     ]
    }
   ],
   "source": [
    "# Plotting the confusion matrix for Gradient boosting for Injuries\n",
    "result = classification_results[4]\n",
    "print(f\"[*] {result['model']} Results:\")\n",
    "print(f\"[*] Accuracy: {result['accuracy']:.4f}\")\n",
    "print(f\"[*] Precision: {result['precision']:.4f}\")\n",
    "print(f\"[*] Recall: {result['recall']:.4f}\")\n",
    "print(f\"[*] F1 Score: {result['f1']:.4f}\")\n",
    "print(\"[*] Classification Report:\")\n",
    "print()\n",
    "print(result['classification_report'])\n"
   ]
  },
  {
   "cell_type": "code",
   "execution_count": 199,
   "metadata": {},
   "outputs": [
    {
     "data": {
      "image/png": "[encoded data removed]",
      "text/plain": [
       "<Figure size 750x600 with 2 Axes>"
      ]
     },
     "metadata": {},
     "output_type": "display_data"
    }
   ],
   "source": [
    "# Plotting confusion matrix for Gradient boosting - Injuries\n",
    "plt.figure(figsize=(7.5, 6))\n",
    "\n",
    "result = classification_results[4]  \n",
    "sns.heatmap(result['confusion_matrix'][:2,:2], annot=True, fmt='d', cmap='Blues',\n",
    "            xticklabels=['No', 'Yes'], yticklabels=['No', 'Yes'])\n",
    "\n",
    "plt.title(f\"Confusion Matrix - {result['model']}\")\n",
    "plt.xlabel('Predicted')\n",
    "plt.ylabel('Actual')\n",
    "plt.tight_layout()\n",
    "plt.show()\n"
   ]
  },
  {
   "cell_type": "code",
   "execution_count": 200,
   "metadata": {},
   "outputs": [
    {
     "data": {
      "image/png": "[encoded data removed]",
      "text/plain": [
       "<Figure size 750x600 with 2 Axes>"
      ]
     },
     "metadata": {},
     "output_type": "display_data"
    }
   ],
   "source": [
    "# Plotting confusion matrix for Gradient boosting - Deaths\n",
    "plt.figure(figsize=(7.5, 6))\n",
    "\n",
    "result = classification_results[5]\n",
    "sns.heatmap(result['confusion_matrix'][:2,:2], annot=True, fmt='d', cmap='Blues', xticklabels=['No', 'Yes'],\n",
    "            yticklabels=['No', 'Yes'])\n",
    "\n",
    "plt.title(f\"Confusion Matrix - {result['model']}\")\n",
    "plt.xlabel('Predicted')\n",
    "plt.ylabel('Actual')\n",
    "plt.tight_layout()\n",
    "plt.show()\n"
   ]
  },
  {
   "cell_type": "markdown",
   "metadata": {},
   "source": [
    "# Comparing F-1 scores for all the classification models"
   ]
  },
  {
   "cell_type": "code",
   "execution_count": 201,
   "metadata": {},
   "outputs": [],
   "source": [
    "# Taking only the injury models for all the 3 models\n",
    "injury_models = [result for result in classification_results if 'Injury' in result['model']]"
   ]
  },
  {
   "cell_type": "code",
   "execution_count": 202,
   "metadata": {},
   "outputs": [],
   "source": [
    "# Here we get the names for the models\n",
    "model_names = [result['model'] for result in injury_models]\n",
    "f1_scores = [result['f1'] for result in injury_models]                  # Only utilizing the F-1 score metric from the result"
   ]
  },
  {
   "cell_type": "code",
   "execution_count": 203,
   "metadata": {},
   "outputs": [
    {
     "data": {
      "image/png": "[encoded data removed]",
      "text/plain": [
       "<Figure size 1000x600 with 1 Axes>"
      ]
     },
     "metadata": {},
     "output_type": "display_data"
    }
   ],
   "source": [
    "# Create the bar Graph\n",
    "plt.figure(figsize=(10, 6))\n",
    "plt.bar(model_names, f1_scores, color='skyblue', edgecolor='black')\n",
    "plt.ylabel('F1 Score')\n",
    "plt.title('Comparison of Injury Models (KNN, RF & GB)', pad=20)\n",
    "plt.xticks(rotation=30, ha='right')\n",
    "# Prettifing the bar graph\n",
    "for i, f1 in enumerate(f1_scores):\n",
    "    plt.text(i, f1 + 0.01, f'{f1:.3f}', ha='center', va='bottom', fontsize=12, fontweight='bold')\n",
    "plt.ylim(0, 1)\n",
    "plt.show()"
   ]
  },
  {
   "cell_type": "markdown",
   "metadata": {},
   "source": [
    "# Logistic Regression"
   ]
  },
  {
   "cell_type": "code",
   "execution_count": 214,
   "metadata": {},
   "outputs": [
    {
     "name": "stderr",
     "output_type": "stream",
     "text": [
      "/Users/huiyu/Library/Python/3.9/lib/python/site-packages/sklearn/linear_model/_logistic.py:469: ConvergenceWarning:\n",
      "\n",
      "lbfgs failed to converge (status=1):\n",
      "STOP: TOTAL NO. of ITERATIONS REACHED LIMIT.\n",
      "\n",
      "Increase the number of iterations (max_iter) or scale the data as shown in:\n",
      "    https://scikit-learn.org/stable/modules/preprocessing.html\n",
      "Please also refer to the documentation for alternative solver options:\n",
      "    https://scikit-learn.org/stable/modules/linear_model.html#logistic-regression\n",
      "\n"
     ]
    }
   ],
   "source": [
    "from sklearn.linear_model import LogisticRegression\n",
    "# Prepare features and target\n",
    "X = df_clean[features]\n",
    "y = df_clean['CAUSALITY']\n",
    "\n",
    "# Split the data\n",
    "X_train, X_test, y_train, y_test = train_test_split(X, y, test_size=0.2, random_state=42, stratify=y)\n",
    "# Create logistic regression pipeline\n",
    "logistic_pipeline = Pipeline([('preprocessor', preprocessor),('classifier', LogisticRegression(max_iter=1000, random_state=42))])\n",
    "\n",
    "# Train the model\n",
    "logistic_pipeline.fit(X_train, y_train)\n",
    "\n",
    "# Make predictions\n",
    "y_pred = logistic_pipeline.predict(X_test)\n",
    "y_pred_proba = logistic_pipeline.predict_proba(X_test)[:, 1]"
   ]
  },
  {
   "cell_type": "code",
   "execution_count": null,
   "metadata": {},
   "outputs": [
    {
     "name": "stdout",
     "output_type": "stream",
     "text": [
      "\n",
      "Model Performance Metrics:\n",
      "Accuracy: 0.7607\n",
      "Precision: 0.7613\n",
      "Recall: 0.9987\n",
      "F1 Score: 0.8640\n",
      "\n",
      "Classification Report:\n",
      "              precision    recall  f1-score   support\n",
      "\n",
      "           0       0.25      0.00      0.00       727\n",
      "           1       0.76      1.00      0.86      2319\n",
      "\n",
      "    accuracy                           0.76      3046\n",
      "   macro avg       0.51      0.50      0.43      3046\n",
      "weighted avg       0.64      0.76      0.66      3046\n",
      "\n",
      "\n",
      "Confusion Matrix:\n",
      "[[   1  726]\n",
      " [   3 2316]]\n"
     ]
    }
   ],
   "source": [
    "# Calculate metrics for Logistic Regression\n",
    "accuracy = accuracy_score(y_test, y_pred)\n",
    "precision = precision_score(y_test, y_pred)\n",
    "recall = recall_score(y_test, y_pred)\n",
    "f1 = f1_score(y_test, y_pred)\n",
    "\n",
    "# Print metrics\n",
    "print(\"\\nModel Performance Metrics:\")\n",
    "print(f\"Accuracy: {accuracy:.4f}\")\n",
    "print(f\"Precision: {precision:.4f}\")\n",
    "print(f\"Recall: {recall:.4f}\")\n",
    "print(f\"F1 Score: {f1:.4f}\")\n",
    "# Print classification report\n",
    "print(\"\\nClassification Report:\")\n",
    "print(classification_report(y_test, y_pred))\n",
    "\n",
    "# Print confusion matrix\n",
    "cm = confusion_matrix(y_test, y_pred)\n",
    "print(\"\\nConfusion Matrix:\")\n",
    "print(cm)"
   ]
  },
  {
   "cell_type": "code",
   "execution_count": 210,
   "metadata": {},
   "outputs": [
    {
     "data": {
      "image/png": "[encoded data removed]",
      "text/plain": [
       "<Figure size 800x600 with 2 Axes>"
      ]
     },
     "metadata": {},
     "output_type": "display_data"
    }
   ],
   "source": [
    "# Confusion matrix for Logistic Regression\n",
    "plt.figure(figsize=(8, 6))\n",
    "sns.heatmap(cm, annot=True, fmt='d', cmap='Blues', xticklabels=['No Causality', 'Causality'],yticklabels=['No Causality', 'Causality'])\n",
    "plt.xlabel('Predicted')\n",
    "plt.ylabel('Actual')\n",
    "plt.title('Confusion Matrix')\n",
    "plt.show()"
   ]
  },
  {
   "cell_type": "markdown",
   "metadata": {},
   "source": [
    "# END"
   ]
  }
 ],
 "metadata": {
  "kernelspec": {
   "display_name": "Python 3",
   "language": "python",
   "name": "python3"
  },
  "language_info": {
   "codemirror_mode": {
    "name": "ipython",
    "version": 3
   },
   "file_extension": ".py",
   "mimetype": "text/x-python",
   "name": "python",
   "nbconvert_exporter": "python",
   "pygments_lexer": "ipython3",
   "version": "3.13.2"
  }
 },
 "nbformat": 4,
 "nbformat_minor": 2
}
