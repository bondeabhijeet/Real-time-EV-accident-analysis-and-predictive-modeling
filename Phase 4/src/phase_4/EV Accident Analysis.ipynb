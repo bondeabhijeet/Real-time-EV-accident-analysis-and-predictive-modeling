{
  "cells": [
    {
      "cell_type": "markdown",
      "id": "20014f51",
      "metadata": {
        "language": "markdown"
      },
      "source": [
        "# Electric Vehicle Accident Analysis\n",
        "\n",
        "This notebook analyzes accident data for electric vehicles, focusing on predicting casualties (casulties include injuries as well as deaths) using various classification algorithms."
      ]
    },
    {
      "cell_type": "markdown",
      "id": "81ba2f27",
      "metadata": {
        "language": "markdown"
      },
      "source": [
        "## 1. Importing Libraries"
      ]
    },
    {
      "cell_type": "code",
      "execution_count": null,
      "id": "f6a69d28",
      "metadata": {
        "language": "python"
      },
      "outputs": [],
      "source": [
        "# For handling data and plotting\n",
        "import pandas as pd\n",
        "import numpy as np\n",
        "import matplotlib.pyplot as plt\n",
        "import seaborn as sns\n",
        "import plotly.express as px\n",
        "import plotly.graph_objects as go\n",
        "import plotly.io as pio\n",
        "import random\n",
        "import pickle\n",
        "import os\n",
        "\n",
        "# For machine learning models and pipelines\n",
        "import sklearn\n",
        "from sklearn.model_selection import train_test_split, cross_val_score\n",
        "from sklearn.preprocessing import OneHotEncoder, FunctionTransformer\n",
        "from sklearn.compose import ColumnTransformer\n",
        "from sklearn.pipeline import Pipeline\n",
        "from sklearn.neighbors import KNeighborsClassifier\n",
        "from sklearn.ensemble import RandomForestClassifier, GradientBoostingClassifier, AdaBoostClassifier, ExtraTreesClassifier\n",
        "from sklearn.linear_model import LogisticRegression\n",
        "from sklearn.tree import DecisionTreeClassifier\n",
        "from sklearn.naive_bayes import GaussianNB\n",
        "from sklearn.metrics import (\n",
        "    accuracy_score, precision_score, recall_score, f1_score,\n",
        "    confusion_matrix, classification_report,\n",
        "    balanced_accuracy_score, roc_auc_score, average_precision_score\n",
        ")\n",
        "\n",
        "# For tuning hyperparameters and also handling imbalanced data\n",
        "import optuna\n",
        "from imblearn.over_sampling import SMOTE, ADASYN"
      ]
    },
    {
      "cell_type": "code",
      "execution_count": 173,
      "id": "76d875de",
      "metadata": {},
      "outputs": [],
      "source": [
        "# Settings for plotting styles and randomization\n",
        "plt.style.use('ggplot')\n",
        "sns.set_palette('Set2')\n",
        "pio.renderers.default = \"notebook\"\n",
        "\n",
        "random.seed(42)\n",
        "np.random.seed(42)"
      ]
    },
    {
      "cell_type": "markdown",
      "id": "a9a177fe",
      "metadata": {
        "language": "markdown"
      },
      "source": [
        "## 2. Loading the Data"
      ]
    },
    {
      "cell_type": "code",
      "execution_count": 174,
      "id": "6dfce956",
      "metadata": {
        "language": "python"
      },
      "outputs": [],
      "source": [
        "# Loading the data into a dataframe\n",
        "df = pd.read_csv('final_data.csv')"
      ]
    },
    {
      "cell_type": "code",
      "execution_count": 175,
      "id": "80263aca",
      "metadata": {},
      "outputs": [
        {
          "name": "stdout",
          "output_type": "stream",
          "text": [
            "\n",
            " Dataset shape: \n",
            " (1748161, 30)\n",
            "\n",
            " Data types: \n",
            "\n",
            "CRASH DATE & TIME                 object\n",
            "BOROUGH                           object\n",
            "ZIP CODE                           int64\n",
            "LATITUDE                         float64\n",
            "LONGITUDE                        float64\n",
            "LOCATION                          object\n",
            "NUMBER OF PERSONS INJURED          int64\n",
            "NUMBER OF PERSONS KILLED           int64\n",
            "NUMBER OF PEDESTRIANS INJURED      int64\n",
            "NUMBER OF PEDESTRIANS KILLED       int64\n",
            "NUMBER OF CYCLIST INJURED          int64\n",
            "NUMBER OF CYCLIST KILLED           int64\n",
            "NUMBER OF MOTORIST INJURED         int64\n",
            "NUMBER OF MOTORIST KILLED          int64\n",
            "CONTRIBUTING FACTOR VEHICLE 1     object\n",
            "CONTRIBUTING FACTOR VEHICLE 2     object\n",
            "CONTRIBUTING FACTOR VEHICLE 3     object\n",
            "CONTRIBUTING FACTOR VEHICLE 4     object\n",
            "CONTRIBUTING FACTOR VEHICLE 5     object\n",
            "VEHICLE TYPE CODE 1               object\n",
            "VEHICLE TYPE CODE 2               object\n",
            "VEHICLE TYPE CODE 3               object\n",
            "VEHICLE TYPE CODE 4               object\n",
            "VEHICLE TYPE CODE 5               object\n",
            "Addresses                         object\n",
            "Time of Day                       object\n",
            "NLat                             float64\n",
            "NLong                            float64\n",
            "Location                          object\n",
            "is_e_vehicle                        bool\n",
            "dtype: object\n"
          ]
        }
      ],
      "source": [
        "# Display basic information about the dataset\n",
        "print(\"\\n Dataset shape: \\n\", df.shape)\n",
        "print(\"\\n Data types: \\n\")\n",
        "print(df.dtypes)\n"
      ]
    },
    {
      "cell_type": "code",
      "execution_count": 176,
      "id": "84fd89b5",
      "metadata": {},
      "outputs": [
        {
          "data": {
            "text/html": [
              "<div>\n",
              "<style scoped>\n",
              "    .dataframe tbody tr th:only-of-type {\n",
              "        vertical-align: middle;\n",
              "    }\n",
              "\n",
              "    .dataframe tbody tr th {\n",
              "        vertical-align: top;\n",
              "    }\n",
              "\n",
              "    .dataframe thead th {\n",
              "        text-align: right;\n",
              "    }\n",
              "</style>\n",
              "<table border=\"1\" class=\"dataframe\">\n",
              "  <thead>\n",
              "    <tr style=\"text-align: right;\">\n",
              "      <th></th>\n",
              "      <th>CRASH DATE &amp; TIME</th>\n",
              "      <th>BOROUGH</th>\n",
              "      <th>ZIP CODE</th>\n",
              "      <th>LATITUDE</th>\n",
              "      <th>LONGITUDE</th>\n",
              "      <th>LOCATION</th>\n",
              "      <th>NUMBER OF PERSONS INJURED</th>\n",
              "      <th>NUMBER OF PERSONS KILLED</th>\n",
              "      <th>NUMBER OF PEDESTRIANS INJURED</th>\n",
              "      <th>NUMBER OF PEDESTRIANS KILLED</th>\n",
              "      <th>...</th>\n",
              "      <th>VEHICLE TYPE CODE 2</th>\n",
              "      <th>VEHICLE TYPE CODE 3</th>\n",
              "      <th>VEHICLE TYPE CODE 4</th>\n",
              "      <th>VEHICLE TYPE CODE 5</th>\n",
              "      <th>Addresses</th>\n",
              "      <th>Time of Day</th>\n",
              "      <th>NLat</th>\n",
              "      <th>NLong</th>\n",
              "      <th>Location</th>\n",
              "      <th>is_e_vehicle</th>\n",
              "    </tr>\n",
              "  </thead>\n",
              "  <tbody>\n",
              "    <tr>\n",
              "      <th>0</th>\n",
              "      <td>2012-07-01 00:05:00</td>\n",
              "      <td>queens</td>\n",
              "      <td>11435</td>\n",
              "      <td>40.697753</td>\n",
              "      <td>-73.813916</td>\n",
              "      <td>(40.6977532, -73.8139159)</td>\n",
              "      <td>1</td>\n",
              "      <td>0</td>\n",
              "      <td>0</td>\n",
              "      <td>0</td>\n",
              "      <td>...</td>\n",
              "      <td>sedan</td>\n",
              "      <td>NaN</td>\n",
              "      <td>NaN</td>\n",
              "      <td>NaN</td>\n",
              "      <td>NaN</td>\n",
              "      <td>night</td>\n",
              "      <td>NaN</td>\n",
              "      <td>NaN</td>\n",
              "      <td>NaN</td>\n",
              "      <td>False</td>\n",
              "    </tr>\n",
              "    <tr>\n",
              "      <th>1</th>\n",
              "      <td>2012-07-01 00:05:00</td>\n",
              "      <td>manhattan</td>\n",
              "      <td>10036</td>\n",
              "      <td>40.762127</td>\n",
              "      <td>-73.997387</td>\n",
              "      <td>(40.7621266, -73.9973865)</td>\n",
              "      <td>0</td>\n",
              "      <td>0</td>\n",
              "      <td>0</td>\n",
              "      <td>0</td>\n",
              "      <td>...</td>\n",
              "      <td>bus</td>\n",
              "      <td>NaN</td>\n",
              "      <td>NaN</td>\n",
              "      <td>NaN</td>\n",
              "      <td>11 avenue west 44 street new york</td>\n",
              "      <td>night</td>\n",
              "      <td>NaN</td>\n",
              "      <td>NaN</td>\n",
              "      <td>NaN</td>\n",
              "      <td>False</td>\n",
              "    </tr>\n",
              "    <tr>\n",
              "      <th>2</th>\n",
              "      <td>2012-07-01 00:10:00</td>\n",
              "      <td>brooklyn</td>\n",
              "      <td>11223</td>\n",
              "      <td>40.588868</td>\n",
              "      <td>-73.972745</td>\n",
              "      <td>(40.5888678, -73.9727446)</td>\n",
              "      <td>0</td>\n",
              "      <td>0</td>\n",
              "      <td>0</td>\n",
              "      <td>0</td>\n",
              "      <td>...</td>\n",
              "      <td>suv</td>\n",
              "      <td>NaN</td>\n",
              "      <td>NaN</td>\n",
              "      <td>NaN</td>\n",
              "      <td>west 3 street bouck court new york</td>\n",
              "      <td>night</td>\n",
              "      <td>NaN</td>\n",
              "      <td>NaN</td>\n",
              "      <td>NaN</td>\n",
              "      <td>False</td>\n",
              "    </tr>\n",
              "    <tr>\n",
              "      <th>3</th>\n",
              "      <td>2012-07-01 00:10:00</td>\n",
              "      <td>queens</td>\n",
              "      <td>11104</td>\n",
              "      <td>40.733610</td>\n",
              "      <td>-73.923840</td>\n",
              "      <td>(40.73361, -73.9238405)</td>\n",
              "      <td>1</td>\n",
              "      <td>0</td>\n",
              "      <td>0</td>\n",
              "      <td>0</td>\n",
              "      <td>...</td>\n",
              "      <td>suv</td>\n",
              "      <td>suv</td>\n",
              "      <td>sedan</td>\n",
              "      <td>NaN</td>\n",
              "      <td>NaN</td>\n",
              "      <td>night</td>\n",
              "      <td>NaN</td>\n",
              "      <td>NaN</td>\n",
              "      <td>NaN</td>\n",
              "      <td>False</td>\n",
              "    </tr>\n",
              "    <tr>\n",
              "      <th>4</th>\n",
              "      <td>2012-07-01 00:20:00</td>\n",
              "      <td>brooklyn</td>\n",
              "      <td>11215</td>\n",
              "      <td>40.677406</td>\n",
              "      <td>-73.983048</td>\n",
              "      <td>(40.6774056, -73.9830482)</td>\n",
              "      <td>0</td>\n",
              "      <td>0</td>\n",
              "      <td>0</td>\n",
              "      <td>0</td>\n",
              "      <td>...</td>\n",
              "      <td>bicycle</td>\n",
              "      <td>NaN</td>\n",
              "      <td>NaN</td>\n",
              "      <td>NaN</td>\n",
              "      <td>4 avenue union street new york</td>\n",
              "      <td>night</td>\n",
              "      <td>NaN</td>\n",
              "      <td>NaN</td>\n",
              "      <td>NaN</td>\n",
              "      <td>False</td>\n",
              "    </tr>\n",
              "  </tbody>\n",
              "</table>\n",
              "<p>5 rows × 30 columns</p>\n",
              "</div>"
            ],
            "text/plain": [
              "     CRASH DATE & TIME    BOROUGH  ZIP CODE   LATITUDE  LONGITUDE  \\\n",
              "0  2012-07-01 00:05:00     queens     11435  40.697753 -73.813916   \n",
              "1  2012-07-01 00:05:00  manhattan     10036  40.762127 -73.997387   \n",
              "2  2012-07-01 00:10:00   brooklyn     11223  40.588868 -73.972745   \n",
              "3  2012-07-01 00:10:00     queens     11104  40.733610 -73.923840   \n",
              "4  2012-07-01 00:20:00   brooklyn     11215  40.677406 -73.983048   \n",
              "\n",
              "                    LOCATION  NUMBER OF PERSONS INJURED  \\\n",
              "0  (40.6977532, -73.8139159)                          1   \n",
              "1  (40.7621266, -73.9973865)                          0   \n",
              "2  (40.5888678, -73.9727446)                          0   \n",
              "3    (40.73361, -73.9238405)                          1   \n",
              "4  (40.6774056, -73.9830482)                          0   \n",
              "\n",
              "   NUMBER OF PERSONS KILLED  NUMBER OF PEDESTRIANS INJURED  \\\n",
              "0                         0                              0   \n",
              "1                         0                              0   \n",
              "2                         0                              0   \n",
              "3                         0                              0   \n",
              "4                         0                              0   \n",
              "\n",
              "   NUMBER OF PEDESTRIANS KILLED  ...  VEHICLE TYPE CODE 2  \\\n",
              "0                             0  ...                sedan   \n",
              "1                             0  ...                  bus   \n",
              "2                             0  ...                  suv   \n",
              "3                             0  ...                  suv   \n",
              "4                             0  ...              bicycle   \n",
              "\n",
              "   VEHICLE TYPE CODE 3  VEHICLE TYPE CODE 4  VEHICLE TYPE CODE 5  \\\n",
              "0                  NaN                  NaN                  NaN   \n",
              "1                  NaN                  NaN                  NaN   \n",
              "2                  NaN                  NaN                  NaN   \n",
              "3                  suv                sedan                  NaN   \n",
              "4                  NaN                  NaN                  NaN   \n",
              "\n",
              "                            Addresses Time of Day NLat NLong Location  \\\n",
              "0                                 NaN       night  NaN   NaN      NaN   \n",
              "1   11 avenue west 44 street new york       night  NaN   NaN      NaN   \n",
              "2  west 3 street bouck court new york       night  NaN   NaN      NaN   \n",
              "3                                 NaN       night  NaN   NaN      NaN   \n",
              "4      4 avenue union street new york       night  NaN   NaN      NaN   \n",
              "\n",
              "  is_e_vehicle  \n",
              "0        False  \n",
              "1        False  \n",
              "2        False  \n",
              "3        False  \n",
              "4        False  \n",
              "\n",
              "[5 rows x 30 columns]"
            ]
          },
          "execution_count": 176,
          "metadata": {},
          "output_type": "execute_result"
        }
      ],
      "source": [
        "# Displaying the few rows of the dataset\n",
        "df.head()"
      ]
    },
    {
      "cell_type": "code",
      "execution_count": 177,
      "id": "1669a25f",
      "metadata": {
        "language": "python"
      },
      "outputs": [
        {
          "name": "stdout",
          "output_type": "stream",
          "text": [
            "Number of electric vehicle accidents: 18531\n"
          ]
        }
      ],
      "source": [
        "# Only selecting electric vehicles and printing the number of electric vehicle accidents\n",
        "df = df[df['is_e_vehicle'] == True]\n",
        "print(f\"Number of electric vehicle accidents: {len(df)}\")\n"
      ]
    },
    {
      "cell_type": "code",
      "execution_count": 178,
      "id": "41d081c8",
      "metadata": {},
      "outputs": [],
      "source": [
        "# Adding a new column for causality\n",
        "df['CAUSALITY'] = ((df['NUMBER OF PERSONS INJURED'] > 0) | (df['NUMBER OF PERSONS KILLED'] > 0)).astype(int)\n"
      ]
    },
    {
      "cell_type": "code",
      "execution_count": 179,
      "id": "d5679f75",
      "metadata": {},
      "outputs": [
        {
          "name": "stdout",
          "output_type": "stream",
          "text": [
            "\n",
            "Causality class distribution:\n",
            "CAUSALITY\n",
            "1    14634\n",
            "0     3897\n",
            "Name: count, dtype: int64\n",
            "Class 0 (no injury/death): 21.03%\n",
            "Class 1 (injury/death): 78.97%\n"
          ]
        }
      ],
      "source": [
        "# Checking the class distribution to see it there is an imbalance in the classes\n",
        "causality_counts = df['CAUSALITY'].value_counts()\n",
        "print(\"\\nCausality class distribution:\")\n",
        "print(causality_counts)\n",
        "print(f\"Class 0 (no injury/death): {causality_counts[0]/len(df)*100:.2f}%\")\n",
        "print(f\"Class 1 (injury/death): {causality_counts[1]/len(df)*100:.2f}%\")"
      ]
    },
    {
      "cell_type": "code",
      "execution_count": 180,
      "id": "594c25ee",
      "metadata": {
        "language": "python"
      },
      "outputs": [
        {
          "data": {
            "image/png": "[encoded data removed]",
            "text/plain": [
              "<Figure size 1000x600 with 1 Axes>"
            ]
          },
          "metadata": {},
          "output_type": "display_data"
        }
      ],
      "source": [
        "# Plotting a bar graph to see if there is an imbalance in the clsees\n",
        "plt.figure(figsize=(10, 6))\n",
        "causality_counts = df['CAUSALITY'].value_counts().sort_index()\n",
        "plt.bar(['No Causality (0)', 'Causality (1)'], causality_counts.values, color=['skyblue', 'salmon'])\n",
        "plt.title('Class Distribution - CAUSALITY', fontsize=14)\n",
        "plt.xlabel('Class')\n",
        "plt.ylabel('Count')\n",
        "\n",
        "for i, v in enumerate(causality_counts.values):\n",
        "    plt.text(i, v + 50, f\"{v} ({v/len(df)*100:.1f}%)\")\n",
        "\n",
        "plt.tight_layout()\n",
        "plt.show()"
      ]
    },
    {
      "cell_type": "markdown",
      "id": "7e78e200",
      "metadata": {
        "language": "markdown"
      },
      "source": [
        "## 3. Feature engineering and selections"
      ]
    },
    {
      "cell_type": "code",
      "execution_count": 181,
      "id": "86b6979a",
      "metadata": {
        "language": "python"
      },
      "outputs": [],
      "source": [
        "# Converting date and time columns to datetime format column\n",
        "df['CRASH DATE & TIME'] = pd.to_datetime(df['CRASH DATE & TIME'], errors='coerce')"
      ]
    },
    {
      "cell_type": "code",
      "execution_count": 182,
      "id": "4c1a52f1",
      "metadata": {},
      "outputs": [],
      "source": [
        "# Extracting date and time like features from the datetime columns\n",
        "df['Year'] = df['CRASH DATE & TIME'].dt.year\n",
        "df['Month'] = df['CRASH DATE & TIME'].dt.month\n",
        "df['Day'] = df['CRASH DATE & TIME'].dt.day\n",
        "df['Hour'] = df['CRASH DATE & TIME'].dt.hour\n",
        "df['DayOfWeek'] = df['CRASH DATE & TIME'].dt.dayofweek  #0: Monday, 6: Sunday\n"
      ]
    },
    {
      "cell_type": "code",
      "execution_count": 183,
      "id": "fd2de161",
      "metadata": {},
      "outputs": [
        {
          "data": {
            "text/html": [
              "<div>\n",
              "<style scoped>\n",
              "    .dataframe tbody tr th:only-of-type {\n",
              "        vertical-align: middle;\n",
              "    }\n",
              "\n",
              "    .dataframe tbody tr th {\n",
              "        vertical-align: top;\n",
              "    }\n",
              "\n",
              "    .dataframe thead th {\n",
              "        text-align: right;\n",
              "    }\n",
              "</style>\n",
              "<table border=\"1\" class=\"dataframe\">\n",
              "  <thead>\n",
              "    <tr style=\"text-align: right;\">\n",
              "      <th></th>\n",
              "      <th>CRASH DATE &amp; TIME</th>\n",
              "      <th>Year</th>\n",
              "      <th>Month</th>\n",
              "      <th>Day</th>\n",
              "      <th>Hour</th>\n",
              "      <th>DayOfWeek</th>\n",
              "    </tr>\n",
              "  </thead>\n",
              "  <tbody>\n",
              "    <tr>\n",
              "      <th>61</th>\n",
              "      <td>2012-07-01 03:58:00</td>\n",
              "      <td>2012</td>\n",
              "      <td>7</td>\n",
              "      <td>1</td>\n",
              "      <td>3</td>\n",
              "      <td>6</td>\n",
              "    </tr>\n",
              "    <tr>\n",
              "      <th>1433</th>\n",
              "      <td>2012-07-03 18:40:00</td>\n",
              "      <td>2012</td>\n",
              "      <td>7</td>\n",
              "      <td>3</td>\n",
              "      <td>18</td>\n",
              "      <td>1</td>\n",
              "    </tr>\n",
              "    <tr>\n",
              "      <th>1760</th>\n",
              "      <td>2012-07-04 16:00:00</td>\n",
              "      <td>2012</td>\n",
              "      <td>7</td>\n",
              "      <td>4</td>\n",
              "      <td>16</td>\n",
              "      <td>2</td>\n",
              "    </tr>\n",
              "    <tr>\n",
              "      <th>1858</th>\n",
              "      <td>2012-07-04 20:30:00</td>\n",
              "      <td>2012</td>\n",
              "      <td>7</td>\n",
              "      <td>4</td>\n",
              "      <td>20</td>\n",
              "      <td>2</td>\n",
              "    </tr>\n",
              "    <tr>\n",
              "      <th>2203</th>\n",
              "      <td>2012-07-05 13:49:00</td>\n",
              "      <td>2012</td>\n",
              "      <td>7</td>\n",
              "      <td>5</td>\n",
              "      <td>13</td>\n",
              "      <td>3</td>\n",
              "    </tr>\n",
              "  </tbody>\n",
              "</table>\n",
              "</div>"
            ],
            "text/plain": [
              "       CRASH DATE & TIME  Year  Month  Day  Hour  DayOfWeek\n",
              "61   2012-07-01 03:58:00  2012      7    1     3          6\n",
              "1433 2012-07-03 18:40:00  2012      7    3    18          1\n",
              "1760 2012-07-04 16:00:00  2012      7    4    16          2\n",
              "1858 2012-07-04 20:30:00  2012      7    4    20          2\n",
              "2203 2012-07-05 13:49:00  2012      7    5    13          3"
            ]
          },
          "execution_count": 183,
          "metadata": {},
          "output_type": "execute_result"
        }
      ],
      "source": [
        "# displaying the newly created features\n",
        "df[['CRASH DATE & TIME', 'Year', 'Month', 'Day', 'Hour', 'DayOfWeek']].head()"
      ]
    },
    {
      "cell_type": "code",
      "execution_count": 184,
      "id": "a1b4083f",
      "metadata": {
        "language": "python"
      },
      "outputs": [],
      "source": [
        "# Selecting the features that are most relevant to our problem statement\n",
        "features = [ 'Month', 'Day', 'Hour', 'DayOfWeek', 'VEHICLE TYPE CODE 2', 'ZIP CODE', 'CONTRIBUTING FACTOR VEHICLE 1']\n"
      ]
    },
    {
      "cell_type": "code",
      "execution_count": 185,
      "id": "10a2b3f9",
      "metadata": {},
      "outputs": [],
      "source": [
        "# Definining a target variable.\n",
        "ClassificationTargetVar = 'CAUSALITY'"
      ]
    },
    {
      "cell_type": "code",
      "execution_count": 186,
      "id": "da61093b",
      "metadata": {},
      "outputs": [
        {
          "name": "stdout",
          "output_type": "stream",
          "text": [
            "Original dataset shape: (18531, 36)\n",
            "Clean dataset shape: (15226, 36)\n"
          ]
        }
      ],
      "source": [
        "# Dropping the rows that have missing values in the selected feature columns\n",
        "Cleaneddf = df.dropna(subset=features + [ClassificationTargetVar])\n",
        "\n",
        "# Printing the shape to see the number of rows and columns in the dataset present at this moment\n",
        "print(f\"Original dataset shape: {df.shape}\")\n",
        "print(f\"Clean dataset shape: {Cleaneddf.shape}\")"
      ]
    },
    {
      "cell_type": "code",
      "execution_count": 187,
      "id": "3c8eabd9",
      "metadata": {
        "language": "python"
      },
      "outputs": [
        {
          "name": "stderr",
          "output_type": "stream",
          "text": [
            "C:\\Users\\potda\\AppData\\Local\\Temp\\ipykernel_8144\\925992308.py:3: SettingWithCopyWarning:\n",
            "\n",
            "\n",
            "A value is trying to be set on a copy of a slice from a DataFrame.\n",
            "Try using .loc[row_indexer,col_indexer] = value instead\n",
            "\n",
            "See the caveats in the documentation: https://pandas.pydata.org/pandas-docs/stable/user_guide/indexing.html#returning-a-view-versus-a-copy\n",
            "\n",
            "C:\\Users\\potda\\AppData\\Local\\Temp\\ipykernel_8144\\925992308.py:9: SettingWithCopyWarning:\n",
            "\n",
            "\n",
            "A value is trying to be set on a copy of a slice from a DataFrame.\n",
            "Try using .loc[row_indexer,col_indexer] = value instead\n",
            "\n",
            "See the caveats in the documentation: https://pandas.pydata.org/pandas-docs/stable/user_guide/indexing.html#returning-a-view-versus-a-copy\n",
            "\n",
            "C:\\Users\\potda\\AppData\\Local\\Temp\\ipykernel_8144\\925992308.py:12: SettingWithCopyWarning:\n",
            "\n",
            "\n",
            "A value is trying to be set on a copy of a slice from a DataFrame.\n",
            "Try using .loc[row_indexer,col_indexer] = value instead\n",
            "\n",
            "See the caveats in the documentation: https://pandas.pydata.org/pandas-docs/stable/user_guide/indexing.html#returning-a-view-versus-a-copy\n",
            "\n"
          ]
        }
      ],
      "source": [
        "# Creatinng additional features based on time of the crash\n",
        "# we define Rush hour as: 7-9 AM and 4-7 PM\n",
        "Cleaneddf['IsRushHour'] = (\n",
        "    ((Cleaneddf['Hour'] >= 7) & (Cleaneddf['Hour'] <= 9)) | \n",
        "    ((Cleaneddf['Hour'] >= 16) & (Cleaneddf['Hour'] <= 19))\n",
        ").astype(int)\n",
        "\n",
        "# we define Night time as: 10 PM to 5 AM\n",
        "Cleaneddf['IsNightTime'] = ((Cleaneddf['Hour'] >= 22) | (Cleaneddf['Hour'] <= 5)).astype(int)\n",
        "\n",
        "# we define Weekend as: Saturday (5) and Sunday (6)\n",
        "Cleaneddf['IsWeekend'] = (Cleaneddf['DayOfWeek'] >= 5).astype(int)\n"
      ]
    },
    {
      "cell_type": "code",
      "execution_count": 188,
      "id": "3ac6849f",
      "metadata": {},
      "outputs": [
        {
          "data": {
            "text/html": [
              "<div>\n",
              "<style scoped>\n",
              "    .dataframe tbody tr th:only-of-type {\n",
              "        vertical-align: middle;\n",
              "    }\n",
              "\n",
              "    .dataframe tbody tr th {\n",
              "        vertical-align: top;\n",
              "    }\n",
              "\n",
              "    .dataframe thead th {\n",
              "        text-align: right;\n",
              "    }\n",
              "</style>\n",
              "<table border=\"1\" class=\"dataframe\">\n",
              "  <thead>\n",
              "    <tr style=\"text-align: right;\">\n",
              "      <th></th>\n",
              "      <th>IsRushHour</th>\n",
              "      <th>IsWeekend</th>\n",
              "      <th>IsNightTime</th>\n",
              "    </tr>\n",
              "  </thead>\n",
              "  <tbody>\n",
              "    <tr>\n",
              "      <th>count</th>\n",
              "      <td>15226.000000</td>\n",
              "      <td>15226.000000</td>\n",
              "      <td>15226.000000</td>\n",
              "    </tr>\n",
              "    <tr>\n",
              "      <th>mean</th>\n",
              "      <td>0.395836</td>\n",
              "      <td>0.247603</td>\n",
              "      <td>0.165112</td>\n",
              "    </tr>\n",
              "    <tr>\n",
              "      <th>std</th>\n",
              "      <td>0.489046</td>\n",
              "      <td>0.431634</td>\n",
              "      <td>0.371294</td>\n",
              "    </tr>\n",
              "    <tr>\n",
              "      <th>min</th>\n",
              "      <td>0.000000</td>\n",
              "      <td>0.000000</td>\n",
              "      <td>0.000000</td>\n",
              "    </tr>\n",
              "    <tr>\n",
              "      <th>25%</th>\n",
              "      <td>0.000000</td>\n",
              "      <td>0.000000</td>\n",
              "      <td>0.000000</td>\n",
              "    </tr>\n",
              "    <tr>\n",
              "      <th>50%</th>\n",
              "      <td>0.000000</td>\n",
              "      <td>0.000000</td>\n",
              "      <td>0.000000</td>\n",
              "    </tr>\n",
              "    <tr>\n",
              "      <th>75%</th>\n",
              "      <td>1.000000</td>\n",
              "      <td>0.000000</td>\n",
              "      <td>0.000000</td>\n",
              "    </tr>\n",
              "    <tr>\n",
              "      <th>max</th>\n",
              "      <td>1.000000</td>\n",
              "      <td>1.000000</td>\n",
              "      <td>1.000000</td>\n",
              "    </tr>\n",
              "  </tbody>\n",
              "</table>\n",
              "</div>"
            ],
            "text/plain": [
              "         IsRushHour     IsWeekend   IsNightTime\n",
              "count  15226.000000  15226.000000  15226.000000\n",
              "mean       0.395836      0.247603      0.165112\n",
              "std        0.489046      0.431634      0.371294\n",
              "min        0.000000      0.000000      0.000000\n",
              "25%        0.000000      0.000000      0.000000\n",
              "50%        0.000000      0.000000      0.000000\n",
              "75%        1.000000      0.000000      0.000000\n",
              "max        1.000000      1.000000      1.000000"
            ]
          },
          "execution_count": 188,
          "metadata": {},
          "output_type": "execute_result"
        }
      ],
      "source": [
        "# Adding the new features to our list of features\n",
        "features.extend(['IsRushHour', 'IsWeekend', 'IsNightTime'])\n",
        "\n",
        "# Displaying the stats of the newly created feature columns\n",
        "Cleaneddf[['IsRushHour', 'IsWeekend', 'IsNightTime']].describe()"
      ]
    },
    {
      "cell_type": "markdown",
      "id": "94ca2b9e",
      "metadata": {
        "language": "markdown"
      },
      "source": [
        "## 4. Data Preprocessing and Splitting the data"
      ]
    },
    {
      "cell_type": "code",
      "execution_count": 189,
      "id": "5a2dfe5a",
      "metadata": {
        "language": "python"
      },
      "outputs": [],
      "source": [
        "# Defining the categorical and numeric columns\n",
        "categorical_cols = ['VEHICLE TYPE CODE 2', 'CONTRIBUTING FACTOR VEHICLE 1']\n",
        "numeric_cols = [col for col in features if col not in categorical_cols]\n"
      ]
    },
    {
      "cell_type": "code",
      "execution_count": 190,
      "id": "d368c2a1",
      "metadata": {},
      "outputs": [
        {
          "name": "stdout",
          "output_type": "stream",
          "text": [
            "Numerical columns: ['Month', 'Day', 'Hour', 'DayOfWeek', 'ZIP CODE', 'IsRushHour', 'IsWeekend', 'IsNightTime']\n",
            "Categorical columns: ['VEHICLE TYPE CODE 2', 'CONTRIBUTING FACTOR VEHICLE 1']\n"
          ]
        }
      ],
      "source": [
        "# Printing the same\n",
        "print(\"Numerical columns:\", numeric_cols)\n",
        "print(\"Categorical columns:\", categorical_cols)"
      ]
    },
    {
      "cell_type": "code",
      "execution_count": 191,
      "id": "2c2e6122",
      "metadata": {
        "language": "python"
      },
      "outputs": [],
      "source": [
        "# Preparting features and target for our model\n",
        "X = Cleaneddf[features]\n",
        "y_causality = Cleaneddf[ClassificationTargetVar]\n"
      ]
    },
    {
      "cell_type": "code",
      "execution_count": 192,
      "id": "2fa32152",
      "metadata": {},
      "outputs": [],
      "source": [
        "# Splitting the data into training and testing\n",
        "X_train, X_test, y_train_causality, y_test_causality = train_test_split(\n",
        "    X, y_causality, test_size=0.2, random_state=42, stratify=y_causality\n",
        ")\n"
      ]
    },
    {
      "cell_type": "code",
      "execution_count": 193,
      "id": "4602ca24",
      "metadata": {},
      "outputs": [
        {
          "name": "stdout",
          "output_type": "stream",
          "text": [
            "Training set shape: (12180, 10), Class distribution: CAUSALITY\n",
            "1    9272\n",
            "0    2908\n",
            "Name: count, dtype: int64\n",
            "Testing set shape: (3046, 10), Class distribution: CAUSALITY\n",
            "1    2319\n",
            "0     727\n",
            "Name: count, dtype: int64\n"
          ]
        }
      ],
      "source": [
        "print(f\"Training set shape: {X_train.shape}, Class distribution: {pd.Series(y_train_causality).value_counts()}\")\n",
        "print(f\"Testing set shape: {X_test.shape}, Class distribution: {pd.Series(y_test_causality).value_counts()}\")"
      ]
    },
    {
      "cell_type": "markdown",
      "id": "bf94560a",
      "metadata": {
        "language": "markdown"
      },
      "source": [
        "## 5. Handling class imbalance with ADASYN (Oversampling the data)"
      ]
    },
    {
      "cell_type": "code",
      "execution_count": 194,
      "id": "7b0ca196",
      "metadata": {
        "language": "python"
      },
      "outputs": [],
      "source": [
        "# defining a function to apply ADASYN\n",
        "def apply_ADASYN(X_train, y_train):\n",
        "    X_train_processed = X_train.copy()\n",
        "    for col in categorical_cols:\n",
        "        if col in X_train_processed.columns:\n",
        "            X_train_processed[col] = pd.Categorical(X_train_processed[col]).codes\n",
        "\n",
        "    data_balanced = ADASYN(random_state=42)\n",
        "    X_resampled, y_resampled = data_balanced.fit_resample(X_train_processed, y_train)\n",
        "    \n",
        "    return X_resampled, y_resampled\n"
      ]
    },
    {
      "cell_type": "code",
      "execution_count": 195,
      "id": "35010ae8",
      "metadata": {},
      "outputs": [
        {
          "name": "stdout",
          "output_type": "stream",
          "text": [
            "Applying ADASYN to balance class distribution\n"
          ]
        }
      ],
      "source": [
        "# Applying ADASYN to balance the dataset\n",
        "print(\"Applying ADASYN to balance class distribution\")\n",
        "X_train_balanced, y_train_balanced = apply_ADASYN(X_train, y_train_causality)\n"
      ]
    },
    {
      "cell_type": "code",
      "execution_count": 196,
      "id": "0dc039e8",
      "metadata": {},
      "outputs": [
        {
          "name": "stdout",
          "output_type": "stream",
          "text": [
            "\n",
            "Original class distribution:\n",
            "CAUSALITY\n",
            "1    9272\n",
            "0    2908\n",
            "Name: count, dtype: int64\n"
          ]
        }
      ],
      "source": [
        "# Checking class distribution before ADASYN\n",
        "print(\"\\nOriginal class distribution:\")\n",
        "print(pd.Series(y_train_causality).value_counts())\n"
      ]
    },
    {
      "cell_type": "code",
      "execution_count": 197,
      "id": "3acf65cd",
      "metadata": {},
      "outputs": [
        {
          "name": "stdout",
          "output_type": "stream",
          "text": [
            "\n",
            "Balanced class distribution:\n",
            "CAUSALITY\n",
            "1    9272\n",
            "0    9188\n",
            "Name: count, dtype: int64\n"
          ]
        }
      ],
      "source": [
        "# After ADASYN\n",
        "print(\"\\nBalanced class distribution:\")\n",
        "print(pd.Series(y_train_balanced).value_counts())"
      ]
    },
    {
      "cell_type": "code",
      "execution_count": 198,
      "id": "99c8a480",
      "metadata": {
        "language": "python"
      },
      "outputs": [],
      "source": [
        "# Doint the same for test data\n",
        "X_test_processed = X_test.copy()\n",
        "for col in categorical_cols:\n",
        "    if col in X_test_processed.columns:\n",
        "        X_test_processed[col] = pd.Categorical(X_test_processed[col]).codes"
      ]
    },
    {
      "cell_type": "markdown",
      "id": "38e54f98",
      "metadata": {
        "language": "markdown"
      },
      "source": [
        "## 6. Creating Pipeline and Initializing the models"
      ]
    },
    {
      "cell_type": "code",
      "execution_count": 199,
      "id": "cbae60b8",
      "metadata": {
        "language": "python"
      },
      "outputs": [],
      "source": [
        "# Defining a preprocessor\n",
        "preprocessor = ColumnTransformer(\n",
        "    transformers=[\n",
        "        ('num', 'passthrough', numeric_cols),\n",
        "        ('cat', OneHotEncoder(handle_unknown='ignore'), categorical_cols)\n",
        "    ])\n"
      ]
    },
    {
      "cell_type": "code",
      "execution_count": 200,
      "id": "decf9033",
      "metadata": {},
      "outputs": [],
      "source": [
        "# Starting all the models for classification\n",
        "classifier_models = {\n",
        "    'KNN': Pipeline([\n",
        "        ('preprocessor', preprocessor),\n",
        "        ('model', KNeighborsClassifier())\n",
        "    ]),\n",
        "    'RF': Pipeline([\n",
        "        ('preprocessor', preprocessor),\n",
        "        ('model', RandomForestClassifier(random_state=42))\n",
        "    ]),\n",
        "    'GB': Pipeline([\n",
        "        ('preprocessor', preprocessor),\n",
        "        ('model', GradientBoostingClassifier(random_state=42))\n",
        "    ]),\n",
        "    'DT': Pipeline([\n",
        "        ('preprocessor', preprocessor),\n",
        "        ('model', DecisionTreeClassifier(random_state=42))\n",
        "    ]),\n",
        "    'ET': Pipeline([\n",
        "        ('preprocessor', preprocessor),\n",
        "        ('model', ExtraTreesClassifier(random_state=42))\n",
        "    ]),\n",
        "    'LR': Pipeline([\n",
        "        ('preprocessor', preprocessor),\n",
        "        ('model', LogisticRegression(random_state=42))\n",
        "    ]),\n",
        "    'NB': Pipeline([\n",
        "        ('preprocessor', preprocessor),\n",
        "        ('to_dense', FunctionTransformer(lambda x: x.toarray() if hasattr(x, 'toarray') else x)),\n",
        "        ('model', GaussianNB())\n",
        "    ]),\n",
        "    'ADA': Pipeline([\n",
        "        ('preprocessor', preprocessor),\n",
        "        ('model', AdaBoostClassifier(random_state=42))\n",
        "    ])\n",
        "}"
      ]
    },
    {
      "cell_type": "markdown",
      "id": "0ba295c5",
      "metadata": {
        "language": "markdown"
      },
      "source": [
        "## 7. Optimizing the Hyperparameter with Optuna for better results"
      ]
    },
    {
      "cell_type": "code",
      "execution_count": 201,
      "id": "0b6dc134",
      "metadata": {
        "language": "python"
      },
      "outputs": [],
      "source": [
        "# Defining a function to optimize the hyperparameters for each model\n",
        "# KNN\n",
        "def objective_knn(trial):\n",
        "    n_neighbors = trial.suggest_int('n_neighbors', 1, 20)\n",
        "    weights = trial.suggest_categorical('weights', ['uniform', 'distance'])\n",
        "    \n",
        "    model = Pipeline([\n",
        "        ('preprocessor', preprocessor),\n",
        "        ('model', KNeighborsClassifier(n_neighbors=n_neighbors, weights=weights))\n",
        "    ])\n",
        "    \n",
        "    return -np.mean(cross_val_score(model, X_train, y_train_causality, cv=5, scoring='f1_weighted'))\n"
      ]
    },
    {
      "cell_type": "code",
      "execution_count": 202,
      "id": "737c09a3",
      "metadata": {},
      "outputs": [],
      "source": [
        "# Random Forest\n",
        "def objective_rf(trial):\n",
        "    n_estimators = trial.suggest_int('n_estimators', 50, 300)\n",
        "    max_depth = trial.suggest_int('max_depth', 3, 20)\n",
        "    min_samples_split = trial.suggest_int('min_samples_split', 2, 20)\n",
        "    \n",
        "    model = Pipeline([\n",
        "        ('preprocessor', preprocessor),\n",
        "        ('model', RandomForestClassifier(\n",
        "            n_estimators=n_estimators,\n",
        "            max_depth=max_depth,\n",
        "            min_samples_split=min_samples_split,\n",
        "            random_state=42\n",
        "        ))\n",
        "    ])\n",
        "    \n",
        "    return -np.mean(cross_val_score(model, X_train, y_train_causality, cv=5, scoring='f1_weighted'))"
      ]
    },
    {
      "cell_type": "code",
      "execution_count": 203,
      "id": "f6370b10",
      "metadata": {},
      "outputs": [],
      "source": [
        "# Gradient Boosting\n",
        "def objective_gb(trial):\n",
        "    n_estimators = trial.suggest_int('n_estimators', 50, 300)\n",
        "    max_depth = trial.suggest_int('max_depth', 3, 10)\n",
        "    learning_rate = trial.suggest_float('learning_rate', 0.01, 0.3, log=True)\n",
        "    \n",
        "    model = Pipeline([\n",
        "        ('preprocessor', preprocessor),\n",
        "        ('model', GradientBoostingClassifier(\n",
        "            n_estimators=n_estimators,\n",
        "            max_depth=max_depth,\n",
        "            learning_rate=learning_rate,\n",
        "            random_state=42\n",
        "        ))\n",
        "    ])\n",
        "    \n",
        "    return -np.mean(cross_val_score(model, X_train, y_train_causality, cv=5, scoring='f1_weighted'))"
      ]
    },
    {
      "cell_type": "code",
      "execution_count": 204,
      "id": "8bbe30db",
      "metadata": {},
      "outputs": [],
      "source": [
        "# Decision Tree\n",
        "def objective_dt(trial):\n",
        "    max_depth = trial.suggest_int('max_depth', 3, 20)\n",
        "    min_samples_split = trial.suggest_int('min_samples_split', 2, 20)\n",
        "    min_samples_leaf = trial.suggest_int('min_samples_leaf', 1, 20)\n",
        "    \n",
        "    model = Pipeline([\n",
        "        ('preprocessor', preprocessor),\n",
        "        ('model', DecisionTreeClassifier(\n",
        "            max_depth=max_depth,\n",
        "            min_samples_split=min_samples_split,\n",
        "            min_samples_leaf=min_samples_leaf,\n",
        "            random_state=42\n",
        "        ))\n",
        "    ])\n",
        "    \n",
        "    return -np.mean(cross_val_score(model, X_train, y_train_causality, cv=5, scoring='f1_weighted'))"
      ]
    },
    {
      "cell_type": "code",
      "execution_count": 205,
      "id": "b4da2ab3",
      "metadata": {},
      "outputs": [],
      "source": [
        "# Extra Trees\n",
        "def objective_et(trial):\n",
        "    n_estimators = trial.suggest_int('n_estimators', 50, 300)\n",
        "    max_depth = trial.suggest_int('max_depth', 3, 20)\n",
        "    min_samples_split = trial.suggest_int('min_samples_split', 2, 20)\n",
        "    \n",
        "    model = Pipeline([\n",
        "        ('preprocessor', preprocessor),\n",
        "        ('model', ExtraTreesClassifier(\n",
        "            n_estimators=n_estimators,\n",
        "            max_depth=max_depth,\n",
        "            min_samples_split=min_samples_split,\n",
        "            random_state=42\n",
        "        ))\n",
        "    ])\n",
        "    \n",
        "    return -np.mean(cross_val_score(model, X_train, y_train_causality, cv=5, scoring='f1_weighted'))"
      ]
    },
    {
      "cell_type": "code",
      "execution_count": 206,
      "id": "f5f6198b",
      "metadata": {},
      "outputs": [],
      "source": [
        "# Logistic Regression\n",
        "def objective_logreg(trial):\n",
        "    C = trial.suggest_float('C', 0.01, 10.0, log=True)\n",
        "    solver = trial.suggest_categorical('solver', ['liblinear', 'saga'])\n",
        "    max_iter = trial.suggest_int('max_iter', 100, 500)\n",
        "    \n",
        "    model = Pipeline([\n",
        "        ('preprocessor', preprocessor),\n",
        "        ('model', LogisticRegression(\n",
        "            C=C, solver=solver, max_iter=max_iter, random_state=42\n",
        "        ))\n",
        "    ])\n",
        "    \n",
        "    return -np.mean(cross_val_score(model, X_train, y_train_causality, cv=5, scoring='f1_weighted'))"
      ]
    },
    {
      "cell_type": "code",
      "execution_count": 207,
      "id": "77285548",
      "metadata": {},
      "outputs": [],
      "source": [
        "# Naive Bayes\n",
        "def objective_nb(trial):\n",
        "    var_smoothing = trial.suggest_float('var_smoothing', 1e-10, 1e-8, log=True)\n",
        "    \n",
        "    model = Pipeline([\n",
        "        ('preprocessor', preprocessor),\n",
        "        ('to_dense', FunctionTransformer(lambda x: x.toarray() if hasattr(x, 'toarray') else x)),\n",
        "        ('model', GaussianNB(var_smoothing=var_smoothing))\n",
        "    ])\n",
        "    \n",
        "    return -np.mean(cross_val_score(model, X_train, y_train_causality, cv=5, scoring='f1_weighted'))"
      ]
    },
    {
      "cell_type": "code",
      "execution_count": 208,
      "id": "56712c4f",
      "metadata": {
        "language": "python"
      },
      "outputs": [],
      "source": [
        "# AdaBoost\n",
        "def objective_adaboost(trial):\n",
        "    n_estimators = trial.suggest_int('n_estimators', 50, 200)\n",
        "    learning_rate = trial.suggest_float('learning_rate', 0.01, 1.0, log=True)\n",
        "    algorithm = 'SAMME'\n",
        "    \n",
        "    base_estimator = DecisionTreeClassifier(max_depth=1)\n",
        "    model = Pipeline([\n",
        "        ('preprocessor', preprocessor),\n",
        "        ('model', AdaBoostClassifier(\n",
        "            estimator=base_estimator,\n",
        "            n_estimators=n_estimators,\n",
        "            learning_rate=learning_rate,\n",
        "            algorithm=algorithm,\n",
        "            random_state=42\n",
        "        ))\n",
        "    ])\n",
        "    \n",
        "    return -np.mean(cross_val_score(model, X_train, y_train_causality, cv=5, scoring='f1_weighted'))"
      ]
    },
    {
      "cell_type": "code",
      "execution_count": 209,
      "id": "66ee348d",
      "metadata": {
        "language": "python"
      },
      "outputs": [
        {
          "name": "stdout",
          "output_type": "stream",
          "text": [
            "\n",
            " Optimizing KNN hyperparameters \n",
            "\n"
          ]
        },
        {
          "name": "stderr",
          "output_type": "stream",
          "text": [
            "[I 2025-05-01 22:02:35,844] A new study created in memory with name: no-name-65881139-9ba7-4ac3-b100-fc7459230df4\n",
            "[I 2025-05-01 22:02:39,099] Trial 0 finished with value: -0.661975017074823 and parameters: {'n_neighbors': 10, 'weights': 'distance'}. Best is trial 0 with value: -0.661975017074823.\n",
            "[I 2025-05-01 22:02:42,278] Trial 1 finished with value: -0.6303066054226143 and parameters: {'n_neighbors': 1, 'weights': 'distance'}. Best is trial 0 with value: -0.661975017074823.\n",
            "[I 2025-05-01 22:02:45,441] Trial 2 finished with value: -0.6557510256144095 and parameters: {'n_neighbors': 3, 'weights': 'distance'}. Best is trial 0 with value: -0.661975017074823.\n",
            "[I 2025-05-01 22:02:48,642] Trial 3 finished with value: -0.6585889792416271 and parameters: {'n_neighbors': 18, 'weights': 'uniform'}. Best is trial 0 with value: -0.661975017074823.\n",
            "[I 2025-05-01 22:02:51,893] Trial 4 finished with value: -0.6622132737263768 and parameters: {'n_neighbors': 6, 'weights': 'distance'}. Best is trial 4 with value: -0.6622132737263768.\n",
            "[I 2025-05-01 22:02:55,029] Trial 5 finished with value: -0.6592797519998655 and parameters: {'n_neighbors': 20, 'weights': 'uniform'}. Best is trial 4 with value: -0.6622132737263768.\n",
            "[I 2025-05-01 22:02:58,174] Trial 6 finished with value: -0.6616648225384101 and parameters: {'n_neighbors': 13, 'weights': 'distance'}. Best is trial 4 with value: -0.6622132737263768.\n",
            "[I 2025-05-01 22:03:01,291] Trial 7 finished with value: -0.6590067706700684 and parameters: {'n_neighbors': 17, 'weights': 'distance'}. Best is trial 4 with value: -0.6622132737263768.\n",
            "[I 2025-05-01 22:03:04,408] Trial 8 finished with value: -0.6578503672723655 and parameters: {'n_neighbors': 17, 'weights': 'uniform'}. Best is trial 4 with value: -0.6622132737263768.\n",
            "[I 2025-05-01 22:03:07,488] Trial 9 finished with value: -0.6604988618120602 and parameters: {'n_neighbors': 11, 'weights': 'distance'}. Best is trial 4 with value: -0.6622132737263768.\n",
            "[I 2025-05-01 22:03:07,490] A new study created in memory with name: no-name-c767057c-5eb7-4e23-9614-dde30cdad9b4\n"
          ]
        },
        {
          "name": "stdout",
          "output_type": "stream",
          "text": [
            "\n",
            " Optimizing Random Forest hyperparameters \n",
            "\n"
          ]
        },
        {
          "name": "stderr",
          "output_type": "stream",
          "text": [
            "[I 2025-05-01 22:03:08,273] Trial 0 finished with value: -0.6580543658025799 and parameters: {'n_estimators': 54, 'max_depth': 3, 'min_samples_split': 19}. Best is trial 0 with value: -0.6580543658025799.\n",
            "[I 2025-05-01 22:03:12,029] Trial 1 finished with value: -0.6580140610385633 and parameters: {'n_estimators': 190, 'max_depth': 6, 'min_samples_split': 7}. Best is trial 0 with value: -0.6580543658025799.\n",
            "[I 2025-05-01 22:03:14,962] Trial 2 finished with value: -0.6580543658025799 and parameters: {'n_estimators': 164, 'max_depth': 5, 'min_samples_split': 6}. Best is trial 0 with value: -0.6580543658025799.\n",
            "[I 2025-05-01 22:03:21,710] Trial 3 finished with value: -0.6580543658025799 and parameters: {'n_estimators': 300, 'max_depth': 7, 'min_samples_split': 2}. Best is trial 0 with value: -0.6580543658025799.\n",
            "[I 2025-05-01 22:03:35,610] Trial 4 finished with value: -0.6582086582988835 and parameters: {'n_estimators': 295, 'max_depth': 13, 'min_samples_split': 19}. Best is trial 4 with value: -0.6582086582988835.\n",
            "[I 2025-05-01 22:03:41,626] Trial 5 finished with value: -0.6580140610385633 and parameters: {'n_estimators': 167, 'max_depth': 10, 'min_samples_split': 2}. Best is trial 4 with value: -0.6582086582988835.\n",
            "[I 2025-05-01 22:03:43,320] Trial 6 finished with value: -0.6582086582988835 and parameters: {'n_estimators': 59, 'max_depth': 8, 'min_samples_split': 8}. Best is trial 4 with value: -0.6582086582988835.\n",
            "[I 2025-05-01 22:03:47,209] Trial 7 finished with value: -0.6580543658025799 and parameters: {'n_estimators': 227, 'max_depth': 5, 'min_samples_split': 2}. Best is trial 4 with value: -0.6582086582988835.\n",
            "[I 2025-05-01 22:04:00,476] Trial 8 finished with value: -0.6581683505913654 and parameters: {'n_estimators': 159, 'max_depth': 18, 'min_samples_split': 8}. Best is trial 4 with value: -0.6582086582988835.\n",
            "[I 2025-05-01 22:04:10,796] Trial 9 finished with value: -0.6582086582988835 and parameters: {'n_estimators': 210, 'max_depth': 13, 'min_samples_split': 10}. Best is trial 4 with value: -0.6582086582988835.\n",
            "[I 2025-05-01 22:04:10,797] A new study created in memory with name: no-name-8fbafe7e-e945-4430-b0a1-ce262820090d\n"
          ]
        },
        {
          "name": "stdout",
          "output_type": "stream",
          "text": [
            "\n",
            " Optimizing Gradient Boosting hyperparameters \n",
            "\n"
          ]
        },
        {
          "name": "stderr",
          "output_type": "stream",
          "text": [
            "[I 2025-05-01 22:04:20,889] Trial 0 finished with value: -0.6628359337300431 and parameters: {'n_estimators': 135, 'max_depth': 5, 'learning_rate': 0.11478571259016597}. Best is trial 0 with value: -0.6628359337300431.\n",
            "[I 2025-05-01 22:04:34,082] Trial 1 finished with value: -0.6718171301287572 and parameters: {'n_estimators': 168, 'max_depth': 5, 'learning_rate': 0.23447722654731154}. Best is trial 1 with value: -0.6718171301287572.\n",
            "[I 2025-05-01 22:04:49,552] Trial 2 finished with value: -0.6696321824052563 and parameters: {'n_estimators': 116, 'max_depth': 7, 'learning_rate': 0.18864162791106542}. Best is trial 1 with value: -0.6718171301287572.\n",
            "[I 2025-05-01 22:05:05,665] Trial 3 finished with value: -0.6685795382591774 and parameters: {'n_estimators': 153, 'max_depth': 6, 'learning_rate': 0.25760239289095194}. Best is trial 1 with value: -0.6718171301287572.\n",
            "[I 2025-05-01 22:06:19,620] Trial 4 finished with value: -0.6667979463654135 and parameters: {'n_estimators': 259, 'max_depth': 10, 'learning_rate': 0.19343360895026895}. Best is trial 1 with value: -0.6718171301287572.\n",
            "[I 2025-05-01 22:06:39,130] Trial 5 finished with value: -0.6589298033595681 and parameters: {'n_estimators': 61, 'max_depth': 10, 'learning_rate': 0.010237600072555631}. Best is trial 1 with value: -0.6718171301287572.\n",
            "[I 2025-05-01 22:06:53,978] Trial 6 finished with value: -0.6626240696242565 and parameters: {'n_estimators': 118, 'max_depth': 7, 'learning_rate': 0.033431259097968666}. Best is trial 1 with value: -0.6718171301287572.\n",
            "[I 2025-05-01 22:08:05,126] Trial 7 finished with value: -0.666445330171311 and parameters: {'n_estimators': 250, 'max_depth': 10, 'learning_rate': 0.14235781415472323}. Best is trial 1 with value: -0.6718171301287572.\n",
            "[I 2025-05-01 22:08:17,972] Trial 8 finished with value: -0.6616850918175575 and parameters: {'n_estimators': 224, 'max_depth': 4, 'learning_rate': 0.08179447834579237}. Best is trial 1 with value: -0.6718171301287572.\n",
            "[I 2025-05-01 22:08:23,817] Trial 9 finished with value: -0.6580874195462035 and parameters: {'n_estimators': 62, 'max_depth': 5, 'learning_rate': 0.010281725713917604}. Best is trial 1 with value: -0.6718171301287572.\n",
            "[I 2025-05-01 22:08:23,818] A new study created in memory with name: no-name-50e0a2c3-2e53-447f-aba8-b00ae0cd1acb\n"
          ]
        },
        {
          "name": "stdout",
          "output_type": "stream",
          "text": [
            "\n",
            " Optimizing Decision Tree hyperparameters \n",
            "\n"
          ]
        },
        {
          "name": "stderr",
          "output_type": "stream",
          "text": [
            "[I 2025-05-01 22:08:24,414] Trial 0 finished with value: -0.6651573372421618 and parameters: {'max_depth': 17, 'min_samples_split': 17, 'min_samples_leaf': 19}. Best is trial 0 with value: -0.6651573372421618.\n",
            "[I 2025-05-01 22:08:24,637] Trial 1 finished with value: -0.660229096976056 and parameters: {'max_depth': 6, 'min_samples_split': 3, 'min_samples_leaf': 17}. Best is trial 0 with value: -0.6651573372421618.\n",
            "[I 2025-05-01 22:08:24,861] Trial 2 finished with value: -0.6622254854845192 and parameters: {'max_depth': 6, 'min_samples_split': 17, 'min_samples_leaf': 4}. Best is trial 0 with value: -0.6651573372421618.\n",
            "[I 2025-05-01 22:08:25,121] Trial 3 finished with value: -0.6626987184150621 and parameters: {'max_depth': 7, 'min_samples_split': 8, 'min_samples_leaf': 17}. Best is trial 0 with value: -0.6651573372421618.\n",
            "[I 2025-05-01 22:08:25,642] Trial 4 finished with value: -0.6611601628201433 and parameters: {'max_depth': 12, 'min_samples_split': 12, 'min_samples_leaf': 12}. Best is trial 0 with value: -0.6651573372421618.\n",
            "[I 2025-05-01 22:08:25,795] Trial 5 finished with value: -0.658058986959599 and parameters: {'max_depth': 3, 'min_samples_split': 5, 'min_samples_leaf': 14}. Best is trial 0 with value: -0.6651573372421618.\n",
            "[I 2025-05-01 22:08:25,991] Trial 6 finished with value: -0.6585825101261592 and parameters: {'max_depth': 5, 'min_samples_split': 18, 'min_samples_leaf': 20}. Best is trial 0 with value: -0.6651573372421618.\n",
            "[I 2025-05-01 22:08:26,505] Trial 7 finished with value: -0.6650129134890148 and parameters: {'max_depth': 12, 'min_samples_split': 6, 'min_samples_leaf': 15}. Best is trial 0 with value: -0.6651573372421618.\n",
            "[I 2025-05-01 22:08:26,807] Trial 8 finished with value: -0.6620820706162756 and parameters: {'max_depth': 8, 'min_samples_split': 3, 'min_samples_leaf': 18}. Best is trial 0 with value: -0.6651573372421618.\n",
            "[I 2025-05-01 22:08:26,955] Trial 9 finished with value: -0.6578830298569931 and parameters: {'max_depth': 3, 'min_samples_split': 6, 'min_samples_leaf': 17}. Best is trial 0 with value: -0.6651573372421618.\n",
            "[I 2025-05-01 22:08:26,956] A new study created in memory with name: no-name-498d3f7f-1fe9-4a22-8fd4-1589a81e8622\n"
          ]
        },
        {
          "name": "stdout",
          "output_type": "stream",
          "text": [
            "\n",
            " Optimizing Extra Trees hyperparameters \n",
            "\n"
          ]
        },
        {
          "name": "stderr",
          "output_type": "stream",
          "text": [
            "[I 2025-05-01 22:08:30,574] Trial 0 finished with value: -0.6590982977328725 and parameters: {'n_estimators': 173, 'max_depth': 10, 'min_samples_split': 6}. Best is trial 0 with value: -0.6590982977328725.\n",
            "[I 2025-05-01 22:08:38,071] Trial 1 finished with value: -0.6592915405761708 and parameters: {'n_estimators': 261, 'max_depth': 13, 'min_samples_split': 10}. Best is trial 1 with value: -0.6592915405761708.\n",
            "[I 2025-05-01 22:08:46,654] Trial 2 finished with value: -0.659791362854552 and parameters: {'n_estimators': 157, 'max_depth': 18, 'min_samples_split': 5}. Best is trial 2 with value: -0.659791362854552.\n",
            "[I 2025-05-01 22:08:52,594] Trial 3 finished with value: -0.6596363042177182 and parameters: {'n_estimators': 143, 'max_depth': 17, 'min_samples_split': 20}. Best is trial 2 with value: -0.659791362854552.\n",
            "[I 2025-05-01 22:08:57,146] Trial 4 finished with value: -0.6591391664432915 and parameters: {'n_estimators': 217, 'max_depth': 10, 'min_samples_split': 10}. Best is trial 2 with value: -0.659791362854552.\n",
            "[I 2025-05-01 22:09:00,504] Trial 5 finished with value: -0.6590982977328725 and parameters: {'n_estimators': 157, 'max_depth': 10, 'min_samples_split': 11}. Best is trial 2 with value: -0.659791362854552.\n",
            "[I 2025-05-01 22:09:03,980] Trial 6 finished with value: -0.6582086582988835 and parameters: {'n_estimators': 240, 'max_depth': 7, 'min_samples_split': 13}. Best is trial 2 with value: -0.659791362854552.\n",
            "[I 2025-05-01 22:09:05,833] Trial 7 finished with value: -0.6584027084901394 and parameters: {'n_estimators': 142, 'max_depth': 6, 'min_samples_split': 19}. Best is trial 2 with value: -0.659791362854552.\n",
            "[I 2025-05-01 22:09:14,405] Trial 8 finished with value: -0.6592095037436805 and parameters: {'n_estimators': 294, 'max_depth': 13, 'min_samples_split': 9}. Best is trial 2 with value: -0.659791362854552.\n",
            "[I 2025-05-01 22:09:23,437] Trial 9 finished with value: -0.6594620326671369 and parameters: {'n_estimators': 164, 'max_depth': 20, 'min_samples_split': 17}. Best is trial 2 with value: -0.659791362854552.\n",
            "[I 2025-05-01 22:09:23,438] A new study created in memory with name: no-name-08cc02d9-2d08-454b-853a-fb4a5b2c6ab9\n"
          ]
        },
        {
          "name": "stdout",
          "output_type": "stream",
          "text": [
            "\n",
            " Optimizing Logistic Regression hyperparameters \n",
            "\n"
          ]
        },
        {
          "name": "stderr",
          "output_type": "stream",
          "text": [
            "c:\\Users\\potda\\AppData\\Local\\Programs\\Python\\Python312\\Lib\\site-packages\\sklearn\\linear_model\\_sag.py:348: ConvergenceWarning:\n",
            "\n",
            "The max_iter was reached which means the coef_ did not converge\n",
            "\n",
            "c:\\Users\\potda\\AppData\\Local\\Programs\\Python\\Python312\\Lib\\site-packages\\sklearn\\linear_model\\_sag.py:348: ConvergenceWarning:\n",
            "\n",
            "The max_iter was reached which means the coef_ did not converge\n",
            "\n",
            "c:\\Users\\potda\\AppData\\Local\\Programs\\Python\\Python312\\Lib\\site-packages\\sklearn\\linear_model\\_sag.py:348: ConvergenceWarning:\n",
            "\n",
            "The max_iter was reached which means the coef_ did not converge\n",
            "\n",
            "c:\\Users\\potda\\AppData\\Local\\Programs\\Python\\Python312\\Lib\\site-packages\\sklearn\\linear_model\\_sag.py:348: ConvergenceWarning:\n",
            "\n",
            "The max_iter was reached which means the coef_ did not converge\n",
            "\n",
            "c:\\Users\\potda\\AppData\\Local\\Programs\\Python\\Python312\\Lib\\site-packages\\sklearn\\linear_model\\_sag.py:348: ConvergenceWarning:\n",
            "\n",
            "The max_iter was reached which means the coef_ did not converge\n",
            "\n",
            "[I 2025-05-01 22:09:25,878] Trial 0 finished with value: -0.6580543658025799 and parameters: {'C': 0.12254117289879263, 'solver': 'saga', 'max_iter': 352}. Best is trial 0 with value: -0.6580543658025799.\n",
            "[I 2025-05-01 22:09:26,034] Trial 1 finished with value: -0.6580543658025799 and parameters: {'C': 0.5189574891083146, 'solver': 'liblinear', 'max_iter': 129}. Best is trial 0 with value: -0.6580543658025799.\n",
            "[I 2025-05-01 22:09:26,187] Trial 2 finished with value: -0.6580543658025799 and parameters: {'C': 0.0713121419083399, 'solver': 'liblinear', 'max_iter': 483}. Best is trial 0 with value: -0.6580543658025799.\n",
            "[I 2025-05-01 22:09:26,344] Trial 3 finished with value: -0.6580543658025799 and parameters: {'C': 8.25975727397056, 'solver': 'liblinear', 'max_iter': 134}. Best is trial 0 with value: -0.6580543658025799.\n",
            "[I 2025-05-01 22:09:26,496] Trial 4 finished with value: -0.6580543658025799 and parameters: {'C': 0.036992023791092545, 'solver': 'liblinear', 'max_iter': 223}. Best is trial 0 with value: -0.6580543658025799.\n",
            "c:\\Users\\potda\\AppData\\Local\\Programs\\Python\\Python312\\Lib\\site-packages\\sklearn\\linear_model\\_sag.py:348: ConvergenceWarning:\n",
            "\n",
            "The max_iter was reached which means the coef_ did not converge\n",
            "\n",
            "c:\\Users\\potda\\AppData\\Local\\Programs\\Python\\Python312\\Lib\\site-packages\\sklearn\\linear_model\\_sag.py:348: ConvergenceWarning:\n",
            "\n",
            "The max_iter was reached which means the coef_ did not converge\n",
            "\n",
            "c:\\Users\\potda\\AppData\\Local\\Programs\\Python\\Python312\\Lib\\site-packages\\sklearn\\linear_model\\_sag.py:348: ConvergenceWarning:\n",
            "\n",
            "The max_iter was reached which means the coef_ did not converge\n",
            "\n",
            "c:\\Users\\potda\\AppData\\Local\\Programs\\Python\\Python312\\Lib\\site-packages\\sklearn\\linear_model\\_sag.py:348: ConvergenceWarning:\n",
            "\n",
            "The max_iter was reached which means the coef_ did not converge\n",
            "\n",
            "c:\\Users\\potda\\AppData\\Local\\Programs\\Python\\Python312\\Lib\\site-packages\\sklearn\\linear_model\\_sag.py:348: ConvergenceWarning:\n",
            "\n",
            "The max_iter was reached which means the coef_ did not converge\n",
            "\n",
            "[I 2025-05-01 22:09:27,438] Trial 5 finished with value: -0.6580543658025799 and parameters: {'C': 0.16281926967538934, 'solver': 'saga', 'max_iter': 121}. Best is trial 0 with value: -0.6580543658025799.\n",
            "[I 2025-05-01 22:09:27,587] Trial 6 finished with value: -0.6580543658025799 and parameters: {'C': 0.11545187523484744, 'solver': 'liblinear', 'max_iter': 386}. Best is trial 0 with value: -0.6580543658025799.\n",
            "c:\\Users\\potda\\AppData\\Local\\Programs\\Python\\Python312\\Lib\\site-packages\\sklearn\\linear_model\\_sag.py:348: ConvergenceWarning:\n",
            "\n",
            "The max_iter was reached which means the coef_ did not converge\n",
            "\n",
            "c:\\Users\\potda\\AppData\\Local\\Programs\\Python\\Python312\\Lib\\site-packages\\sklearn\\linear_model\\_sag.py:348: ConvergenceWarning:\n",
            "\n",
            "The max_iter was reached which means the coef_ did not converge\n",
            "\n",
            "c:\\Users\\potda\\AppData\\Local\\Programs\\Python\\Python312\\Lib\\site-packages\\sklearn\\linear_model\\_sag.py:348: ConvergenceWarning:\n",
            "\n",
            "The max_iter was reached which means the coef_ did not converge\n",
            "\n",
            "c:\\Users\\potda\\AppData\\Local\\Programs\\Python\\Python312\\Lib\\site-packages\\sklearn\\linear_model\\_sag.py:348: ConvergenceWarning:\n",
            "\n",
            "The max_iter was reached which means the coef_ did not converge\n",
            "\n",
            "c:\\Users\\potda\\AppData\\Local\\Programs\\Python\\Python312\\Lib\\site-packages\\sklearn\\linear_model\\_sag.py:348: ConvergenceWarning:\n",
            "\n",
            "The max_iter was reached which means the coef_ did not converge\n",
            "\n",
            "[I 2025-05-01 22:09:30,640] Trial 7 finished with value: -0.6580543658025799 and parameters: {'C': 6.117669295722714, 'solver': 'saga', 'max_iter': 439}. Best is trial 0 with value: -0.6580543658025799.\n",
            "[I 2025-05-01 22:09:30,797] Trial 8 finished with value: -0.6580543658025799 and parameters: {'C': 0.09603631823060572, 'solver': 'liblinear', 'max_iter': 434}. Best is trial 0 with value: -0.6580543658025799.\n",
            "[I 2025-05-01 22:09:30,950] Trial 9 finished with value: -0.6580543658025799 and parameters: {'C': 0.030724370205600877, 'solver': 'liblinear', 'max_iter': 173}. Best is trial 0 with value: -0.6580543658025799.\n",
            "[I 2025-05-01 22:09:30,953] A new study created in memory with name: no-name-15e4b5cc-132a-4d62-924d-c2a45a52c4c5\n",
            "[I 2025-05-01 22:09:31,140] Trial 0 finished with value: -0.28497264540860706 and parameters: {'var_smoothing': 8.738591511574084e-10}. Best is trial 0 with value: -0.28497264540860706.\n"
          ]
        },
        {
          "name": "stdout",
          "output_type": "stream",
          "text": [
            "\n",
            " Optimizing Naive Bayes hyperparameters \n",
            "\n"
          ]
        },
        {
          "name": "stderr",
          "output_type": "stream",
          "text": [
            "[I 2025-05-01 22:09:31,324] Trial 1 finished with value: -0.38211119843575847 and parameters: {'var_smoothing': 2.871162791080737e-09}. Best is trial 1 with value: -0.38211119843575847.\n",
            "[I 2025-05-01 22:09:31,516] Trial 2 finished with value: -0.2568982834698459 and parameters: {'var_smoothing': 3.2009042624400877e-10}. Best is trial 1 with value: -0.38211119843575847.\n",
            "[I 2025-05-01 22:09:31,700] Trial 3 finished with value: -0.23434814083985728 and parameters: {'var_smoothing': 1.6524617671315411e-10}. Best is trial 1 with value: -0.38211119843575847.\n",
            "[I 2025-05-01 22:09:31,884] Trial 4 finished with value: -0.2818857682511304 and parameters: {'var_smoothing': 7.046721192592466e-10}. Best is trial 1 with value: -0.38211119843575847.\n",
            "[I 2025-05-01 22:09:32,069] Trial 5 finished with value: -0.551850299008757 and parameters: {'var_smoothing': 9.8480248630058e-09}. Best is trial 5 with value: -0.551850299008757.\n",
            "[I 2025-05-01 22:09:32,255] Trial 6 finished with value: -0.3126897859442205 and parameters: {'var_smoothing': 1.3920183765464566e-09}. Best is trial 5 with value: -0.551850299008757.\n",
            "[I 2025-05-01 22:09:32,450] Trial 7 finished with value: -0.26454073203489964 and parameters: {'var_smoothing': 3.6578024248393667e-10}. Best is trial 5 with value: -0.551850299008757.\n",
            "[I 2025-05-01 22:09:32,636] Trial 8 finished with value: -0.36070278634496333 and parameters: {'var_smoothing': 2.4400559966212723e-09}. Best is trial 5 with value: -0.551850299008757.\n",
            "[I 2025-05-01 22:09:32,821] Trial 9 finished with value: -0.22067491956562368 and parameters: {'var_smoothing': 1.0317625749689664e-10}. Best is trial 5 with value: -0.551850299008757.\n",
            "[I 2025-05-01 22:09:32,822] A new study created in memory with name: no-name-bdef3930-a927-4336-9bda-a69511669477\n",
            "c:\\Users\\potda\\AppData\\Local\\Programs\\Python\\Python312\\Lib\\site-packages\\sklearn\\ensemble\\_weight_boosting.py:519: FutureWarning:\n",
            "\n",
            "The parameter 'algorithm' is deprecated in 1.6 and has no effect. It will be removed in version 1.8.\n",
            "\n"
          ]
        },
        {
          "name": "stdout",
          "output_type": "stream",
          "text": [
            "\n",
            " Optimizing AdaBoost hyperparameters \n",
            "\n"
          ]
        },
        {
          "name": "stderr",
          "output_type": "stream",
          "text": [
            "c:\\Users\\potda\\AppData\\Local\\Programs\\Python\\Python312\\Lib\\site-packages\\sklearn\\ensemble\\_weight_boosting.py:519: FutureWarning:\n",
            "\n",
            "The parameter 'algorithm' is deprecated in 1.6 and has no effect. It will be removed in version 1.8.\n",
            "\n",
            "c:\\Users\\potda\\AppData\\Local\\Programs\\Python\\Python312\\Lib\\site-packages\\sklearn\\ensemble\\_weight_boosting.py:519: FutureWarning:\n",
            "\n",
            "The parameter 'algorithm' is deprecated in 1.6 and has no effect. It will be removed in version 1.8.\n",
            "\n",
            "c:\\Users\\potda\\AppData\\Local\\Programs\\Python\\Python312\\Lib\\site-packages\\sklearn\\ensemble\\_weight_boosting.py:519: FutureWarning:\n",
            "\n",
            "The parameter 'algorithm' is deprecated in 1.6 and has no effect. It will be removed in version 1.8.\n",
            "\n",
            "c:\\Users\\potda\\AppData\\Local\\Programs\\Python\\Python312\\Lib\\site-packages\\sklearn\\ensemble\\_weight_boosting.py:519: FutureWarning:\n",
            "\n",
            "The parameter 'algorithm' is deprecated in 1.6 and has no effect. It will be removed in version 1.8.\n",
            "\n",
            "[I 2025-05-01 22:09:35,567] Trial 0 finished with value: -0.6580543658025799 and parameters: {'n_estimators': 91, 'learning_rate': 0.44576643434752167}. Best is trial 0 with value: -0.6580543658025799.\n",
            "c:\\Users\\potda\\AppData\\Local\\Programs\\Python\\Python312\\Lib\\site-packages\\sklearn\\ensemble\\_weight_boosting.py:519: FutureWarning:\n",
            "\n",
            "The parameter 'algorithm' is deprecated in 1.6 and has no effect. It will be removed in version 1.8.\n",
            "\n",
            "c:\\Users\\potda\\AppData\\Local\\Programs\\Python\\Python312\\Lib\\site-packages\\sklearn\\ensemble\\_weight_boosting.py:519: FutureWarning:\n",
            "\n",
            "The parameter 'algorithm' is deprecated in 1.6 and has no effect. It will be removed in version 1.8.\n",
            "\n",
            "c:\\Users\\potda\\AppData\\Local\\Programs\\Python\\Python312\\Lib\\site-packages\\sklearn\\ensemble\\_weight_boosting.py:519: FutureWarning:\n",
            "\n",
            "The parameter 'algorithm' is deprecated in 1.6 and has no effect. It will be removed in version 1.8.\n",
            "\n",
            "c:\\Users\\potda\\AppData\\Local\\Programs\\Python\\Python312\\Lib\\site-packages\\sklearn\\ensemble\\_weight_boosting.py:519: FutureWarning:\n",
            "\n",
            "The parameter 'algorithm' is deprecated in 1.6 and has no effect. It will be removed in version 1.8.\n",
            "\n",
            "c:\\Users\\potda\\AppData\\Local\\Programs\\Python\\Python312\\Lib\\site-packages\\sklearn\\ensemble\\_weight_boosting.py:519: FutureWarning:\n",
            "\n",
            "The parameter 'algorithm' is deprecated in 1.6 and has no effect. It will be removed in version 1.8.\n",
            "\n",
            "[I 2025-05-01 22:09:37,337] Trial 1 finished with value: -0.6580543658025799 and parameters: {'n_estimators': 56, 'learning_rate': 0.05716287698424466}. Best is trial 0 with value: -0.6580543658025799.\n",
            "c:\\Users\\potda\\AppData\\Local\\Programs\\Python\\Python312\\Lib\\site-packages\\sklearn\\ensemble\\_weight_boosting.py:519: FutureWarning:\n",
            "\n",
            "The parameter 'algorithm' is deprecated in 1.6 and has no effect. It will be removed in version 1.8.\n",
            "\n",
            "c:\\Users\\potda\\AppData\\Local\\Programs\\Python\\Python312\\Lib\\site-packages\\sklearn\\ensemble\\_weight_boosting.py:519: FutureWarning:\n",
            "\n",
            "The parameter 'algorithm' is deprecated in 1.6 and has no effect. It will be removed in version 1.8.\n",
            "\n",
            "c:\\Users\\potda\\AppData\\Local\\Programs\\Python\\Python312\\Lib\\site-packages\\sklearn\\ensemble\\_weight_boosting.py:519: FutureWarning:\n",
            "\n",
            "The parameter 'algorithm' is deprecated in 1.6 and has no effect. It will be removed in version 1.8.\n",
            "\n",
            "c:\\Users\\potda\\AppData\\Local\\Programs\\Python\\Python312\\Lib\\site-packages\\sklearn\\ensemble\\_weight_boosting.py:519: FutureWarning:\n",
            "\n",
            "The parameter 'algorithm' is deprecated in 1.6 and has no effect. It will be removed in version 1.8.\n",
            "\n",
            "c:\\Users\\potda\\AppData\\Local\\Programs\\Python\\Python312\\Lib\\site-packages\\sklearn\\ensemble\\_weight_boosting.py:519: FutureWarning:\n",
            "\n",
            "The parameter 'algorithm' is deprecated in 1.6 and has no effect. It will be removed in version 1.8.\n",
            "\n",
            "[I 2025-05-01 22:09:42,986] Trial 2 finished with value: -0.6580543658025799 and parameters: {'n_estimators': 187, 'learning_rate': 0.2048703619593432}. Best is trial 0 with value: -0.6580543658025799.\n",
            "c:\\Users\\potda\\AppData\\Local\\Programs\\Python\\Python312\\Lib\\site-packages\\sklearn\\ensemble\\_weight_boosting.py:519: FutureWarning:\n",
            "\n",
            "The parameter 'algorithm' is deprecated in 1.6 and has no effect. It will be removed in version 1.8.\n",
            "\n",
            "c:\\Users\\potda\\AppData\\Local\\Programs\\Python\\Python312\\Lib\\site-packages\\sklearn\\ensemble\\_weight_boosting.py:519: FutureWarning:\n",
            "\n",
            "The parameter 'algorithm' is deprecated in 1.6 and has no effect. It will be removed in version 1.8.\n",
            "\n",
            "c:\\Users\\potda\\AppData\\Local\\Programs\\Python\\Python312\\Lib\\site-packages\\sklearn\\ensemble\\_weight_boosting.py:519: FutureWarning:\n",
            "\n",
            "The parameter 'algorithm' is deprecated in 1.6 and has no effect. It will be removed in version 1.8.\n",
            "\n",
            "c:\\Users\\potda\\AppData\\Local\\Programs\\Python\\Python312\\Lib\\site-packages\\sklearn\\ensemble\\_weight_boosting.py:519: FutureWarning:\n",
            "\n",
            "The parameter 'algorithm' is deprecated in 1.6 and has no effect. It will be removed in version 1.8.\n",
            "\n",
            "c:\\Users\\potda\\AppData\\Local\\Programs\\Python\\Python312\\Lib\\site-packages\\sklearn\\ensemble\\_weight_boosting.py:519: FutureWarning:\n",
            "\n",
            "The parameter 'algorithm' is deprecated in 1.6 and has no effect. It will be removed in version 1.8.\n",
            "\n",
            "[I 2025-05-01 22:09:48,090] Trial 3 finished with value: -0.6580543658025799 and parameters: {'n_estimators': 178, 'learning_rate': 0.26261276660266225}. Best is trial 0 with value: -0.6580543658025799.\n",
            "c:\\Users\\potda\\AppData\\Local\\Programs\\Python\\Python312\\Lib\\site-packages\\sklearn\\ensemble\\_weight_boosting.py:519: FutureWarning:\n",
            "\n",
            "The parameter 'algorithm' is deprecated in 1.6 and has no effect. It will be removed in version 1.8.\n",
            "\n",
            "c:\\Users\\potda\\AppData\\Local\\Programs\\Python\\Python312\\Lib\\site-packages\\sklearn\\ensemble\\_weight_boosting.py:519: FutureWarning:\n",
            "\n",
            "The parameter 'algorithm' is deprecated in 1.6 and has no effect. It will be removed in version 1.8.\n",
            "\n",
            "c:\\Users\\potda\\AppData\\Local\\Programs\\Python\\Python312\\Lib\\site-packages\\sklearn\\ensemble\\_weight_boosting.py:519: FutureWarning:\n",
            "\n",
            "The parameter 'algorithm' is deprecated in 1.6 and has no effect. It will be removed in version 1.8.\n",
            "\n",
            "c:\\Users\\potda\\AppData\\Local\\Programs\\Python\\Python312\\Lib\\site-packages\\sklearn\\ensemble\\_weight_boosting.py:519: FutureWarning:\n",
            "\n",
            "The parameter 'algorithm' is deprecated in 1.6 and has no effect. It will be removed in version 1.8.\n",
            "\n",
            "c:\\Users\\potda\\AppData\\Local\\Programs\\Python\\Python312\\Lib\\site-packages\\sklearn\\ensemble\\_weight_boosting.py:519: FutureWarning:\n",
            "\n",
            "The parameter 'algorithm' is deprecated in 1.6 and has no effect. It will be removed in version 1.8.\n",
            "\n",
            "[I 2025-05-01 22:09:50,978] Trial 4 finished with value: -0.6580543658025799 and parameters: {'n_estimators': 93, 'learning_rate': 0.024551770651595972}. Best is trial 0 with value: -0.6580543658025799.\n",
            "c:\\Users\\potda\\AppData\\Local\\Programs\\Python\\Python312\\Lib\\site-packages\\sklearn\\ensemble\\_weight_boosting.py:519: FutureWarning:\n",
            "\n",
            "The parameter 'algorithm' is deprecated in 1.6 and has no effect. It will be removed in version 1.8.\n",
            "\n",
            "c:\\Users\\potda\\AppData\\Local\\Programs\\Python\\Python312\\Lib\\site-packages\\sklearn\\ensemble\\_weight_boosting.py:519: FutureWarning:\n",
            "\n",
            "The parameter 'algorithm' is deprecated in 1.6 and has no effect. It will be removed in version 1.8.\n",
            "\n",
            "c:\\Users\\potda\\AppData\\Local\\Programs\\Python\\Python312\\Lib\\site-packages\\sklearn\\ensemble\\_weight_boosting.py:519: FutureWarning:\n",
            "\n",
            "The parameter 'algorithm' is deprecated in 1.6 and has no effect. It will be removed in version 1.8.\n",
            "\n",
            "c:\\Users\\potda\\AppData\\Local\\Programs\\Python\\Python312\\Lib\\site-packages\\sklearn\\ensemble\\_weight_boosting.py:519: FutureWarning:\n",
            "\n",
            "The parameter 'algorithm' is deprecated in 1.6 and has no effect. It will be removed in version 1.8.\n",
            "\n",
            "c:\\Users\\potda\\AppData\\Local\\Programs\\Python\\Python312\\Lib\\site-packages\\sklearn\\ensemble\\_weight_boosting.py:519: FutureWarning:\n",
            "\n",
            "The parameter 'algorithm' is deprecated in 1.6 and has no effect. It will be removed in version 1.8.\n",
            "\n",
            "[I 2025-05-01 22:09:54,536] Trial 5 finished with value: -0.6580543658025799 and parameters: {'n_estimators': 119, 'learning_rate': 0.1177153714033479}. Best is trial 0 with value: -0.6580543658025799.\n",
            "c:\\Users\\potda\\AppData\\Local\\Programs\\Python\\Python312\\Lib\\site-packages\\sklearn\\ensemble\\_weight_boosting.py:519: FutureWarning:\n",
            "\n",
            "The parameter 'algorithm' is deprecated in 1.6 and has no effect. It will be removed in version 1.8.\n",
            "\n",
            "c:\\Users\\potda\\AppData\\Local\\Programs\\Python\\Python312\\Lib\\site-packages\\sklearn\\ensemble\\_weight_boosting.py:519: FutureWarning:\n",
            "\n",
            "The parameter 'algorithm' is deprecated in 1.6 and has no effect. It will be removed in version 1.8.\n",
            "\n",
            "c:\\Users\\potda\\AppData\\Local\\Programs\\Python\\Python312\\Lib\\site-packages\\sklearn\\ensemble\\_weight_boosting.py:519: FutureWarning:\n",
            "\n",
            "The parameter 'algorithm' is deprecated in 1.6 and has no effect. It will be removed in version 1.8.\n",
            "\n",
            "c:\\Users\\potda\\AppData\\Local\\Programs\\Python\\Python312\\Lib\\site-packages\\sklearn\\ensemble\\_weight_boosting.py:519: FutureWarning:\n",
            "\n",
            "The parameter 'algorithm' is deprecated in 1.6 and has no effect. It will be removed in version 1.8.\n",
            "\n",
            "c:\\Users\\potda\\AppData\\Local\\Programs\\Python\\Python312\\Lib\\site-packages\\sklearn\\ensemble\\_weight_boosting.py:519: FutureWarning:\n",
            "\n",
            "The parameter 'algorithm' is deprecated in 1.6 and has no effect. It will be removed in version 1.8.\n",
            "\n",
            "[I 2025-05-01 22:09:56,094] Trial 6 finished with value: -0.6580543658025799 and parameters: {'n_estimators': 51, 'learning_rate': 0.07924865622498589}. Best is trial 0 with value: -0.6580543658025799.\n",
            "c:\\Users\\potda\\AppData\\Local\\Programs\\Python\\Python312\\Lib\\site-packages\\sklearn\\ensemble\\_weight_boosting.py:519: FutureWarning:\n",
            "\n",
            "The parameter 'algorithm' is deprecated in 1.6 and has no effect. It will be removed in version 1.8.\n",
            "\n",
            "c:\\Users\\potda\\AppData\\Local\\Programs\\Python\\Python312\\Lib\\site-packages\\sklearn\\ensemble\\_weight_boosting.py:519: FutureWarning:\n",
            "\n",
            "The parameter 'algorithm' is deprecated in 1.6 and has no effect. It will be removed in version 1.8.\n",
            "\n",
            "c:\\Users\\potda\\AppData\\Local\\Programs\\Python\\Python312\\Lib\\site-packages\\sklearn\\ensemble\\_weight_boosting.py:519: FutureWarning:\n",
            "\n",
            "The parameter 'algorithm' is deprecated in 1.6 and has no effect. It will be removed in version 1.8.\n",
            "\n",
            "c:\\Users\\potda\\AppData\\Local\\Programs\\Python\\Python312\\Lib\\site-packages\\sklearn\\ensemble\\_weight_boosting.py:519: FutureWarning:\n",
            "\n",
            "The parameter 'algorithm' is deprecated in 1.6 and has no effect. It will be removed in version 1.8.\n",
            "\n",
            "c:\\Users\\potda\\AppData\\Local\\Programs\\Python\\Python312\\Lib\\site-packages\\sklearn\\ensemble\\_weight_boosting.py:519: FutureWarning:\n",
            "\n",
            "The parameter 'algorithm' is deprecated in 1.6 and has no effect. It will be removed in version 1.8.\n",
            "\n",
            "[I 2025-05-01 22:10:01,391] Trial 7 finished with value: -0.6580543658025799 and parameters: {'n_estimators': 180, 'learning_rate': 0.018954669995262758}. Best is trial 0 with value: -0.6580543658025799.\n",
            "c:\\Users\\potda\\AppData\\Local\\Programs\\Python\\Python312\\Lib\\site-packages\\sklearn\\ensemble\\_weight_boosting.py:519: FutureWarning:\n",
            "\n",
            "The parameter 'algorithm' is deprecated in 1.6 and has no effect. It will be removed in version 1.8.\n",
            "\n",
            "c:\\Users\\potda\\AppData\\Local\\Programs\\Python\\Python312\\Lib\\site-packages\\sklearn\\ensemble\\_weight_boosting.py:519: FutureWarning:\n",
            "\n",
            "The parameter 'algorithm' is deprecated in 1.6 and has no effect. It will be removed in version 1.8.\n",
            "\n",
            "c:\\Users\\potda\\AppData\\Local\\Programs\\Python\\Python312\\Lib\\site-packages\\sklearn\\ensemble\\_weight_boosting.py:519: FutureWarning:\n",
            "\n",
            "The parameter 'algorithm' is deprecated in 1.6 and has no effect. It will be removed in version 1.8.\n",
            "\n",
            "c:\\Users\\potda\\AppData\\Local\\Programs\\Python\\Python312\\Lib\\site-packages\\sklearn\\ensemble\\_weight_boosting.py:519: FutureWarning:\n",
            "\n",
            "The parameter 'algorithm' is deprecated in 1.6 and has no effect. It will be removed in version 1.8.\n",
            "\n",
            "c:\\Users\\potda\\AppData\\Local\\Programs\\Python\\Python312\\Lib\\site-packages\\sklearn\\ensemble\\_weight_boosting.py:519: FutureWarning:\n",
            "\n",
            "The parameter 'algorithm' is deprecated in 1.6 and has no effect. It will be removed in version 1.8.\n",
            "\n",
            "[I 2025-05-01 22:10:05,187] Trial 8 finished with value: -0.6580543658025799 and parameters: {'n_estimators': 134, 'learning_rate': 0.3399480077155685}. Best is trial 0 with value: -0.6580543658025799.\n",
            "c:\\Users\\potda\\AppData\\Local\\Programs\\Python\\Python312\\Lib\\site-packages\\sklearn\\ensemble\\_weight_boosting.py:519: FutureWarning:\n",
            "\n",
            "The parameter 'algorithm' is deprecated in 1.6 and has no effect. It will be removed in version 1.8.\n",
            "\n",
            "c:\\Users\\potda\\AppData\\Local\\Programs\\Python\\Python312\\Lib\\site-packages\\sklearn\\ensemble\\_weight_boosting.py:519: FutureWarning:\n",
            "\n",
            "The parameter 'algorithm' is deprecated in 1.6 and has no effect. It will be removed in version 1.8.\n",
            "\n",
            "c:\\Users\\potda\\AppData\\Local\\Programs\\Python\\Python312\\Lib\\site-packages\\sklearn\\ensemble\\_weight_boosting.py:519: FutureWarning:\n",
            "\n",
            "The parameter 'algorithm' is deprecated in 1.6 and has no effect. It will be removed in version 1.8.\n",
            "\n",
            "c:\\Users\\potda\\AppData\\Local\\Programs\\Python\\Python312\\Lib\\site-packages\\sklearn\\ensemble\\_weight_boosting.py:519: FutureWarning:\n",
            "\n",
            "The parameter 'algorithm' is deprecated in 1.6 and has no effect. It will be removed in version 1.8.\n",
            "\n",
            "c:\\Users\\potda\\AppData\\Local\\Programs\\Python\\Python312\\Lib\\site-packages\\sklearn\\ensemble\\_weight_boosting.py:519: FutureWarning:\n",
            "\n",
            "The parameter 'algorithm' is deprecated in 1.6 and has no effect. It will be removed in version 1.8.\n",
            "\n",
            "[I 2025-05-01 22:10:07,969] Trial 9 finished with value: -0.6580543658025799 and parameters: {'n_estimators': 92, 'learning_rate': 0.8663281842895498}. Best is trial 0 with value: -0.6580543658025799.\n"
          ]
        },
        {
          "name": "stdout",
          "output_type": "stream",
          "text": [
            "\n",
            " Optimized all the models \n",
            "\n"
          ]
        }
      ],
      "source": [
        "# Running hyperparameter optimization on all models\n",
        "print(\"\\n Optimizing KNN hyperparameters \\n\")\n",
        "study_knn = optuna.create_study(direction='minimize')\n",
        "study_knn.optimize(objective_knn, n_trials=10)\n",
        "\n",
        "print(\"\\n Optimizing Random Forest hyperparameters \\n\")\n",
        "study_rf = optuna.create_study(direction='minimize')\n",
        "study_rf.optimize(objective_rf, n_trials=10)\n",
        "\n",
        "print(\"\\n Optimizing Gradient Boosting hyperparameters \\n\")\n",
        "study_gb = optuna.create_study(direction='minimize')\n",
        "study_gb.optimize(objective_gb, n_trials=10)\n",
        "\n",
        "print(\"\\n Optimizing Decision Tree hyperparameters \\n\")\n",
        "study_dt = optuna.create_study(direction='minimize')\n",
        "study_dt.optimize(objective_dt, n_trials=10)\n",
        "\n",
        "print(\"\\n Optimizing Extra Trees hyperparameters \\n\")\n",
        "study_et = optuna.create_study(direction='minimize')\n",
        "study_et.optimize(objective_et, n_trials=10)\n",
        "\n",
        "print(\"\\n Optimizing Logistic Regression hyperparameters \\n\")\n",
        "study_logreg = optuna.create_study(direction='minimize')\n",
        "study_logreg.optimize(objective_logreg, n_trials=10)\n",
        "\n",
        "print(\"\\n Optimizing Naive Bayes hyperparameters \\n\")\n",
        "study_nb = optuna.create_study(direction='minimize')\n",
        "study_nb.optimize(objective_nb, n_trials=10)\n",
        "\n",
        "print(\"\\n Optimizing AdaBoost hyperparameters \\n\")\n",
        "study_ada = optuna.create_study(direction='minimize')\n",
        "study_ada.optimize(objective_adaboost, n_trials=10)\n",
        "\n",
        "print(\"\\n Optimized all the models \\n\")\n"
      ]
    },
    {
      "cell_type": "code",
      "execution_count": 210,
      "id": "85c70ac9",
      "metadata": {
        "language": "python"
      },
      "outputs": [
        {
          "name": "stdout",
          "output_type": "stream",
          "text": [
            "\n",
            " Best KNN parameters: \n",
            " {'n_neighbors': 6, 'weights': 'distance'}\n",
            "\n",
            " Best KNN metric: \n",
            " 0.6622132737263768\n",
            "\n",
            " Best Random Forest parameters: \n",
            " {'n_estimators': 295, 'max_depth': 13, 'min_samples_split': 19}\n",
            "\n",
            " Best Random Forest metric: \n",
            " 0.6582086582988835\n",
            "\n",
            " Best Gradient Boosting parameters: \n",
            " {'n_estimators': 168, 'max_depth': 5, 'learning_rate': 0.23447722654731154}\n",
            "\n",
            " Best Gradient Boosting metric: \n",
            " 0.6718171301287572\n",
            "\n",
            " Best Decision Tree parameters: \n",
            " {'max_depth': 17, 'min_samples_split': 17, 'min_samples_leaf': 19}\n",
            "\n",
            " Best Decision Tree metric: \n",
            " 0.6651573372421618\n",
            "\n",
            " Best Extra Trees parameters: \n",
            " {'n_estimators': 157, 'max_depth': 18, 'min_samples_split': 5}\n",
            "\n",
            " Best Extra Trees metric: \n",
            " 0.659791362854552\n",
            "\n",
            " Best Logistic Regression parameters: \n",
            " {'C': 0.12254117289879263, 'solver': 'saga', 'max_iter': 352}\n",
            "\n",
            " Best Logistic Regression metric: \n",
            " 0.6580543658025799\n",
            "\n",
            " Best Naive Bayes parameters: \n",
            " {'var_smoothing': 9.8480248630058e-09}\n",
            "\n",
            " Best Naive Bayes metric: \n",
            " 0.551850299008757\n",
            "\n",
            " Best AdaBoost parameters: \n",
            " {'n_estimators': 91, 'learning_rate': 0.44576643434752167}\n",
            "\n",
            " Best AdaBoost metric: \n",
            " 0.6580543658025799\n"
          ]
        }
      ],
      "source": [
        "# Printing best hyperparameters for all the models\n",
        "print(\"\\n Best KNN parameters: \\n\", study_knn.best_params)\n",
        "print(\"\\n Best KNN metric: \\n\", -study_knn.best_value)\n",
        "\n",
        "print(\"\\n Best Random Forest parameters: \\n\", study_rf.best_params)\n",
        "print(\"\\n Best Random Forest metric: \\n\", -study_rf.best_value)\n",
        "\n",
        "print(\"\\n Best Gradient Boosting parameters: \\n\", study_gb.best_params)\n",
        "print(\"\\n Best Gradient Boosting metric: \\n\", -study_gb.best_value)\n",
        "\n",
        "print(\"\\n Best Decision Tree parameters: \\n\", study_dt.best_params)\n",
        "print(\"\\n Best Decision Tree metric: \\n\", -study_dt.best_value)\n",
        "\n",
        "print(\"\\n Best Extra Trees parameters: \\n\", study_et.best_params)\n",
        "print(\"\\n Best Extra Trees metric: \\n\", -study_et.best_value)\n",
        "\n",
        "print(\"\\n Best Logistic Regression parameters: \\n\", study_logreg.best_params)\n",
        "print(\"\\n Best Logistic Regression metric: \\n\", -study_logreg.best_value)\n",
        "\n",
        "print(\"\\n Best Naive Bayes parameters: \\n\", study_nb.best_params)\n",
        "print(\"\\n Best Naive Bayes metric: \\n\", -study_nb.best_value)\n",
        "\n",
        "print(\"\\n Best AdaBoost parameters: \\n\", study_ada.best_params)\n",
        "print(\"\\n Best AdaBoost metric: \\n\", -study_ada.best_value)\n"
      ]
    },
    {
      "cell_type": "markdown",
      "id": "8d75f7fe",
      "metadata": {
        "language": "markdown"
      },
      "source": [
        "## 8. Training the models and evaluating models"
      ]
    },
    {
      "cell_type": "code",
      "execution_count": 211,
      "id": "24e71c19",
      "metadata": {
        "language": "python"
      },
      "outputs": [],
      "source": [
        "# Updating models with optimized hyperparameters based on the ones we got from previous step\n",
        "optimized_models = {\n",
        "    'KNN': KNeighborsClassifier(**study_knn.best_params),\n",
        "    'RF': RandomForestClassifier(**study_rf.best_params, random_state=42),\n",
        "    'GB': GradientBoostingClassifier(**study_gb.best_params, random_state=42),\n",
        "    'DT': DecisionTreeClassifier(**study_dt.best_params, random_state=42),\n",
        "    'ET': ExtraTreesClassifier(**study_et.best_params, random_state=42),\n",
        "    'LR': LogisticRegression(**study_logreg.best_params, random_state=42),\n",
        "    'NB': GaussianNB(**study_nb.best_params),\n",
        "    'ADA': AdaBoostClassifier(\n",
        "        estimator=DecisionTreeClassifier(max_depth=1),\n",
        "        n_estimators=study_ada.best_params.get('n_estimators', 100),\n",
        "        learning_rate=study_ada.best_params.get('learning_rate', 0.1),\n",
        "        algorithm='SAMME',\n",
        "        random_state=42\n",
        "    )\n",
        "}"
      ]
    },
    {
      "cell_type": "code",
      "execution_count": 212,
      "id": "bdaab349",
      "metadata": {
        "language": "python"
      },
      "outputs": [],
      "source": [
        "# Defining the function to train and evaluate the results of every model\n",
        "def train_and_evaluate(models, X_train, y_train, X_test, y_test):\n",
        "    results = []\n",
        "    \n",
        "    for model_name, model in models.items():\n",
        "        print(f\"Training {model_name}\")\n",
        "        model.fit(X_train, y_train)\n",
        "        y_pred = model.predict(X_test)\n",
        "        \n",
        "        # calculating the metrics for all models\n",
        "        accuracy = accuracy_score(y_test, y_pred)\n",
        "        precision = precision_score(y_test, y_pred, average='weighted')\n",
        "        recall = recall_score(y_test, y_pred, average='weighted')\n",
        "        f1 = f1_score(y_test, y_pred, average='weighted')\n",
        "        cm = confusion_matrix(y_test, y_pred)\n",
        "        balanced_acc = balanced_accuracy_score(y_test, y_pred)\n",
        "        \n",
        "        # Calculating AUC for models that have probability predictons if the model supports probability prediction\n",
        "        auc = None\n",
        "        if hasattr(model, \"predict_proba\") and len(np.unique(y_test)) == 2:\n",
        "            try:\n",
        "                y_prob = model.predict_proba(X_test)[:, 1]\n",
        "                auc = roc_auc_score(y_test, y_prob)\n",
        "            except:\n",
        "                pass\n",
        "        \n",
        "        # Making the results report for every model\n",
        "        results.append({\n",
        "            'model_name': model_name,\n",
        "            'accuracy': accuracy,\n",
        "            'balanced_accuracy': balanced_acc,\n",
        "            'precision': precision,\n",
        "            'recall': recall,\n",
        "            'f1': f1,\n",
        "            'auc': auc,\n",
        "            'confusion_matrix': cm,\n",
        "            'classification_report': classification_report(y_test, y_pred)\n",
        "        })\n",
        "    \n",
        "    return results"
      ]
    },
    {
      "cell_type": "code",
      "execution_count": 213,
      "id": "f702e129",
      "metadata": {
        "language": "python"
      },
      "outputs": [
        {
          "name": "stdout",
          "output_type": "stream",
          "text": [
            "\n",
            " Training models with balanced data: \n",
            "\n",
            "Training KNN\n",
            "Training RF\n",
            "Training GB\n",
            "Training DT\n",
            "Training ET\n",
            "Training LR\n"
          ]
        },
        {
          "name": "stderr",
          "output_type": "stream",
          "text": [
            "c:\\Users\\potda\\AppData\\Local\\Programs\\Python\\Python312\\Lib\\site-packages\\sklearn\\linear_model\\_sag.py:348: ConvergenceWarning:\n",
            "\n",
            "The max_iter was reached which means the coef_ did not converge\n",
            "\n",
            "c:\\Users\\potda\\AppData\\Local\\Programs\\Python\\Python312\\Lib\\site-packages\\sklearn\\ensemble\\_weight_boosting.py:519: FutureWarning:\n",
            "\n",
            "The parameter 'algorithm' is deprecated in 1.6 and has no effect. It will be removed in version 1.8.\n",
            "\n"
          ]
        },
        {
          "name": "stdout",
          "output_type": "stream",
          "text": [
            "Training NB\n",
            "Training ADA\n"
          ]
        }
      ],
      "source": [
        "# Training models with the data that is balanced with ADASYN that we did earlier\n",
        "print(\"\\n Training models with balanced data: \\n\")\n",
        "balanced_results = train_and_evaluate(\n",
        "    optimized_models,\n",
        "    X_train_balanced, y_train_balanced,\n",
        "    X_test_processed, y_test_causality\n",
        ")"
      ]
    },
    {
      "cell_type": "code",
      "execution_count": 214,
      "id": "a7167082",
      "metadata": {
        "language": "python"
      },
      "outputs": [
        {
          "name": "stdout",
          "output_type": "stream",
          "text": [
            "\n",
            " -------------------------------------------------- \n",
            "\n",
            "Model: KNN\n",
            "Accuracy: 0.5407\n",
            "Balanced Accuracy: 0.5090\n",
            "Precision: 0.6428\n",
            "Recall: 0.5407\n",
            "F1 Score: 0.5736\n",
            "AUC: 0.5113\n",
            "\n",
            " Confusion Matrix: \n",
            "\n",
            "[[ 326  401]\n",
            " [ 998 1321]]\n",
            "\n",
            " Classification Report: \n",
            "\n",
            "              precision    recall  f1-score   support\n",
            "\n",
            "           0       0.25      0.45      0.32       727\n",
            "           1       0.77      0.57      0.65      2319\n",
            "\n",
            "    accuracy                           0.54      3046\n",
            "   macro avg       0.51      0.51      0.49      3046\n",
            "weighted avg       0.64      0.54      0.57      3046\n",
            "\n",
            "\n",
            " -------------------------------------------------- \n",
            "\n",
            "Model: RF\n",
            "Accuracy: 0.5000\n",
            "Balanced Accuracy: 0.4837\n",
            "Precision: 0.6250\n",
            "Recall: 0.5000\n",
            "F1 Score: 0.5369\n",
            "AUC: 0.4884\n",
            "\n",
            " Confusion Matrix: \n",
            "\n",
            "[[ 329  398]\n",
            " [1125 1194]]\n",
            "\n",
            " Classification Report: \n",
            "\n",
            "              precision    recall  f1-score   support\n",
            "\n",
            "           0       0.23      0.45      0.30       727\n",
            "           1       0.75      0.51      0.61      2319\n",
            "\n",
            "    accuracy                           0.50      3046\n",
            "   macro avg       0.49      0.48      0.46      3046\n",
            "weighted avg       0.62      0.50      0.54      3046\n",
            "\n",
            "\n",
            " -------------------------------------------------- \n",
            "\n",
            "Model: GB\n",
            "Accuracy: 0.4097\n",
            "Balanced Accuracy: 0.4905\n",
            "Precision: 0.6276\n",
            "Recall: 0.4097\n",
            "F1 Score: 0.4353\n",
            "AUC: 0.4817\n",
            "\n",
            " Confusion Matrix: \n",
            "\n",
            "[[ 469  258]\n",
            " [1540  779]]\n",
            "\n",
            " Classification Report: \n",
            "\n",
            "              precision    recall  f1-score   support\n",
            "\n",
            "           0       0.23      0.65      0.34       727\n",
            "           1       0.75      0.34      0.46      2319\n",
            "\n",
            "    accuracy                           0.41      3046\n",
            "   macro avg       0.49      0.49      0.40      3046\n",
            "weighted avg       0.63      0.41      0.44      3046\n",
            "\n",
            "\n",
            " -------------------------------------------------- \n",
            "\n",
            "Model: DT\n",
            "Accuracy: 0.5098\n",
            "Balanced Accuracy: 0.4949\n",
            "Precision: 0.6330\n",
            "Recall: 0.5098\n",
            "F1 Score: 0.5460\n",
            "AUC: 0.5011\n",
            "\n",
            " Confusion Matrix: \n",
            "\n",
            "[[ 339  388]\n",
            " [1105 1214]]\n",
            "\n",
            " Classification Report: \n",
            "\n",
            "              precision    recall  f1-score   support\n",
            "\n",
            "           0       0.23      0.47      0.31       727\n",
            "           1       0.76      0.52      0.62      2319\n",
            "\n",
            "    accuracy                           0.51      3046\n",
            "   macro avg       0.50      0.49      0.47      3046\n",
            "weighted avg       0.63      0.51      0.55      3046\n",
            "\n",
            "\n",
            " -------------------------------------------------- \n",
            "\n",
            "Model: ET\n",
            "Accuracy: 0.5460\n",
            "Balanced Accuracy: 0.4799\n",
            "Precision: 0.6230\n",
            "Recall: 0.5460\n",
            "F1 Score: 0.5750\n",
            "AUC: 0.4770\n",
            "\n",
            " Confusion Matrix: \n",
            "\n",
            "[[ 257  470]\n",
            " [ 913 1406]]\n",
            "\n",
            " Classification Report: \n",
            "\n",
            "              precision    recall  f1-score   support\n",
            "\n",
            "           0       0.22      0.35      0.27       727\n",
            "           1       0.75      0.61      0.67      2319\n",
            "\n",
            "    accuracy                           0.55      3046\n",
            "   macro avg       0.48      0.48      0.47      3046\n",
            "weighted avg       0.62      0.55      0.58      3046\n",
            "\n",
            "\n",
            " -------------------------------------------------- \n",
            "\n",
            "Model: LR\n",
            "Accuracy: 0.5972\n",
            "Balanced Accuracy: 0.5088\n",
            "Precision: 0.6425\n",
            "Recall: 0.5972\n",
            "F1 Score: 0.6161\n",
            "AUC: 0.5074\n",
            "\n",
            " Confusion Matrix: \n",
            "\n",
            "[[ 247  480]\n",
            " [ 747 1572]]\n",
            "\n",
            " Classification Report: \n",
            "\n",
            "              precision    recall  f1-score   support\n",
            "\n",
            "           0       0.25      0.34      0.29       727\n",
            "           1       0.77      0.68      0.72      2319\n",
            "\n",
            "    accuracy                           0.60      3046\n",
            "   macro avg       0.51      0.51      0.50      3046\n",
            "weighted avg       0.64      0.60      0.62      3046\n",
            "\n",
            "\n",
            " -------------------------------------------------- \n",
            "\n",
            "Model: NB\n",
            "Accuracy: 0.5437\n",
            "Balanced Accuracy: 0.5067\n",
            "Precision: 0.6412\n",
            "Recall: 0.5437\n",
            "F1 Score: 0.5760\n",
            "AUC: 0.5030\n",
            "\n",
            " Confusion Matrix: \n",
            "\n",
            "[[ 317  410]\n",
            " [ 980 1339]]\n",
            "\n",
            " Classification Report: \n",
            "\n",
            "              precision    recall  f1-score   support\n",
            "\n",
            "           0       0.24      0.44      0.31       727\n",
            "           1       0.77      0.58      0.66      2319\n",
            "\n",
            "    accuracy                           0.54      3046\n",
            "   macro avg       0.50      0.51      0.49      3046\n",
            "weighted avg       0.64      0.54      0.58      3046\n",
            "\n",
            "\n",
            " -------------------------------------------------- \n",
            "\n",
            "Model: ADA\n",
            "Accuracy: 0.4928\n",
            "Balanced Accuracy: 0.5059\n",
            "Precision: 0.6410\n",
            "Recall: 0.4928\n",
            "F1 Score: 0.5293\n",
            "AUC: 0.5058\n",
            "\n",
            " Confusion Matrix: \n",
            "\n",
            "[[ 386  341]\n",
            " [1204 1115]]\n",
            "\n",
            " Classification Report: \n",
            "\n",
            "              precision    recall  f1-score   support\n",
            "\n",
            "           0       0.24      0.53      0.33       727\n",
            "           1       0.77      0.48      0.59      2319\n",
            "\n",
            "    accuracy                           0.49      3046\n",
            "   macro avg       0.50      0.51      0.46      3046\n",
            "weighted avg       0.64      0.49      0.53      3046\n",
            "\n"
          ]
        }
      ],
      "source": [
        "# Prining the results for all the models\n",
        "for result in balanced_results:\n",
        "    print(f\"\\n {'-'*50} \\n\")\n",
        "    print(f\"Model: {result['model_name']}\")\n",
        "    print(f\"Accuracy: {result['accuracy']:.4f}\")\n",
        "    print(f\"Balanced Accuracy: {result['balanced_accuracy']:.4f}\")\n",
        "    print(f\"Precision: {result['precision']:.4f}\")\n",
        "    print(f\"Recall: {result['recall']:.4f}\")\n",
        "    print(f\"F1 Score: {result['f1']:.4f}\")\n",
        "    if result['auc'] is not None:\n",
        "        print(f\"AUC: {result['auc']:.4f}\")\n",
        "    \n",
        "    print(\"\\n Confusion Matrix: \\n\")\n",
        "    print(result['confusion_matrix'])\n",
        "    \n",
        "    print(\"\\n Classification Report: \\n\")\n",
        "    print(result['classification_report'])"
      ]
    },
    {
      "cell_type": "code",
      "execution_count": 215,
      "id": "dbb8c9e8",
      "metadata": {
        "language": "python"
      },
      "outputs": [
        {
          "data": {
            "image/png": "[encoded data removed]",
            "text/plain": [
              "<Figure size 2000x1600 with 17 Axes>"
            ]
          },
          "metadata": {},
          "output_type": "display_data"
        }
      ],
      "source": [
        "# Plotting confusion matrix for all the models that we trained\n",
        "fig, axes = plt.subplots(3, 3, figsize=(20, 16))\n",
        "axes = axes.flatten()\n",
        "\n",
        "for i, result in enumerate(balanced_results):\n",
        "    if i >= len(axes):\n",
        "        break\n",
        "        \n",
        "    model_name = result['model_name']\n",
        "    cm = result['confusion_matrix']\n",
        "    \n",
        "    sns.heatmap(cm, annot=True, fmt=\"d\", cmap=\"Blues\", ax=axes[i])\n",
        "    axes[i].set_title(f\"{model_name} - Confusion Matrix\")\n",
        "    axes[i].set_xlabel(\"Predicted\")\n",
        "    axes[i].set_ylabel(\"Actual\")\n",
        "\n",
        "plt.tight_layout()\n",
        "plt.show()"
      ]
    },
    {
      "cell_type": "markdown",
      "id": "82f2a67c",
      "metadata": {
        "language": "markdown"
      },
      "source": [
        "## 9. Models performance comparison"
      ]
    },
    {
      "cell_type": "code",
      "execution_count": 216,
      "id": "29fd93d0",
      "metadata": {
        "language": "python"
      },
      "outputs": [],
      "source": [
        "# Extracting metrics that we need for comparison\n",
        "def extract_metrics(results):\n",
        "    model_names = []\n",
        "    accuracies = []\n",
        "    balanced_accuracies = []\n",
        "    precisions = []\n",
        "    recalls = []\n",
        "    f1_scores = []\n",
        "    aucs = []\n",
        "    \n",
        "    # Appending all the metrics to the lists that we created above\n",
        "    for result in results:\n",
        "        model_names.append(result['model_name'])\n",
        "        accuracies.append(result['accuracy'])\n",
        "        balanced_accuracies.append(result['balanced_accuracy'])\n",
        "        precisions.append(result['precision'])\n",
        "        recalls.append(result['recall'])\n",
        "        f1_scores.append(result['f1'])\n",
        "        aucs.append(result['auc'] if result['auc'] is not None else np.nan)\n",
        "    \n",
        "    # Returnning the metrics in a form of dict\n",
        "    return {\n",
        "        'model_names': model_names,\n",
        "        'accuracies': accuracies,\n",
        "        'balanced_accuracies': balanced_accuracies,\n",
        "        'precisions': precisions,\n",
        "        'recalls': recalls,\n",
        "        'f1_scores': f1_scores,\n",
        "        'aucs': aucs\n",
        "    }"
      ]
    },
    {
      "cell_type": "code",
      "execution_count": 217,
      "id": "57032e8b",
      "metadata": {
        "language": "python"
      },
      "outputs": [],
      "source": [
        "# Creating a dataframe to compare the performances\n",
        "balanced_metrics = extract_metrics(balanced_results)\n",
        "\n",
        "metrics_df = pd.DataFrame({\n",
        "    'Model': balanced_metrics['model_names'],\n",
        "    'Accuracy': balanced_metrics['accuracies'],\n",
        "    'Balanced Accuracy': balanced_metrics['balanced_accuracies'],\n",
        "    'Precision': balanced_metrics['precisions'],\n",
        "    'Recall': balanced_metrics['recalls'],\n",
        "    'F1 Score': balanced_metrics['f1_scores'],\n",
        "    'AUC': balanced_metrics['aucs']\n",
        "})\n"
      ]
    },
    {
      "cell_type": "code",
      "execution_count": 218,
      "id": "d0913292",
      "metadata": {},
      "outputs": [],
      "source": [
        "# Soritng based on F1 score in a descending order\n",
        "metrics_df = metrics_df.sort_values(by='F1 Score', ascending=False)"
      ]
    },
    {
      "cell_type": "code",
      "execution_count": 219,
      "id": "ac73911c",
      "metadata": {},
      "outputs": [
        {
          "name": "stdout",
          "output_type": "stream",
          "text": [
            "\n",
            " Model Performance Comparison (sorted by F1 Score): \n",
            "\n"
          ]
        },
        {
          "data": {
            "text/html": [
              "<div>\n",
              "<style scoped>\n",
              "    .dataframe tbody tr th:only-of-type {\n",
              "        vertical-align: middle;\n",
              "    }\n",
              "\n",
              "    .dataframe tbody tr th {\n",
              "        vertical-align: top;\n",
              "    }\n",
              "\n",
              "    .dataframe thead th {\n",
              "        text-align: right;\n",
              "    }\n",
              "</style>\n",
              "<table border=\"1\" class=\"dataframe\">\n",
              "  <thead>\n",
              "    <tr style=\"text-align: right;\">\n",
              "      <th></th>\n",
              "      <th>Model</th>\n",
              "      <th>Accuracy</th>\n",
              "      <th>Balanced Accuracy</th>\n",
              "      <th>Precision</th>\n",
              "      <th>Recall</th>\n",
              "      <th>F1 Score</th>\n",
              "      <th>AUC</th>\n",
              "    </tr>\n",
              "  </thead>\n",
              "  <tbody>\n",
              "    <tr>\n",
              "      <th>5</th>\n",
              "      <td>LR</td>\n",
              "      <td>0.597177</td>\n",
              "      <td>0.508815</td>\n",
              "      <td>0.642547</td>\n",
              "      <td>0.597177</td>\n",
              "      <td>0.616121</td>\n",
              "      <td>0.507377</td>\n",
              "    </tr>\n",
              "    <tr>\n",
              "      <th>6</th>\n",
              "      <td>NB</td>\n",
              "      <td>0.543664</td>\n",
              "      <td>0.506721</td>\n",
              "      <td>0.641191</td>\n",
              "      <td>0.543664</td>\n",
              "      <td>0.575950</td>\n",
              "      <td>0.502999</td>\n",
              "    </tr>\n",
              "    <tr>\n",
              "      <th>4</th>\n",
              "      <td>ET</td>\n",
              "      <td>0.545962</td>\n",
              "      <td>0.479902</td>\n",
              "      <td>0.623016</td>\n",
              "      <td>0.545962</td>\n",
              "      <td>0.575003</td>\n",
              "      <td>0.476984</td>\n",
              "    </tr>\n",
              "    <tr>\n",
              "      <th>0</th>\n",
              "      <td>KNN</td>\n",
              "      <td>0.540709</td>\n",
              "      <td>0.509030</td>\n",
              "      <td>0.642804</td>\n",
              "      <td>0.540709</td>\n",
              "      <td>0.573627</td>\n",
              "      <td>0.511302</td>\n",
              "    </tr>\n",
              "    <tr>\n",
              "      <th>3</th>\n",
              "      <td>DT</td>\n",
              "      <td>0.509849</td>\n",
              "      <td>0.494901</td>\n",
              "      <td>0.632967</td>\n",
              "      <td>0.509849</td>\n",
              "      <td>0.545973</td>\n",
              "      <td>0.501085</td>\n",
              "    </tr>\n",
              "    <tr>\n",
              "      <th>1</th>\n",
              "      <td>RF</td>\n",
              "      <td>0.500000</td>\n",
              "      <td>0.483711</td>\n",
              "      <td>0.625000</td>\n",
              "      <td>0.500000</td>\n",
              "      <td>0.536862</td>\n",
              "      <td>0.488364</td>\n",
              "    </tr>\n",
              "    <tr>\n",
              "      <th>7</th>\n",
              "      <td>ADA</td>\n",
              "      <td>0.492777</td>\n",
              "      <td>0.505880</td>\n",
              "      <td>0.640963</td>\n",
              "      <td>0.492777</td>\n",
              "      <td>0.529261</td>\n",
              "      <td>0.505764</td>\n",
              "    </tr>\n",
              "    <tr>\n",
              "      <th>2</th>\n",
              "      <td>GB</td>\n",
              "      <td>0.409718</td>\n",
              "      <td>0.490519</td>\n",
              "      <td>0.627631</td>\n",
              "      <td>0.409718</td>\n",
              "      <td>0.435267</td>\n",
              "      <td>0.481694</td>\n",
              "    </tr>\n",
              "  </tbody>\n",
              "</table>\n",
              "</div>"
            ],
            "text/plain": [
              "  Model  Accuracy  Balanced Accuracy  Precision    Recall  F1 Score       AUC\n",
              "5    LR  0.597177           0.508815   0.642547  0.597177  0.616121  0.507377\n",
              "6    NB  0.543664           0.506721   0.641191  0.543664  0.575950  0.502999\n",
              "4    ET  0.545962           0.479902   0.623016  0.545962  0.575003  0.476984\n",
              "0   KNN  0.540709           0.509030   0.642804  0.540709  0.573627  0.511302\n",
              "3    DT  0.509849           0.494901   0.632967  0.509849  0.545973  0.501085\n",
              "1    RF  0.500000           0.483711   0.625000  0.500000  0.536862  0.488364\n",
              "7   ADA  0.492777           0.505880   0.640963  0.492777  0.529261  0.505764\n",
              "2    GB  0.409718           0.490519   0.627631  0.409718  0.435267  0.481694"
            ]
          },
          "execution_count": 219,
          "metadata": {},
          "output_type": "execute_result"
        }
      ],
      "source": [
        "# Printing comparison table\n",
        "print(\"\\n Model Performance Comparison (sorted by F1 Score): \\n\")\n",
        "metrics_df"
      ]
    },
    {
      "cell_type": "code",
      "execution_count": 220,
      "id": "4229cb3d",
      "metadata": {},
      "outputs": [],
      "source": [
        "# For plotting the metrics in bar graph\n",
        "metrics_to_plot = ['Accuracy', 'Balanced Accuracy', 'Precision', 'Recall', 'F1 Score']\n",
        "plot_df = metrics_df.melt(id_vars='Model', value_vars=metrics_to_plot, var_name='Metric', value_name='Score')"
      ]
    },
    {
      "cell_type": "code",
      "execution_count": 221,
      "id": "c5f2e76f",
      "metadata": {
        "language": "python"
      },
      "outputs": [
        {
          "data": {
            "image/png": "[encoded data removed]",
            "text/plain": [
              "<Figure size 1600x800 with 1 Axes>"
            ]
          },
          "metadata": {},
          "output_type": "display_data"
        }
      ],
      "source": [
        "# Plotting the bar graph\n",
        "plt.figure(figsize=(16, 8))\n",
        "sns.barplot(x='Model', y='Score', hue='Metric', data=plot_df)\n",
        "plt.title('Model Performance Comparison', fontsize=16)\n",
        "plt.xlabel('Model', fontsize=12)\n",
        "plt.ylabel('Score', fontsize=12)\n",
        "plt.ylim(0, 1.0)\n",
        "plt.xticks(rotation=45)\n",
        "plt.grid(axis='y', linestyle='--', alpha=0.7)\n",
        "plt.legend(title='Metric', title_fontsize=12)\n",
        "plt.tight_layout()\n",
        "plt.show()"
      ]
    },
    {
      "cell_type": "markdown",
      "id": "252211e6",
      "metadata": {
        "language": "markdown"
      },
      "source": [
        "## 10. Selecting the model based on best F1 score"
      ]
    },
    {
      "cell_type": "code",
      "execution_count": 222,
      "id": "b1c3d95d",
      "metadata": {},
      "outputs": [],
      "source": [
        "# Finding best model based on F1 score\n",
        "best_model_idx = metrics_df['F1 Score'].idxmax()\n",
        "best_model_info = metrics_df.loc[best_model_idx]"
      ]
    },
    {
      "cell_type": "code",
      "execution_count": 223,
      "id": "8098584a",
      "metadata": {
        "language": "python"
      },
      "outputs": [
        {
          "name": "stdout",
          "output_type": "stream",
          "text": [
            "\n",
            " Best model based on F1 score: LR \n",
            "\n",
            "F1 Score: 0.6161\n",
            "Accuracy: 0.5972\n",
            "Balanced Accuracy: 0.5088\n",
            "Precision: 0.6425\n",
            "Recall: 0.5972\n",
            "AUC: 0.5074\n"
          ]
        }
      ],
      "source": [
        "# Printing the metrics for the best models that we selected\n",
        "print(f\"\\n Best model based on F1 score: {best_model_info['Model']} \\n\")\n",
        "print(f\"F1 Score: {best_model_info['F1 Score']:.4f}\")\n",
        "print(f\"Accuracy: {best_model_info['Accuracy']:.4f}\")\n",
        "print(f\"Balanced Accuracy: {best_model_info['Balanced Accuracy']:.4f}\")\n",
        "print(f\"Precision: {best_model_info['Precision']:.4f}\")\n",
        "print(f\"Recall: {best_model_info['Recall']:.4f}\")\n",
        "if not np.isnan(best_model_info['AUC']):\n",
        "    print(f\"AUC: {best_model_info['AUC']:.4f}\")"
      ]
    },
    {
      "cell_type": "markdown",
      "id": "71378539",
      "metadata": {},
      "source": [
        "## 11. Saving the best model for streamlit deployment"
      ]
    },
    {
      "cell_type": "code",
      "execution_count": 224,
      "id": "1e75d611",
      "metadata": {},
      "outputs": [
        {
          "name": "stdout",
          "output_type": "stream",
          "text": [
            "Saving LR model since it performed best with F1 score of 0.6161\n"
          ]
        }
      ],
      "source": [
        "# Saving our best model \n",
        "best_model_name = best_model_info['Model']\n",
        "print(f\"Saving {best_model_name} model since it performed best with F1 score of {best_model_info['F1 Score']:.4f}\")\n",
        "best_model = optimized_models[best_model_name]"
      ]
    },
    {
      "cell_type": "code",
      "execution_count": 225,
      "id": "68f27063",
      "metadata": {},
      "outputs": [],
      "source": [
        "# Creating a pipeline with preprocessing\n",
        "complete_pipeline = Pipeline([\n",
        "    ('preprocessor', preprocessor),\n",
        "    ('model', best_model)\n",
        "])"
      ]
    },
    {
      "cell_type": "code",
      "execution_count": 226,
      "id": "666ec173",
      "metadata": {},
      "outputs": [
        {
          "name": "stderr",
          "output_type": "stream",
          "text": [
            "c:\\Users\\potda\\AppData\\Local\\Programs\\Python\\Python312\\Lib\\site-packages\\sklearn\\linear_model\\_sag.py:348: ConvergenceWarning:\n",
            "\n",
            "The max_iter was reached which means the coef_ did not converge\n",
            "\n"
          ]
        }
      ],
      "source": [
        "# Fitting the pipeline on the training data\n",
        "complete_pipeline.fit(X_train, y_train_causality)\n",
        "\n",
        "# Creating a filename\n",
        "model_filename = os.path.join(f\"{best_model_name}_model.pkl\")"
      ]
    },
    {
      "cell_type": "code",
      "execution_count": 227,
      "id": "17fc8b77",
      "metadata": {},
      "outputs": [
        {
          "name": "stdout",
          "output_type": "stream",
          "text": [
            "Model saved to LR_model.pkl\n"
          ]
        }
      ],
      "source": [
        "# Saving the pipeline\n",
        "with open(model_filename, 'wb') as file:\n",
        "    pickle.dump(complete_pipeline, file)\n",
        "\n",
        "print(f\"Model saved to {model_filename}\")"
      ]
    },
    {
      "cell_type": "markdown",
      "id": "fc9fed76",
      "metadata": {},
      "source": [
        "## END"
      ]
    }
  ],
  "metadata": {
    "kernelspec": {
      "display_name": "Python 3",
      "language": "python",
      "name": "python3"
    },
    "language_info": {
      "codemirror_mode": {
        "name": "ipython",
        "version": 3
      },
      "file_extension": ".py",
      "mimetype": "text/x-python",
      "name": "python",
      "nbconvert_exporter": "python",
      "pygments_lexer": "ipython3",
      "version": "3.12.8"
    }
  },
  "nbformat": 4,
  "nbformat_minor": 5
}
